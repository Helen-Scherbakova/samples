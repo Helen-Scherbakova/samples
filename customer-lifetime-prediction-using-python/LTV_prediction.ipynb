{
 "cells": [
  {
   "cell_type": "markdown",
   "metadata": {},
   "source": [
    "#Тестовая работа"
   ]
  },
  {
   "cell_type": "code",
   "execution_count": 1,
   "metadata": {},
   "outputs": [],
   "source": [
    "# Импортируем необходимые библиотеки\n",
    "import pandas as pd\n",
    "import numpy as np\n",
    "import seaborn as sns\n",
    "import matplotlib.pyplot as plt\n",
    "from scipy import stats as st\n",
    "import datetime\n",
    "import math\n",
    "from IPython.display import display"
   ]
  },
  {
   "cell_type": "code",
   "execution_count": 2,
   "metadata": {},
   "outputs": [
    {
     "name": "stdout",
     "output_type": "stream",
     "text": [
      "Defaulting to user installation because normal site-packages is not writeable\n",
      "Requirement already satisfied: lifetimes in /home/jovyan/.local/lib/python3.7/site-packages (0.11.3)\n",
      "Requirement already satisfied: dill>=0.2.6 in /home/jovyan/.local/lib/python3.7/site-packages (from lifetimes) (0.3.4)\n",
      "Requirement already satisfied: scipy>=1.0.0 in /opt/conda/lib/python3.7/site-packages (from lifetimes) (1.4.1)\n",
      "Requirement already satisfied: pandas>=0.24.0 in /opt/conda/lib/python3.7/site-packages (from lifetimes) (0.25.1)\n",
      "Requirement already satisfied: autograd>=1.2.0 in /home/jovyan/.local/lib/python3.7/site-packages (from lifetimes) (1.3)\n",
      "Requirement already satisfied: numpy>=1.10.0 in /opt/conda/lib/python3.7/site-packages (from lifetimes) (1.19.5)\n",
      "Requirement already satisfied: pytz>=2017.2 in /opt/conda/lib/python3.7/site-packages (from pandas>=0.24.0->lifetimes) (2021.1)\n",
      "Requirement already satisfied: python-dateutil>=2.6.1 in /opt/conda/lib/python3.7/site-packages (from pandas>=0.24.0->lifetimes) (2.8.1)\n",
      "Requirement already satisfied: future>=0.15.2 in /opt/conda/lib/python3.7/site-packages (from autograd>=1.2.0->lifetimes) (0.18.2)\n",
      "Requirement already satisfied: six>=1.5 in /opt/conda/lib/python3.7/site-packages (from python-dateutil>=2.6.1->pandas>=0.24.0->lifetimes) (1.15.0)\n",
      "Note: you may need to restart the kernel to use updated packages.\n"
     ]
    }
   ],
   "source": [
    "pip install lifetimes"
   ]
  },
  {
   "cell_type": "code",
   "execution_count": 3,
   "metadata": {},
   "outputs": [],
   "source": [
    "import lifetimes\n",
    "from lifetimes.plotting import plot_period_transactions\n",
    "from lifetimes.plotting import plot_probability_alive_matrix"
   ]
  },
  {
   "cell_type": "code",
   "execution_count": 4,
   "metadata": {},
   "outputs": [],
   "source": [
    "dt = pd.read_excel('test_case.xlsx')"
   ]
  },
  {
   "cell_type": "code",
   "execution_count": 5,
   "metadata": {},
   "outputs": [
    {
     "data": {
      "text/html": [
       "<div>\n",
       "<style scoped>\n",
       "    .dataframe tbody tr th:only-of-type {\n",
       "        vertical-align: middle;\n",
       "    }\n",
       "\n",
       "    .dataframe tbody tr th {\n",
       "        vertical-align: top;\n",
       "    }\n",
       "\n",
       "    .dataframe thead th {\n",
       "        text-align: right;\n",
       "    }\n",
       "</style>\n",
       "<table border=\"1\" class=\"dataframe\">\n",
       "  <thead>\n",
       "    <tr style=\"text-align: right;\">\n",
       "      <th></th>\n",
       "      <th>product_id</th>\n",
       "      <th>quantity</th>\n",
       "      <th>is_trial_period</th>\n",
       "      <th>purchase_date</th>\n",
       "      <th>user_id</th>\n",
       "    </tr>\n",
       "  </thead>\n",
       "  <tbody>\n",
       "    <tr>\n",
       "      <td>0</td>\n",
       "      <td>1week_4.99_USD_subscription_7days_trial</td>\n",
       "      <td>1</td>\n",
       "      <td>False</td>\n",
       "      <td>2020-02-19</td>\n",
       "      <td>9484222</td>\n",
       "    </tr>\n",
       "    <tr>\n",
       "      <td>1</td>\n",
       "      <td>1week_4.99_USD_subscription_7days_trial</td>\n",
       "      <td>1</td>\n",
       "      <td>False</td>\n",
       "      <td>2020-02-17</td>\n",
       "      <td>9422402</td>\n",
       "    </tr>\n",
       "    <tr>\n",
       "      <td>2</td>\n",
       "      <td>1week_4.99_USD_subscription_7days_trial</td>\n",
       "      <td>1</td>\n",
       "      <td>False</td>\n",
       "      <td>2020-02-18</td>\n",
       "      <td>4997991</td>\n",
       "    </tr>\n",
       "    <tr>\n",
       "      <td>3</td>\n",
       "      <td>1week_4.99_USD_subscription_7days_trial</td>\n",
       "      <td>1</td>\n",
       "      <td>False</td>\n",
       "      <td>2020-02-18</td>\n",
       "      <td>9455582</td>\n",
       "    </tr>\n",
       "    <tr>\n",
       "      <td>4</td>\n",
       "      <td>1week_4.99_USD_subscription_7days_trial</td>\n",
       "      <td>1</td>\n",
       "      <td>False</td>\n",
       "      <td>2020-02-16</td>\n",
       "      <td>8803657</td>\n",
       "    </tr>\n",
       "  </tbody>\n",
       "</table>\n",
       "</div>"
      ],
      "text/plain": [
       "                                product_id  quantity  is_trial_period  \\\n",
       "0  1week_4.99_USD_subscription_7days_trial         1            False   \n",
       "1  1week_4.99_USD_subscription_7days_trial         1            False   \n",
       "2  1week_4.99_USD_subscription_7days_trial         1            False   \n",
       "3  1week_4.99_USD_subscription_7days_trial         1            False   \n",
       "4  1week_4.99_USD_subscription_7days_trial         1            False   \n",
       "\n",
       "  purchase_date  user_id  \n",
       "0    2020-02-19  9484222  \n",
       "1    2020-02-17  9422402  \n",
       "2    2020-02-18  4997991  \n",
       "3    2020-02-18  9455582  \n",
       "4    2020-02-16  8803657  "
      ]
     },
     "metadata": {},
     "output_type": "display_data"
    }
   ],
   "source": [
    "display(dt.head(5))"
   ]
  },
  {
   "cell_type": "code",
   "execution_count": 6,
   "metadata": {},
   "outputs": [
    {
     "name": "stdout",
     "output_type": "stream",
     "text": [
      "<class 'pandas.core.frame.DataFrame'>\n",
      "RangeIndex: 114200 entries, 0 to 114199\n",
      "Data columns (total 5 columns):\n",
      "product_id         114200 non-null object\n",
      "quantity           114200 non-null int64\n",
      "is_trial_period    114200 non-null bool\n",
      "purchase_date      114200 non-null datetime64[ns]\n",
      "user_id            114200 non-null int64\n",
      "dtypes: bool(1), datetime64[ns](1), int64(2), object(1)\n",
      "memory usage: 3.6+ MB\n"
     ]
    }
   ],
   "source": [
    "dt.info()"
   ]
  },
  {
   "cell_type": "code",
   "execution_count": 7,
   "metadata": {},
   "outputs": [
    {
     "data": {
      "text/plain": [
       "count                  114200\n",
       "unique                     51\n",
       "top       2020-02-13 00:00:00\n",
       "freq                     3345\n",
       "first     2020-01-01 00:00:00\n",
       "last      2020-02-20 00:00:00\n",
       "Name: purchase_date, dtype: object"
      ]
     },
     "execution_count": 7,
     "metadata": {},
     "output_type": "execute_result"
    }
   ],
   "source": [
    "dt['purchase_date'].describe() "
   ]
  },
  {
   "cell_type": "markdown",
   "metadata": {},
   "source": [
    "**Вывод:** Нами получен датасет, содержащий 114 200 записей без пропусков, за период с 01.01.2020 по 20.02.2020 (51 день). Все типы данных и названия столбцов корректны."
   ]
  },
  {
   "cell_type": "markdown",
   "metadata": {},
   "source": [
    "## Корректировка данных"
   ]
  },
  {
   "cell_type": "markdown",
   "metadata": {},
   "source": [
    "Для удобства дальнейшей работы изменим тип данных для столбцов quantity и user_id. "
   ]
  },
  {
   "cell_type": "code",
   "execution_count": 8,
   "metadata": {},
   "outputs": [],
   "source": [
    "dt['quantity'] = dt['quantity'].astype('int8') #В столбце есть только единичные значения."
   ]
  },
  {
   "cell_type": "code",
   "execution_count": 9,
   "metadata": {},
   "outputs": [],
   "source": [
    "dt['user_id'] = dt['user_id'].astype('int32')"
   ]
  },
  {
   "cell_type": "code",
   "execution_count": 10,
   "metadata": {},
   "outputs": [
    {
     "data": {
      "text/plain": [
       "84"
      ]
     },
     "execution_count": 10,
     "metadata": {},
     "output_type": "execute_result"
    }
   ],
   "source": [
    "dt.duplicated().sum() #Проверим дубликабы в датасете"
   ]
  },
  {
   "cell_type": "code",
   "execution_count": 11,
   "metadata": {},
   "outputs": [
    {
     "data": {
      "text/html": [
       "<div>\n",
       "<style scoped>\n",
       "    .dataframe tbody tr th:only-of-type {\n",
       "        vertical-align: middle;\n",
       "    }\n",
       "\n",
       "    .dataframe tbody tr th {\n",
       "        vertical-align: top;\n",
       "    }\n",
       "\n",
       "    .dataframe thead th {\n",
       "        text-align: right;\n",
       "    }\n",
       "</style>\n",
       "<table border=\"1\" class=\"dataframe\">\n",
       "  <thead>\n",
       "    <tr style=\"text-align: right;\">\n",
       "      <th></th>\n",
       "      <th>product_id</th>\n",
       "      <th>quantity</th>\n",
       "      <th>is_trial_period</th>\n",
       "      <th>purchase_date</th>\n",
       "      <th>user_id</th>\n",
       "    </tr>\n",
       "  </thead>\n",
       "  <tbody>\n",
       "    <tr>\n",
       "      <td>74432</td>\n",
       "      <td>1week_4.99_USD_subscription_7days_trial</td>\n",
       "      <td>1</td>\n",
       "      <td>False</td>\n",
       "      <td>2020-01-24</td>\n",
       "      <td>1335694</td>\n",
       "    </tr>\n",
       "    <tr>\n",
       "      <td>82201</td>\n",
       "      <td>1week_4.99_USD_subscription_7days_trial</td>\n",
       "      <td>1</td>\n",
       "      <td>False</td>\n",
       "      <td>2020-01-24</td>\n",
       "      <td>1335694</td>\n",
       "    </tr>\n",
       "    <tr>\n",
       "      <td>9344</td>\n",
       "      <td>1week_4.99_USD_subscription_7days_trial</td>\n",
       "      <td>1</td>\n",
       "      <td>True</td>\n",
       "      <td>2020-01-10</td>\n",
       "      <td>1639577</td>\n",
       "    </tr>\n",
       "    <tr>\n",
       "      <td>8316</td>\n",
       "      <td>1week_4.99_USD_subscription_7days_trial</td>\n",
       "      <td>1</td>\n",
       "      <td>True</td>\n",
       "      <td>2020-01-10</td>\n",
       "      <td>1639577</td>\n",
       "    </tr>\n",
       "    <tr>\n",
       "      <td>94832</td>\n",
       "      <td>1week_4.99_USD_subscription_7days_trial</td>\n",
       "      <td>1</td>\n",
       "      <td>False</td>\n",
       "      <td>2020-02-11</td>\n",
       "      <td>5943648</td>\n",
       "    </tr>\n",
       "    <tr>\n",
       "      <td>...</td>\n",
       "      <td>...</td>\n",
       "      <td>...</td>\n",
       "      <td>...</td>\n",
       "      <td>...</td>\n",
       "      <td>...</td>\n",
       "    </tr>\n",
       "    <tr>\n",
       "      <td>82951</td>\n",
       "      <td>1week_4.99_USD_subscription_7days_trial</td>\n",
       "      <td>1</td>\n",
       "      <td>False</td>\n",
       "      <td>2020-02-16</td>\n",
       "      <td>9584301</td>\n",
       "    </tr>\n",
       "    <tr>\n",
       "      <td>57784</td>\n",
       "      <td>1week_4.99_USD_subscription_7days_trial</td>\n",
       "      <td>1</td>\n",
       "      <td>False</td>\n",
       "      <td>2020-02-16</td>\n",
       "      <td>9584301</td>\n",
       "    </tr>\n",
       "    <tr>\n",
       "      <td>83300</td>\n",
       "      <td>1week_4.99_USD_subscription_7days_trial</td>\n",
       "      <td>1</td>\n",
       "      <td>False</td>\n",
       "      <td>2020-02-16</td>\n",
       "      <td>9584301</td>\n",
       "    </tr>\n",
       "    <tr>\n",
       "      <td>75010</td>\n",
       "      <td>1week_4.99_USD_subscription_7days_trial</td>\n",
       "      <td>1</td>\n",
       "      <td>True</td>\n",
       "      <td>2020-02-16</td>\n",
       "      <td>9591977</td>\n",
       "    </tr>\n",
       "    <tr>\n",
       "      <td>10722</td>\n",
       "      <td>1week_4.99_USD_subscription_7days_trial</td>\n",
       "      <td>1</td>\n",
       "      <td>True</td>\n",
       "      <td>2020-02-16</td>\n",
       "      <td>9591977</td>\n",
       "    </tr>\n",
       "  </tbody>\n",
       "</table>\n",
       "<p>149 rows × 5 columns</p>\n",
       "</div>"
      ],
      "text/plain": [
       "                                    product_id  quantity  is_trial_period  \\\n",
       "74432  1week_4.99_USD_subscription_7days_trial         1            False   \n",
       "82201  1week_4.99_USD_subscription_7days_trial         1            False   \n",
       "9344   1week_4.99_USD_subscription_7days_trial         1             True   \n",
       "8316   1week_4.99_USD_subscription_7days_trial         1             True   \n",
       "94832  1week_4.99_USD_subscription_7days_trial         1            False   \n",
       "...                                        ...       ...              ...   \n",
       "82951  1week_4.99_USD_subscription_7days_trial         1            False   \n",
       "57784  1week_4.99_USD_subscription_7days_trial         1            False   \n",
       "83300  1week_4.99_USD_subscription_7days_trial         1            False   \n",
       "75010  1week_4.99_USD_subscription_7days_trial         1             True   \n",
       "10722  1week_4.99_USD_subscription_7days_trial         1             True   \n",
       "\n",
       "      purchase_date  user_id  \n",
       "74432    2020-01-24  1335694  \n",
       "82201    2020-01-24  1335694  \n",
       "9344     2020-01-10  1639577  \n",
       "8316     2020-01-10  1639577  \n",
       "94832    2020-02-11  5943648  \n",
       "...             ...      ...  \n",
       "82951    2020-02-16  9584301  \n",
       "57784    2020-02-16  9584301  \n",
       "83300    2020-02-16  9584301  \n",
       "75010    2020-02-16  9591977  \n",
       "10722    2020-02-16  9591977  \n",
       "\n",
       "[149 rows x 5 columns]"
      ]
     },
     "execution_count": 11,
     "metadata": {},
     "output_type": "execute_result"
    }
   ],
   "source": [
    "dt[dt.duplicated(keep=False)].sort_values(by=['user_id']) #Проверим визуально, что у нас за дубликаты"
   ]
  },
  {
   "cell_type": "markdown",
   "metadata": {},
   "source": [
    "Так как у нас в файле есть только данные о транзакциях - либо оформление пробной подписки, либо оплата после завершения пробного периода - задвоений быть не может и мы их удалим. "
   ]
  },
  {
   "cell_type": "code",
   "execution_count": 12,
   "metadata": {},
   "outputs": [
    {
     "data": {
      "text/html": [
       "<div>\n",
       "<style scoped>\n",
       "    .dataframe tbody tr th:only-of-type {\n",
       "        vertical-align: middle;\n",
       "    }\n",
       "\n",
       "    .dataframe tbody tr th {\n",
       "        vertical-align: top;\n",
       "    }\n",
       "\n",
       "    .dataframe thead th {\n",
       "        text-align: right;\n",
       "    }\n",
       "</style>\n",
       "<table border=\"1\" class=\"dataframe\">\n",
       "  <thead>\n",
       "    <tr style=\"text-align: right;\">\n",
       "      <th></th>\n",
       "      <th>product_id</th>\n",
       "      <th>quantity</th>\n",
       "      <th>is_trial_period</th>\n",
       "      <th>purchase_date</th>\n",
       "      <th>user_id</th>\n",
       "    </tr>\n",
       "  </thead>\n",
       "  <tbody>\n",
       "    <tr>\n",
       "      <td>0</td>\n",
       "      <td>1week_4.99_USD_subscription_7days_trial</td>\n",
       "      <td>1</td>\n",
       "      <td>False</td>\n",
       "      <td>2020-02-19</td>\n",
       "      <td>9484222</td>\n",
       "    </tr>\n",
       "    <tr>\n",
       "      <td>1</td>\n",
       "      <td>1week_4.99_USD_subscription_7days_trial</td>\n",
       "      <td>1</td>\n",
       "      <td>False</td>\n",
       "      <td>2020-02-17</td>\n",
       "      <td>9422402</td>\n",
       "    </tr>\n",
       "    <tr>\n",
       "      <td>2</td>\n",
       "      <td>1week_4.99_USD_subscription_7days_trial</td>\n",
       "      <td>1</td>\n",
       "      <td>False</td>\n",
       "      <td>2020-02-18</td>\n",
       "      <td>4997991</td>\n",
       "    </tr>\n",
       "    <tr>\n",
       "      <td>3</td>\n",
       "      <td>1week_4.99_USD_subscription_7days_trial</td>\n",
       "      <td>1</td>\n",
       "      <td>False</td>\n",
       "      <td>2020-02-18</td>\n",
       "      <td>9455582</td>\n",
       "    </tr>\n",
       "    <tr>\n",
       "      <td>4</td>\n",
       "      <td>1week_4.99_USD_subscription_7days_trial</td>\n",
       "      <td>1</td>\n",
       "      <td>False</td>\n",
       "      <td>2020-02-16</td>\n",
       "      <td>8803657</td>\n",
       "    </tr>\n",
       "    <tr>\n",
       "      <td>...</td>\n",
       "      <td>...</td>\n",
       "      <td>...</td>\n",
       "      <td>...</td>\n",
       "      <td>...</td>\n",
       "      <td>...</td>\n",
       "    </tr>\n",
       "    <tr>\n",
       "      <td>114111</td>\n",
       "      <td>1week_4.99_USD_subscription_7days_trial</td>\n",
       "      <td>1</td>\n",
       "      <td>True</td>\n",
       "      <td>2020-01-04</td>\n",
       "      <td>8291100</td>\n",
       "    </tr>\n",
       "    <tr>\n",
       "      <td>114112</td>\n",
       "      <td>1week_4.99_USD_subscription_7days_trial</td>\n",
       "      <td>1</td>\n",
       "      <td>True</td>\n",
       "      <td>2020-01-02</td>\n",
       "      <td>8236936</td>\n",
       "    </tr>\n",
       "    <tr>\n",
       "      <td>114113</td>\n",
       "      <td>1week_4.99_USD_subscription_7days_trial</td>\n",
       "      <td>1</td>\n",
       "      <td>True</td>\n",
       "      <td>2020-01-03</td>\n",
       "      <td>8247910</td>\n",
       "    </tr>\n",
       "    <tr>\n",
       "      <td>114114</td>\n",
       "      <td>1week_4.99_USD_subscription_7days_trial</td>\n",
       "      <td>1</td>\n",
       "      <td>True</td>\n",
       "      <td>2020-01-04</td>\n",
       "      <td>8294146</td>\n",
       "    </tr>\n",
       "    <tr>\n",
       "      <td>114115</td>\n",
       "      <td>1week_4.99_USD_subscription_7days_trial</td>\n",
       "      <td>1</td>\n",
       "      <td>True</td>\n",
       "      <td>2020-01-03</td>\n",
       "      <td>8274954</td>\n",
       "    </tr>\n",
       "  </tbody>\n",
       "</table>\n",
       "<p>114116 rows × 5 columns</p>\n",
       "</div>"
      ],
      "text/plain": [
       "                                     product_id  quantity  is_trial_period  \\\n",
       "0       1week_4.99_USD_subscription_7days_trial         1            False   \n",
       "1       1week_4.99_USD_subscription_7days_trial         1            False   \n",
       "2       1week_4.99_USD_subscription_7days_trial         1            False   \n",
       "3       1week_4.99_USD_subscription_7days_trial         1            False   \n",
       "4       1week_4.99_USD_subscription_7days_trial         1            False   \n",
       "...                                         ...       ...              ...   \n",
       "114111  1week_4.99_USD_subscription_7days_trial         1             True   \n",
       "114112  1week_4.99_USD_subscription_7days_trial         1             True   \n",
       "114113  1week_4.99_USD_subscription_7days_trial         1             True   \n",
       "114114  1week_4.99_USD_subscription_7days_trial         1             True   \n",
       "114115  1week_4.99_USD_subscription_7days_trial         1             True   \n",
       "\n",
       "       purchase_date  user_id  \n",
       "0         2020-02-19  9484222  \n",
       "1         2020-02-17  9422402  \n",
       "2         2020-02-18  4997991  \n",
       "3         2020-02-18  9455582  \n",
       "4         2020-02-16  8803657  \n",
       "...              ...      ...  \n",
       "114111    2020-01-04  8291100  \n",
       "114112    2020-01-02  8236936  \n",
       "114113    2020-01-03  8247910  \n",
       "114114    2020-01-04  8294146  \n",
       "114115    2020-01-03  8274954  \n",
       "\n",
       "[114116 rows x 5 columns]"
      ]
     },
     "execution_count": 12,
     "metadata": {},
     "output_type": "execute_result"
    }
   ],
   "source": [
    "dt.drop_duplicates().reset_index(drop=True) #Удалим дубликаты"
   ]
  },
  {
   "cell_type": "code",
   "execution_count": 13,
   "metadata": {},
   "outputs": [
    {
     "name": "stdout",
     "output_type": "stream",
     "text": [
      "<class 'pandas.core.frame.DataFrame'>\n",
      "RangeIndex: 114200 entries, 0 to 114199\n",
      "Data columns (total 5 columns):\n",
      "product_id         114200 non-null object\n",
      "quantity           114200 non-null int8\n",
      "is_trial_period    114200 non-null bool\n",
      "purchase_date      114200 non-null datetime64[ns]\n",
      "user_id            114200 non-null int32\n",
      "dtypes: bool(1), datetime64[ns](1), int32(1), int8(1), object(1)\n",
      "memory usage: 2.4+ MB\n"
     ]
    }
   ],
   "source": [
    "dt.info()"
   ]
  },
  {
   "cell_type": "markdown",
   "metadata": {},
   "source": [
    "**Вывод:** Теперь данные не содержат дубликатов и готовы к обработке."
   ]
  },
  {
   "cell_type": "markdown",
   "metadata": {},
   "source": [
    "## Расчет LTV"
   ]
  },
  {
   "cell_type": "code",
   "execution_count": 14,
   "metadata": {},
   "outputs": [
    {
     "data": {
      "text/html": [
       "<div>\n",
       "<style scoped>\n",
       "    .dataframe tbody tr th:only-of-type {\n",
       "        vertical-align: middle;\n",
       "    }\n",
       "\n",
       "    .dataframe tbody tr th {\n",
       "        vertical-align: top;\n",
       "    }\n",
       "\n",
       "    .dataframe thead th {\n",
       "        text-align: right;\n",
       "    }\n",
       "</style>\n",
       "<table border=\"1\" class=\"dataframe\">\n",
       "  <thead>\n",
       "    <tr style=\"text-align: right;\">\n",
       "      <th></th>\n",
       "      <th>product_id</th>\n",
       "      <th>quantity</th>\n",
       "      <th>is_trial_period</th>\n",
       "      <th>purchase_date</th>\n",
       "      <th>user_id</th>\n",
       "      <th>revenue</th>\n",
       "    </tr>\n",
       "  </thead>\n",
       "  <tbody>\n",
       "    <tr>\n",
       "      <td>52131</td>\n",
       "      <td>1week_4.99_USD_subscription_7days_trial</td>\n",
       "      <td>1</td>\n",
       "      <td>False</td>\n",
       "      <td>2020-02-08</td>\n",
       "      <td>8320857</td>\n",
       "      <td>4.99</td>\n",
       "    </tr>\n",
       "    <tr>\n",
       "      <td>14751</td>\n",
       "      <td>1week_4.99_USD_subscription_7days_trial</td>\n",
       "      <td>1</td>\n",
       "      <td>True</td>\n",
       "      <td>2020-02-13</td>\n",
       "      <td>9506029</td>\n",
       "      <td>0.00</td>\n",
       "    </tr>\n",
       "    <tr>\n",
       "      <td>32630</td>\n",
       "      <td>1week_4.99_USD_subscription_7days_trial</td>\n",
       "      <td>1</td>\n",
       "      <td>True</td>\n",
       "      <td>2020-02-11</td>\n",
       "      <td>9465532</td>\n",
       "      <td>0.00</td>\n",
       "    </tr>\n",
       "    <tr>\n",
       "      <td>1347</td>\n",
       "      <td>1week_4.99_USD_subscription_7days_trial</td>\n",
       "      <td>1</td>\n",
       "      <td>False</td>\n",
       "      <td>2020-02-13</td>\n",
       "      <td>9093299</td>\n",
       "      <td>4.99</td>\n",
       "    </tr>\n",
       "    <tr>\n",
       "      <td>6145</td>\n",
       "      <td>1week_4.99_USD_subscription_7days_trial</td>\n",
       "      <td>1</td>\n",
       "      <td>True</td>\n",
       "      <td>2020-02-14</td>\n",
       "      <td>9543270</td>\n",
       "      <td>0.00</td>\n",
       "    </tr>\n",
       "  </tbody>\n",
       "</table>\n",
       "</div>"
      ],
      "text/plain": [
       "                                    product_id  quantity  is_trial_period  \\\n",
       "52131  1week_4.99_USD_subscription_7days_trial         1            False   \n",
       "14751  1week_4.99_USD_subscription_7days_trial         1             True   \n",
       "32630  1week_4.99_USD_subscription_7days_trial         1             True   \n",
       "1347   1week_4.99_USD_subscription_7days_trial         1            False   \n",
       "6145   1week_4.99_USD_subscription_7days_trial         1             True   \n",
       "\n",
       "      purchase_date  user_id  revenue  \n",
       "52131    2020-02-08  8320857     4.99  \n",
       "14751    2020-02-13  9506029     0.00  \n",
       "32630    2020-02-11  9465532     0.00  \n",
       "1347     2020-02-13  9093299     4.99  \n",
       "6145     2020-02-14  9543270     0.00  "
      ]
     },
     "execution_count": 14,
     "metadata": {},
     "output_type": "execute_result"
    }
   ],
   "source": [
    "dt['revenue'] = np.where(dt['is_trial_period']!= True, 4.99, 0) \n",
    "#Добавим выручку для тех пользователей, у кого закончился тестовый период\n",
    "dt.sample(5)"
   ]
  },
  {
   "cell_type": "code",
   "execution_count": 15,
   "metadata": {},
   "outputs": [
    {
     "data": {
      "text/html": [
       "<div>\n",
       "<style scoped>\n",
       "    .dataframe tbody tr th:only-of-type {\n",
       "        vertical-align: middle;\n",
       "    }\n",
       "\n",
       "    .dataframe tbody tr th {\n",
       "        vertical-align: top;\n",
       "    }\n",
       "\n",
       "    .dataframe thead th {\n",
       "        text-align: right;\n",
       "    }\n",
       "</style>\n",
       "<table border=\"1\" class=\"dataframe\">\n",
       "  <thead>\n",
       "    <tr style=\"text-align: right;\">\n",
       "      <th></th>\n",
       "      <th>product_id</th>\n",
       "      <th>quantity</th>\n",
       "      <th>is_trial_period</th>\n",
       "      <th>purchase_date</th>\n",
       "      <th>user_id</th>\n",
       "      <th>revenue</th>\n",
       "      <th>purchase_week</th>\n",
       "    </tr>\n",
       "  </thead>\n",
       "  <tbody>\n",
       "    <tr>\n",
       "      <td>9577</td>\n",
       "      <td>1week_4.99_USD_subscription_7days_trial</td>\n",
       "      <td>1</td>\n",
       "      <td>True</td>\n",
       "      <td>2020-01-24</td>\n",
       "      <td>8945175</td>\n",
       "      <td>0.00</td>\n",
       "      <td>2020-01-23</td>\n",
       "    </tr>\n",
       "    <tr>\n",
       "      <td>58411</td>\n",
       "      <td>1week_4.99_USD_subscription_7days_trial</td>\n",
       "      <td>1</td>\n",
       "      <td>True</td>\n",
       "      <td>2020-01-09</td>\n",
       "      <td>8493163</td>\n",
       "      <td>0.00</td>\n",
       "      <td>2020-01-09</td>\n",
       "    </tr>\n",
       "    <tr>\n",
       "      <td>87866</td>\n",
       "      <td>1week_4.99_USD_subscription_7days_trial</td>\n",
       "      <td>1</td>\n",
       "      <td>False</td>\n",
       "      <td>2020-02-17</td>\n",
       "      <td>8832933</td>\n",
       "      <td>4.99</td>\n",
       "      <td>2020-02-13</td>\n",
       "    </tr>\n",
       "    <tr>\n",
       "      <td>49207</td>\n",
       "      <td>1week_4.99_USD_subscription_7days_trial</td>\n",
       "      <td>1</td>\n",
       "      <td>False</td>\n",
       "      <td>2020-02-08</td>\n",
       "      <td>8790908</td>\n",
       "      <td>4.99</td>\n",
       "      <td>2020-02-06</td>\n",
       "    </tr>\n",
       "    <tr>\n",
       "      <td>85685</td>\n",
       "      <td>1week_4.99_USD_subscription_7days_trial</td>\n",
       "      <td>1</td>\n",
       "      <td>True</td>\n",
       "      <td>2020-01-06</td>\n",
       "      <td>8409685</td>\n",
       "      <td>0.00</td>\n",
       "      <td>2020-01-02</td>\n",
       "    </tr>\n",
       "  </tbody>\n",
       "</table>\n",
       "</div>"
      ],
      "text/plain": [
       "                                    product_id  quantity  is_trial_period  \\\n",
       "9577   1week_4.99_USD_subscription_7days_trial         1             True   \n",
       "58411  1week_4.99_USD_subscription_7days_trial         1             True   \n",
       "87866  1week_4.99_USD_subscription_7days_trial         1            False   \n",
       "49207  1week_4.99_USD_subscription_7days_trial         1            False   \n",
       "85685  1week_4.99_USD_subscription_7days_trial         1             True   \n",
       "\n",
       "      purchase_date  user_id  revenue purchase_week  \n",
       "9577     2020-01-24  8945175     0.00    2020-01-23  \n",
       "58411    2020-01-09  8493163     0.00    2020-01-09  \n",
       "87866    2020-02-17  8832933     4.99    2020-02-13  \n",
       "49207    2020-02-08  8790908     4.99    2020-02-06  \n",
       "85685    2020-01-06  8409685     0.00    2020-01-02  "
      ]
     },
     "execution_count": 15,
     "metadata": {},
     "output_type": "execute_result"
    }
   ],
   "source": [
    "#Найдем первый день недели, в которые были совершены транзакции.\n",
    "dt['purchase_week']  = dt['purchase_date'].astype('datetime64[W]')\n",
    "dt.sample(5)"
   ]
  },
  {
   "cell_type": "markdown",
   "metadata": {},
   "source": [
    "Создадим датасет содержащий данные только о покупках."
   ]
  },
  {
   "cell_type": "code",
   "execution_count": 16,
   "metadata": {},
   "outputs": [
    {
     "data": {
      "text/html": [
       "<div>\n",
       "<style scoped>\n",
       "    .dataframe tbody tr th:only-of-type {\n",
       "        vertical-align: middle;\n",
       "    }\n",
       "\n",
       "    .dataframe tbody tr th {\n",
       "        vertical-align: top;\n",
       "    }\n",
       "\n",
       "    .dataframe thead th {\n",
       "        text-align: right;\n",
       "    }\n",
       "</style>\n",
       "<table border=\"1\" class=\"dataframe\">\n",
       "  <thead>\n",
       "    <tr style=\"text-align: right;\">\n",
       "      <th></th>\n",
       "      <th>product_id</th>\n",
       "      <th>quantity</th>\n",
       "      <th>is_trial_period</th>\n",
       "      <th>purchase_date</th>\n",
       "      <th>user_id</th>\n",
       "      <th>revenue</th>\n",
       "      <th>purchase_week</th>\n",
       "    </tr>\n",
       "  </thead>\n",
       "  <tbody>\n",
       "    <tr>\n",
       "      <td>73787</td>\n",
       "      <td>1week_4.99_USD_subscription_7days_trial</td>\n",
       "      <td>1</td>\n",
       "      <td>False</td>\n",
       "      <td>2020-01-20</td>\n",
       "      <td>7054199</td>\n",
       "      <td>4.99</td>\n",
       "      <td>2020-01-16</td>\n",
       "    </tr>\n",
       "    <tr>\n",
       "      <td>107500</td>\n",
       "      <td>1week_4.99_USD_subscription_7days_trial</td>\n",
       "      <td>1</td>\n",
       "      <td>False</td>\n",
       "      <td>2020-02-14</td>\n",
       "      <td>9130949</td>\n",
       "      <td>4.99</td>\n",
       "      <td>2020-02-13</td>\n",
       "    </tr>\n",
       "    <tr>\n",
       "      <td>51187</td>\n",
       "      <td>1week_4.99_USD_subscription_7days_trial</td>\n",
       "      <td>1</td>\n",
       "      <td>False</td>\n",
       "      <td>2020-02-12</td>\n",
       "      <td>8561779</td>\n",
       "      <td>4.99</td>\n",
       "      <td>2020-02-06</td>\n",
       "    </tr>\n",
       "    <tr>\n",
       "      <td>101079</td>\n",
       "      <td>1week_4.99_USD_subscription_7days_trial</td>\n",
       "      <td>1</td>\n",
       "      <td>False</td>\n",
       "      <td>2020-01-26</td>\n",
       "      <td>8607312</td>\n",
       "      <td>4.99</td>\n",
       "      <td>2020-01-23</td>\n",
       "    </tr>\n",
       "    <tr>\n",
       "      <td>73189</td>\n",
       "      <td>1week_4.99_USD_subscription_7days_trial</td>\n",
       "      <td>1</td>\n",
       "      <td>False</td>\n",
       "      <td>2020-02-15</td>\n",
       "      <td>8877073</td>\n",
       "      <td>4.99</td>\n",
       "      <td>2020-02-13</td>\n",
       "    </tr>\n",
       "  </tbody>\n",
       "</table>\n",
       "</div>"
      ],
      "text/plain": [
       "                                     product_id  quantity  is_trial_period  \\\n",
       "73787   1week_4.99_USD_subscription_7days_trial         1            False   \n",
       "107500  1week_4.99_USD_subscription_7days_trial         1            False   \n",
       "51187   1week_4.99_USD_subscription_7days_trial         1            False   \n",
       "101079  1week_4.99_USD_subscription_7days_trial         1            False   \n",
       "73189   1week_4.99_USD_subscription_7days_trial         1            False   \n",
       "\n",
       "       purchase_date  user_id  revenue purchase_week  \n",
       "73787     2020-01-20  7054199     4.99    2020-01-16  \n",
       "107500    2020-02-14  9130949     4.99    2020-02-13  \n",
       "51187     2020-02-12  8561779     4.99    2020-02-06  \n",
       "101079    2020-01-26  8607312     4.99    2020-01-23  \n",
       "73189     2020-02-15  8877073     4.99    2020-02-13  "
      ]
     },
     "metadata": {},
     "output_type": "display_data"
    }
   ],
   "source": [
    "purchase = dt[dt['revenue'] > 0]\n",
    "display(purchase.sample(5))"
   ]
  },
  {
   "cell_type": "code",
   "execution_count": 17,
   "metadata": {},
   "outputs": [
    {
     "data": {
      "text/html": [
       "<div>\n",
       "<style scoped>\n",
       "    .dataframe tbody tr th:only-of-type {\n",
       "        vertical-align: middle;\n",
       "    }\n",
       "\n",
       "    .dataframe tbody tr th {\n",
       "        vertical-align: top;\n",
       "    }\n",
       "\n",
       "    .dataframe thead th {\n",
       "        text-align: right;\n",
       "    }\n",
       "</style>\n",
       "<table border=\"1\" class=\"dataframe\">\n",
       "  <thead>\n",
       "    <tr style=\"text-align: right;\">\n",
       "      <th></th>\n",
       "      <th>user_id</th>\n",
       "      <th>first_purchase_date</th>\n",
       "      <th>first_order_week</th>\n",
       "    </tr>\n",
       "  </thead>\n",
       "  <tbody>\n",
       "    <tr>\n",
       "      <td>3354</td>\n",
       "      <td>8262854</td>\n",
       "      <td>2020-01-10</td>\n",
       "      <td>2020-01-09</td>\n",
       "    </tr>\n",
       "    <tr>\n",
       "      <td>2115</td>\n",
       "      <td>8185037</td>\n",
       "      <td>2020-01-08</td>\n",
       "      <td>2020-01-02</td>\n",
       "    </tr>\n",
       "    <tr>\n",
       "      <td>6929</td>\n",
       "      <td>8535076</td>\n",
       "      <td>2020-01-19</td>\n",
       "      <td>2020-01-16</td>\n",
       "    </tr>\n",
       "    <tr>\n",
       "      <td>7584</td>\n",
       "      <td>8583773</td>\n",
       "      <td>2020-01-19</td>\n",
       "      <td>2020-01-16</td>\n",
       "    </tr>\n",
       "    <tr>\n",
       "      <td>8560</td>\n",
       "      <td>8652076</td>\n",
       "      <td>2020-01-21</td>\n",
       "      <td>2020-01-16</td>\n",
       "    </tr>\n",
       "  </tbody>\n",
       "</table>\n",
       "</div>"
      ],
      "text/plain": [
       "      user_id first_purchase_date first_order_week\n",
       "3354  8262854          2020-01-10       2020-01-09\n",
       "2115  8185037          2020-01-08       2020-01-02\n",
       "6929  8535076          2020-01-19       2020-01-16\n",
       "7584  8583773          2020-01-19       2020-01-16\n",
       "8560  8652076          2020-01-21       2020-01-16"
      ]
     },
     "metadata": {},
     "output_type": "display_data"
    }
   ],
   "source": [
    "first_purchase = purchase.groupby('user_id').agg({'purchase_date': 'min'}).reset_index() \n",
    "# Определим дату первой покупки для каждого id\n",
    "first_purchase.columns = ['user_id', 'first_purchase_date']\n",
    "first_purchase['first_order_week'] = first_purchase['first_purchase_date'].astype('datetime64[W]')\n",
    "display(first_purchase.sample(5))"
   ]
  },
  {
   "cell_type": "code",
   "execution_count": 18,
   "metadata": {},
   "outputs": [
    {
     "data": {
      "text/html": [
       "<div>\n",
       "<style scoped>\n",
       "    .dataframe tbody tr th:only-of-type {\n",
       "        vertical-align: middle;\n",
       "    }\n",
       "\n",
       "    .dataframe tbody tr th {\n",
       "        vertical-align: top;\n",
       "    }\n",
       "\n",
       "    .dataframe thead th {\n",
       "        text-align: right;\n",
       "    }\n",
       "</style>\n",
       "<table border=\"1\" class=\"dataframe\">\n",
       "  <thead>\n",
       "    <tr style=\"text-align: right;\">\n",
       "      <th></th>\n",
       "      <th>first_order_week</th>\n",
       "      <th>n_buyers</th>\n",
       "    </tr>\n",
       "  </thead>\n",
       "  <tbody>\n",
       "    <tr>\n",
       "      <td>0</td>\n",
       "      <td>2019-12-26</td>\n",
       "      <td>1</td>\n",
       "    </tr>\n",
       "    <tr>\n",
       "      <td>1</td>\n",
       "      <td>2020-01-02</td>\n",
       "      <td>325</td>\n",
       "    </tr>\n",
       "    <tr>\n",
       "      <td>2</td>\n",
       "      <td>2020-01-09</td>\n",
       "      <td>3475</td>\n",
       "    </tr>\n",
       "    <tr>\n",
       "      <td>3</td>\n",
       "      <td>2020-01-16</td>\n",
       "      <td>3169</td>\n",
       "    </tr>\n",
       "    <tr>\n",
       "      <td>4</td>\n",
       "      <td>2020-01-23</td>\n",
       "      <td>3198</td>\n",
       "    </tr>\n",
       "    <tr>\n",
       "      <td>5</td>\n",
       "      <td>2020-01-30</td>\n",
       "      <td>2858</td>\n",
       "    </tr>\n",
       "    <tr>\n",
       "      <td>6</td>\n",
       "      <td>2020-02-06</td>\n",
       "      <td>3160</td>\n",
       "    </tr>\n",
       "    <tr>\n",
       "      <td>7</td>\n",
       "      <td>2020-02-13</td>\n",
       "      <td>3270</td>\n",
       "    </tr>\n",
       "    <tr>\n",
       "      <td>8</td>\n",
       "      <td>2020-02-20</td>\n",
       "      <td>90</td>\n",
       "    </tr>\n",
       "  </tbody>\n",
       "</table>\n",
       "</div>"
      ],
      "text/plain": [
       "  first_order_week  n_buyers\n",
       "0       2019-12-26         1\n",
       "1       2020-01-02       325\n",
       "2       2020-01-09      3475\n",
       "3       2020-01-16      3169\n",
       "4       2020-01-23      3198\n",
       "5       2020-01-30      2858\n",
       "6       2020-02-06      3160\n",
       "7       2020-02-13      3270\n",
       "8       2020-02-20        90"
      ]
     },
     "metadata": {},
     "output_type": "display_data"
    }
   ],
   "source": [
    "#Посчитаем кол-во новых покупателей за каждую неделю.\n",
    "cohort_sizes = (\n",
    "    first_purchase.groupby('first_order_week')\n",
    "    .agg({'user_id': 'nunique'})\n",
    "    .reset_index()\n",
    ")\n",
    "cohort_sizes.columns = ['first_order_week', 'n_buyers']\n",
    "display(cohort_sizes) "
   ]
  },
  {
   "cell_type": "code",
   "execution_count": 19,
   "metadata": {},
   "outputs": [
    {
     "data": {
      "text/html": [
       "<div>\n",
       "<style scoped>\n",
       "    .dataframe tbody tr th:only-of-type {\n",
       "        vertical-align: middle;\n",
       "    }\n",
       "\n",
       "    .dataframe tbody tr th {\n",
       "        vertical-align: top;\n",
       "    }\n",
       "\n",
       "    .dataframe thead th {\n",
       "        text-align: right;\n",
       "    }\n",
       "</style>\n",
       "<table border=\"1\" class=\"dataframe\">\n",
       "  <thead>\n",
       "    <tr style=\"text-align: right;\">\n",
       "      <th></th>\n",
       "      <th>product_id</th>\n",
       "      <th>quantity</th>\n",
       "      <th>is_trial_period</th>\n",
       "      <th>purchase_date</th>\n",
       "      <th>user_id</th>\n",
       "      <th>revenue</th>\n",
       "      <th>purchase_week</th>\n",
       "      <th>first_purchase_date</th>\n",
       "      <th>first_order_week</th>\n",
       "    </tr>\n",
       "  </thead>\n",
       "  <tbody>\n",
       "    <tr>\n",
       "      <td>0</td>\n",
       "      <td>1week_4.99_USD_subscription_7days_trial</td>\n",
       "      <td>1</td>\n",
       "      <td>False</td>\n",
       "      <td>2020-02-19</td>\n",
       "      <td>9484222</td>\n",
       "      <td>4.99</td>\n",
       "      <td>2020-02-13</td>\n",
       "      <td>2020-02-19</td>\n",
       "      <td>2020-02-13</td>\n",
       "    </tr>\n",
       "    <tr>\n",
       "      <td>1</td>\n",
       "      <td>1week_4.99_USD_subscription_7days_trial</td>\n",
       "      <td>1</td>\n",
       "      <td>False</td>\n",
       "      <td>2020-02-17</td>\n",
       "      <td>9422402</td>\n",
       "      <td>4.99</td>\n",
       "      <td>2020-02-13</td>\n",
       "      <td>2020-02-17</td>\n",
       "      <td>2020-02-13</td>\n",
       "    </tr>\n",
       "    <tr>\n",
       "      <td>2</td>\n",
       "      <td>1week_4.99_USD_subscription_7days_trial</td>\n",
       "      <td>1</td>\n",
       "      <td>False</td>\n",
       "      <td>2020-02-18</td>\n",
       "      <td>4997991</td>\n",
       "      <td>4.99</td>\n",
       "      <td>2020-02-13</td>\n",
       "      <td>2020-02-18</td>\n",
       "      <td>2020-02-13</td>\n",
       "    </tr>\n",
       "    <tr>\n",
       "      <td>3</td>\n",
       "      <td>1week_4.99_USD_subscription_7days_trial</td>\n",
       "      <td>1</td>\n",
       "      <td>False</td>\n",
       "      <td>2020-02-18</td>\n",
       "      <td>9455582</td>\n",
       "      <td>4.99</td>\n",
       "      <td>2020-02-13</td>\n",
       "      <td>2020-02-18</td>\n",
       "      <td>2020-02-13</td>\n",
       "    </tr>\n",
       "    <tr>\n",
       "      <td>4</td>\n",
       "      <td>1week_4.99_USD_subscription_7days_trial</td>\n",
       "      <td>1</td>\n",
       "      <td>False</td>\n",
       "      <td>2020-02-16</td>\n",
       "      <td>8803657</td>\n",
       "      <td>4.99</td>\n",
       "      <td>2020-02-13</td>\n",
       "      <td>2020-01-26</td>\n",
       "      <td>2020-01-23</td>\n",
       "    </tr>\n",
       "  </tbody>\n",
       "</table>\n",
       "</div>"
      ],
      "text/plain": [
       "                                product_id  quantity  is_trial_period  \\\n",
       "0  1week_4.99_USD_subscription_7days_trial         1            False   \n",
       "1  1week_4.99_USD_subscription_7days_trial         1            False   \n",
       "2  1week_4.99_USD_subscription_7days_trial         1            False   \n",
       "3  1week_4.99_USD_subscription_7days_trial         1            False   \n",
       "4  1week_4.99_USD_subscription_7days_trial         1            False   \n",
       "\n",
       "  purchase_date  user_id  revenue purchase_week first_purchase_date  \\\n",
       "0    2020-02-19  9484222     4.99    2020-02-13          2020-02-19   \n",
       "1    2020-02-17  9422402     4.99    2020-02-13          2020-02-17   \n",
       "2    2020-02-18  4997991     4.99    2020-02-13          2020-02-18   \n",
       "3    2020-02-18  9455582     4.99    2020-02-13          2020-02-18   \n",
       "4    2020-02-16  8803657     4.99    2020-02-13          2020-01-26   \n",
       "\n",
       "  first_order_week  \n",
       "0       2020-02-13  \n",
       "1       2020-02-13  \n",
       "2       2020-02-13  \n",
       "3       2020-02-13  \n",
       "4       2020-01-23  "
      ]
     },
     "metadata": {},
     "output_type": "display_data"
    }
   ],
   "source": [
    "orders_new = pd.merge(purchase,first_purchase, on='user_id') #Построим когорты. \n",
    "#Добавим неделю первой покупки каждого покупателя в таблицу с заказами\n",
    "display(orders_new.head()) "
   ]
  },
  {
   "cell_type": "markdown",
   "metadata": {},
   "source": [
    "### Анализ времени совершения покупок"
   ]
  },
  {
   "cell_type": "code",
   "execution_count": 20,
   "metadata": {},
   "outputs": [],
   "source": [
    "temp_data = orders_new.copy() #сделаем копию основного датасета для анализа времени совершения покупок."
   ]
  },
  {
   "cell_type": "code",
   "execution_count": 21,
   "metadata": {},
   "outputs": [
    {
     "data": {
      "image/png": "[encoded data removed]",
      "text/plain": [
       "<Figure size 1584x864 with 4 Axes>"
      ]
     },
     "metadata": {
      "needs_background": "light"
     },
     "output_type": "display_data"
    }
   ],
   "source": [
    "#Посмотрим данные в привязке к времени покупки\n",
    "plt.figure(figsize=(22,12))\n",
    "plt.subplot(3,2,1)\n",
    "sns.lineplot(x = \"purchase_date\", y = \"user_id\", data = temp_data.groupby(['purchase_date']).agg({'user_id': 'nunique'}).reset_index(), marker = \"o\", )\n",
    "plt.title(\"Nunique users by Days\")\n",
    "\n",
    "plt.subplot(3,2,2)\n",
    "sns.lineplot(x = \"first_order_week\", y = \"user_id\", data = temp_data.groupby(['first_order_week']).agg({'user_id': 'nunique'}).reset_index(), marker = \"o\", color = \"lightseagreen\")\n",
    "plt.title(\"Nunique users by Weeks\")\n",
    "\n",
    "plt.subplot(3,2,3)\n",
    "sns.lineplot(x = \"purchase_date\", y = \"revenue\", data = temp_data.groupby(['purchase_date']).agg({'revenue': 'sum'}).reset_index(), marker = \"o\", )\n",
    "plt.title(\"Purchase by Days\")\n",
    "\n",
    "plt.subplot(3,2,4)\n",
    "sns.lineplot(x = \"purchase_week\", y = \"revenue\", data = temp_data.groupby(['purchase_week']).agg({'revenue': 'sum'}).reset_index(), marker = \"o\", color = \"lightseagreen\")\n",
    "plt.title(\"Purchase by Weeks\")\n",
    "\n",
    "plt.tight_layout()\n",
    "plt.show()"
   ]
  },
  {
   "cell_type": "markdown",
   "metadata": {},
   "source": [
    "**Вывод:** В период с 08 января по 15 января мы видим прирост по количеству клиентов и выручке. \n",
    "Период с 01 по 08 января количество клиентов не превышает 330. Возможно, в это время еще не запущена основная рекламная кампания. Резкое падение кол-ва клиентов начинается с 19 февраля. "
   ]
  },
  {
   "cell_type": "markdown",
   "metadata": {},
   "source": [
    "### Расчет данных по когортам"
   ]
  },
  {
   "cell_type": "code",
   "execution_count": 22,
   "metadata": {},
   "outputs": [
    {
     "data": {
      "text/html": [
       "<div>\n",
       "<style scoped>\n",
       "    .dataframe tbody tr th:only-of-type {\n",
       "        vertical-align: middle;\n",
       "    }\n",
       "\n",
       "    .dataframe tbody tr th {\n",
       "        vertical-align: top;\n",
       "    }\n",
       "\n",
       "    .dataframe thead th {\n",
       "        text-align: right;\n",
       "    }\n",
       "</style>\n",
       "<table border=\"1\" class=\"dataframe\">\n",
       "  <thead>\n",
       "    <tr style=\"text-align: right;\">\n",
       "      <th></th>\n",
       "      <th>first_order_week</th>\n",
       "      <th>purchase_week</th>\n",
       "      <th>revenue</th>\n",
       "    </tr>\n",
       "  </thead>\n",
       "  <tbody>\n",
       "    <tr>\n",
       "      <td>15</td>\n",
       "      <td>2020-01-09</td>\n",
       "      <td>2020-01-09</td>\n",
       "      <td>17345.24</td>\n",
       "    </tr>\n",
       "    <tr>\n",
       "      <td>17</td>\n",
       "      <td>2020-01-09</td>\n",
       "      <td>2020-01-23</td>\n",
       "      <td>11332.29</td>\n",
       "    </tr>\n",
       "    <tr>\n",
       "      <td>33</td>\n",
       "      <td>2020-01-30</td>\n",
       "      <td>2020-01-30</td>\n",
       "      <td>14281.38</td>\n",
       "    </tr>\n",
       "    <tr>\n",
       "      <td>27</td>\n",
       "      <td>2020-01-16</td>\n",
       "      <td>2020-02-20</td>\n",
       "      <td>299.40</td>\n",
       "    </tr>\n",
       "    <tr>\n",
       "      <td>31</td>\n",
       "      <td>2020-01-23</td>\n",
       "      <td>2020-02-13</td>\n",
       "      <td>8333.30</td>\n",
       "    </tr>\n",
       "    <tr>\n",
       "      <td>24</td>\n",
       "      <td>2020-01-16</td>\n",
       "      <td>2020-01-30</td>\n",
       "      <td>10144.67</td>\n",
       "    </tr>\n",
       "    <tr>\n",
       "      <td>30</td>\n",
       "      <td>2020-01-23</td>\n",
       "      <td>2020-02-06</td>\n",
       "      <td>9660.64</td>\n",
       "    </tr>\n",
       "    <tr>\n",
       "      <td>36</td>\n",
       "      <td>2020-01-30</td>\n",
       "      <td>2020-02-20</td>\n",
       "      <td>374.25</td>\n",
       "    </tr>\n",
       "    <tr>\n",
       "      <td>5</td>\n",
       "      <td>2019-12-26</td>\n",
       "      <td>2020-02-06</td>\n",
       "      <td>4.99</td>\n",
       "    </tr>\n",
       "    <tr>\n",
       "      <td>38</td>\n",
       "      <td>2020-02-06</td>\n",
       "      <td>2020-02-13</td>\n",
       "      <td>10748.46</td>\n",
       "    </tr>\n",
       "  </tbody>\n",
       "</table>\n",
       "</div>"
      ],
      "text/plain": [
       "   first_order_week purchase_week   revenue\n",
       "15       2020-01-09    2020-01-09  17345.24\n",
       "17       2020-01-09    2020-01-23  11332.29\n",
       "33       2020-01-30    2020-01-30  14281.38\n",
       "27       2020-01-16    2020-02-20    299.40\n",
       "31       2020-01-23    2020-02-13   8333.30\n",
       "24       2020-01-16    2020-01-30  10144.67\n",
       "30       2020-01-23    2020-02-06   9660.64\n",
       "36       2020-01-30    2020-02-20    374.25\n",
       "5        2019-12-26    2020-02-06      4.99\n",
       "38       2020-02-06    2020-02-13  10748.46"
      ]
     },
     "metadata": {},
     "output_type": "display_data"
    }
   ],
   "source": [
    "#Сгруппируем таблицу заказов по неделе первой покупки и неделе каждого заказа и сложим выручку. \n",
    "cohorts = (\n",
    "    orders_new.groupby(['first_order_week', 'purchase_week'])\n",
    "    .agg({'revenue': 'sum'})\n",
    "    .reset_index()\n",
    ")\n",
    "display(cohorts.sample(10)) "
   ]
  },
  {
   "cell_type": "code",
   "execution_count": 23,
   "metadata": {},
   "outputs": [
    {
     "data": {
      "text/html": [
       "<div>\n",
       "<style scoped>\n",
       "    .dataframe tbody tr th:only-of-type {\n",
       "        vertical-align: middle;\n",
       "    }\n",
       "\n",
       "    .dataframe tbody tr th {\n",
       "        vertical-align: top;\n",
       "    }\n",
       "\n",
       "    .dataframe thead th {\n",
       "        text-align: right;\n",
       "    }\n",
       "</style>\n",
       "<table border=\"1\" class=\"dataframe\">\n",
       "  <thead>\n",
       "    <tr style=\"text-align: right;\">\n",
       "      <th></th>\n",
       "      <th>first_order_week</th>\n",
       "      <th>n_buyers</th>\n",
       "      <th>purchase_week</th>\n",
       "      <th>revenue</th>\n",
       "    </tr>\n",
       "  </thead>\n",
       "  <tbody>\n",
       "    <tr>\n",
       "      <td>22</td>\n",
       "      <td>2020-01-16</td>\n",
       "      <td>3169</td>\n",
       "      <td>2020-01-16</td>\n",
       "      <td>15823.29</td>\n",
       "    </tr>\n",
       "    <tr>\n",
       "      <td>30</td>\n",
       "      <td>2020-01-23</td>\n",
       "      <td>3198</td>\n",
       "      <td>2020-02-06</td>\n",
       "      <td>9660.64</td>\n",
       "    </tr>\n",
       "    <tr>\n",
       "      <td>15</td>\n",
       "      <td>2020-01-09</td>\n",
       "      <td>3475</td>\n",
       "      <td>2020-01-09</td>\n",
       "      <td>17345.24</td>\n",
       "    </tr>\n",
       "    <tr>\n",
       "      <td>36</td>\n",
       "      <td>2020-01-30</td>\n",
       "      <td>2858</td>\n",
       "      <td>2020-02-20</td>\n",
       "      <td>374.25</td>\n",
       "    </tr>\n",
       "    <tr>\n",
       "      <td>21</td>\n",
       "      <td>2020-01-09</td>\n",
       "      <td>3475</td>\n",
       "      <td>2020-02-20</td>\n",
       "      <td>359.28</td>\n",
       "    </tr>\n",
       "    <tr>\n",
       "      <td>6</td>\n",
       "      <td>2019-12-26</td>\n",
       "      <td>1</td>\n",
       "      <td>2020-02-13</td>\n",
       "      <td>4.99</td>\n",
       "    </tr>\n",
       "    <tr>\n",
       "      <td>3</td>\n",
       "      <td>2019-12-26</td>\n",
       "      <td>1</td>\n",
       "      <td>2020-01-16</td>\n",
       "      <td>4.99</td>\n",
       "    </tr>\n",
       "    <tr>\n",
       "      <td>13</td>\n",
       "      <td>2020-01-02</td>\n",
       "      <td>325</td>\n",
       "      <td>2020-02-13</td>\n",
       "      <td>848.30</td>\n",
       "    </tr>\n",
       "    <tr>\n",
       "      <td>42</td>\n",
       "      <td>2020-02-20</td>\n",
       "      <td>90</td>\n",
       "      <td>2020-02-20</td>\n",
       "      <td>449.10</td>\n",
       "    </tr>\n",
       "    <tr>\n",
       "      <td>18</td>\n",
       "      <td>2020-01-09</td>\n",
       "      <td>3475</td>\n",
       "      <td>2020-01-30</td>\n",
       "      <td>10129.70</td>\n",
       "    </tr>\n",
       "  </tbody>\n",
       "</table>\n",
       "</div>"
      ],
      "text/plain": [
       "   first_order_week  n_buyers purchase_week   revenue\n",
       "22       2020-01-16      3169    2020-01-16  15823.29\n",
       "30       2020-01-23      3198    2020-02-06   9660.64\n",
       "15       2020-01-09      3475    2020-01-09  17345.24\n",
       "36       2020-01-30      2858    2020-02-20    374.25\n",
       "21       2020-01-09      3475    2020-02-20    359.28\n",
       "6        2019-12-26         1    2020-02-13      4.99\n",
       "3        2019-12-26         1    2020-01-16      4.99\n",
       "13       2020-01-02       325    2020-02-13    848.30\n",
       "42       2020-02-20        90    2020-02-20    449.10\n",
       "18       2020-01-09      3475    2020-01-30  10129.70"
      ]
     },
     "metadata": {},
     "output_type": "display_data"
    }
   ],
   "source": [
    "report = pd.merge(cohort_sizes, cohorts, on='first_order_week')\n",
    "display(report.sample(10)) "
   ]
  },
  {
   "cell_type": "code",
   "execution_count": 24,
   "metadata": {},
   "outputs": [],
   "source": [
    "# LTV считают не из выручки, а из валовой прибыли. Значит, нужно найти валовую прибыль, умножив выручку на маржинальность. \n",
    "# LTV — относительный показатель. Значит его удобнее смотреть по «возрастным» когортам, \n",
    "#где в столбцах — не неделя заказа, а возраст (age) когорты."
   ]
  },
  {
   "cell_type": "code",
   "execution_count": 25,
   "metadata": {},
   "outputs": [
    {
     "data": {
      "text/html": [
       "<div>\n",
       "<style scoped>\n",
       "    .dataframe tbody tr th:only-of-type {\n",
       "        vertical-align: middle;\n",
       "    }\n",
       "\n",
       "    .dataframe tbody tr th {\n",
       "        vertical-align: top;\n",
       "    }\n",
       "\n",
       "    .dataframe thead th {\n",
       "        text-align: right;\n",
       "    }\n",
       "</style>\n",
       "<table border=\"1\" class=\"dataframe\">\n",
       "  <thead>\n",
       "    <tr style=\"text-align: right;\">\n",
       "      <th></th>\n",
       "      <th>first_order_week</th>\n",
       "      <th>n_buyers</th>\n",
       "      <th>purchase_week</th>\n",
       "      <th>revenue</th>\n",
       "      <th>gp</th>\n",
       "      <th>age</th>\n",
       "    </tr>\n",
       "  </thead>\n",
       "  <tbody>\n",
       "    <tr>\n",
       "      <td>40</td>\n",
       "      <td>2020-02-13</td>\n",
       "      <td>3270</td>\n",
       "      <td>2020-02-13</td>\n",
       "      <td>16317.30</td>\n",
       "      <td>16317.30</td>\n",
       "      <td>0</td>\n",
       "    </tr>\n",
       "    <tr>\n",
       "      <td>29</td>\n",
       "      <td>2020-01-23</td>\n",
       "      <td>3198</td>\n",
       "      <td>2020-01-30</td>\n",
       "      <td>11521.91</td>\n",
       "      <td>11521.91</td>\n",
       "      <td>1</td>\n",
       "    </tr>\n",
       "    <tr>\n",
       "      <td>14</td>\n",
       "      <td>2020-01-02</td>\n",
       "      <td>325</td>\n",
       "      <td>2020-02-20</td>\n",
       "      <td>14.97</td>\n",
       "      <td>14.97</td>\n",
       "      <td>7</td>\n",
       "    </tr>\n",
       "    <tr>\n",
       "      <td>1</td>\n",
       "      <td>2019-12-26</td>\n",
       "      <td>1</td>\n",
       "      <td>2020-01-02</td>\n",
       "      <td>4.99</td>\n",
       "      <td>4.99</td>\n",
       "      <td>1</td>\n",
       "    </tr>\n",
       "    <tr>\n",
       "      <td>10</td>\n",
       "      <td>2020-01-02</td>\n",
       "      <td>325</td>\n",
       "      <td>2020-01-23</td>\n",
       "      <td>1022.95</td>\n",
       "      <td>1022.95</td>\n",
       "      <td>3</td>\n",
       "    </tr>\n",
       "    <tr>\n",
       "      <td>0</td>\n",
       "      <td>2019-12-26</td>\n",
       "      <td>1</td>\n",
       "      <td>2019-12-26</td>\n",
       "      <td>4.99</td>\n",
       "      <td>4.99</td>\n",
       "      <td>0</td>\n",
       "    </tr>\n",
       "    <tr>\n",
       "      <td>33</td>\n",
       "      <td>2020-01-30</td>\n",
       "      <td>2858</td>\n",
       "      <td>2020-01-30</td>\n",
       "      <td>14281.38</td>\n",
       "      <td>14281.38</td>\n",
       "      <td>0</td>\n",
       "    </tr>\n",
       "    <tr>\n",
       "      <td>39</td>\n",
       "      <td>2020-02-06</td>\n",
       "      <td>3160</td>\n",
       "      <td>2020-02-20</td>\n",
       "      <td>643.71</td>\n",
       "      <td>643.71</td>\n",
       "      <td>2</td>\n",
       "    </tr>\n",
       "    <tr>\n",
       "      <td>3</td>\n",
       "      <td>2019-12-26</td>\n",
       "      <td>1</td>\n",
       "      <td>2020-01-16</td>\n",
       "      <td>4.99</td>\n",
       "      <td>4.99</td>\n",
       "      <td>3</td>\n",
       "    </tr>\n",
       "    <tr>\n",
       "      <td>7</td>\n",
       "      <td>2020-01-02</td>\n",
       "      <td>325</td>\n",
       "      <td>2020-01-02</td>\n",
       "      <td>1621.75</td>\n",
       "      <td>1621.75</td>\n",
       "      <td>0</td>\n",
       "    </tr>\n",
       "    <tr>\n",
       "      <td>2</td>\n",
       "      <td>2019-12-26</td>\n",
       "      <td>1</td>\n",
       "      <td>2020-01-09</td>\n",
       "      <td>4.99</td>\n",
       "      <td>4.99</td>\n",
       "      <td>2</td>\n",
       "    </tr>\n",
       "    <tr>\n",
       "      <td>36</td>\n",
       "      <td>2020-01-30</td>\n",
       "      <td>2858</td>\n",
       "      <td>2020-02-20</td>\n",
       "      <td>374.25</td>\n",
       "      <td>374.25</td>\n",
       "      <td>3</td>\n",
       "    </tr>\n",
       "    <tr>\n",
       "      <td>18</td>\n",
       "      <td>2020-01-09</td>\n",
       "      <td>3475</td>\n",
       "      <td>2020-01-30</td>\n",
       "      <td>10129.70</td>\n",
       "      <td>10129.70</td>\n",
       "      <td>3</td>\n",
       "    </tr>\n",
       "    <tr>\n",
       "      <td>19</td>\n",
       "      <td>2020-01-09</td>\n",
       "      <td>3475</td>\n",
       "      <td>2020-02-06</td>\n",
       "      <td>9126.71</td>\n",
       "      <td>9126.71</td>\n",
       "      <td>4</td>\n",
       "    </tr>\n",
       "    <tr>\n",
       "      <td>17</td>\n",
       "      <td>2020-01-09</td>\n",
       "      <td>3475</td>\n",
       "      <td>2020-01-23</td>\n",
       "      <td>11332.29</td>\n",
       "      <td>11332.29</td>\n",
       "      <td>2</td>\n",
       "    </tr>\n",
       "  </tbody>\n",
       "</table>\n",
       "</div>"
      ],
      "text/plain": [
       "   first_order_week  n_buyers purchase_week   revenue        gp  age\n",
       "40       2020-02-13      3270    2020-02-13  16317.30  16317.30    0\n",
       "29       2020-01-23      3198    2020-01-30  11521.91  11521.91    1\n",
       "14       2020-01-02       325    2020-02-20     14.97     14.97    7\n",
       "1        2019-12-26         1    2020-01-02      4.99      4.99    1\n",
       "10       2020-01-02       325    2020-01-23   1022.95   1022.95    3\n",
       "0        2019-12-26         1    2019-12-26      4.99      4.99    0\n",
       "33       2020-01-30      2858    2020-01-30  14281.38  14281.38    0\n",
       "39       2020-02-06      3160    2020-02-20    643.71    643.71    2\n",
       "3        2019-12-26         1    2020-01-16      4.99      4.99    3\n",
       "7        2020-01-02       325    2020-01-02   1621.75   1621.75    0\n",
       "2        2019-12-26         1    2020-01-09      4.99      4.99    2\n",
       "36       2020-01-30      2858    2020-02-20    374.25    374.25    3\n",
       "18       2020-01-09      3475    2020-01-30  10129.70  10129.70    3\n",
       "19       2020-01-09      3475    2020-02-06   9126.71   9126.71    4\n",
       "17       2020-01-09      3475    2020-01-23  11332.29  11332.29    2"
      ]
     },
     "metadata": {},
     "output_type": "display_data"
    }
   ],
   "source": [
    "margin_rate = 1 # !!! Поставим ориентировочную маржинальность.\n",
    "\n",
    "report['gp'] = (report['revenue'] * margin_rate).round(2)\n",
    "report['age'] = (\n",
    "    report['purchase_week'] - report['first_order_week']\n",
    ") / np.timedelta64(1, 'W')\n",
    "report['age'] = report['age'].round().astype('int')\n",
    "display(report.sample(15)) "
   ]
  },
  {
   "cell_type": "markdown",
   "metadata": {},
   "source": [
    "Найдём LTV. Разделим валовую прибыль когорт за каждый месяц на общее число пользователей в каждой когорте. Для наглядности визуализируем когорты в виде сводной таблицы"
   ]
  },
  {
   "cell_type": "code",
   "execution_count": 26,
   "metadata": {},
   "outputs": [
    {
     "data": {
      "text/html": [
       "<div>\n",
       "<style scoped>\n",
       "    .dataframe tbody tr th:only-of-type {\n",
       "        vertical-align: middle;\n",
       "    }\n",
       "\n",
       "    .dataframe tbody tr th {\n",
       "        vertical-align: top;\n",
       "    }\n",
       "\n",
       "    .dataframe thead th {\n",
       "        text-align: right;\n",
       "    }\n",
       "</style>\n",
       "<table border=\"1\" class=\"dataframe\">\n",
       "  <thead>\n",
       "    <tr style=\"text-align: right;\">\n",
       "      <th>age</th>\n",
       "      <th>0</th>\n",
       "      <th>1</th>\n",
       "      <th>2</th>\n",
       "      <th>3</th>\n",
       "      <th>4</th>\n",
       "      <th>5</th>\n",
       "      <th>6</th>\n",
       "      <th>7</th>\n",
       "    </tr>\n",
       "    <tr>\n",
       "      <th>first_order_week</th>\n",
       "      <th></th>\n",
       "      <th></th>\n",
       "      <th></th>\n",
       "      <th></th>\n",
       "      <th></th>\n",
       "      <th></th>\n",
       "      <th></th>\n",
       "      <th></th>\n",
       "    </tr>\n",
       "  </thead>\n",
       "  <tbody>\n",
       "    <tr>\n",
       "      <td>2019-12-26</td>\n",
       "      <td>4.99</td>\n",
       "      <td>4.99</td>\n",
       "      <td>4.99</td>\n",
       "      <td>4.99</td>\n",
       "      <td>4.99</td>\n",
       "      <td></td>\n",
       "      <td>4.99</td>\n",
       "      <td>4.99</td>\n",
       "    </tr>\n",
       "    <tr>\n",
       "      <td>2020-01-02</td>\n",
       "      <td>4.99</td>\n",
       "      <td>3.99</td>\n",
       "      <td>3.61</td>\n",
       "      <td>3.15</td>\n",
       "      <td>2.98</td>\n",
       "      <td>2.79</td>\n",
       "      <td>2.61</td>\n",
       "      <td>0.05</td>\n",
       "    </tr>\n",
       "    <tr>\n",
       "      <td>2020-01-09</td>\n",
       "      <td>4.99</td>\n",
       "      <td>3.8</td>\n",
       "      <td>3.26</td>\n",
       "      <td>2.92</td>\n",
       "      <td>2.63</td>\n",
       "      <td>2.35</td>\n",
       "      <td>0.1</td>\n",
       "      <td></td>\n",
       "    </tr>\n",
       "    <tr>\n",
       "      <td>2020-01-16</td>\n",
       "      <td>4.99</td>\n",
       "      <td>3.79</td>\n",
       "      <td>3.2</td>\n",
       "      <td>2.74</td>\n",
       "      <td>2.47</td>\n",
       "      <td>0.09</td>\n",
       "      <td></td>\n",
       "      <td></td>\n",
       "    </tr>\n",
       "    <tr>\n",
       "      <td>2020-01-23</td>\n",
       "      <td>4.99</td>\n",
       "      <td>3.6</td>\n",
       "      <td>3.02</td>\n",
       "      <td>2.61</td>\n",
       "      <td>0.15</td>\n",
       "      <td></td>\n",
       "      <td></td>\n",
       "      <td></td>\n",
       "    </tr>\n",
       "    <tr>\n",
       "      <td>2020-01-30</td>\n",
       "      <td>5.00</td>\n",
       "      <td>3.45</td>\n",
       "      <td>2.77</td>\n",
       "      <td>0.13</td>\n",
       "      <td></td>\n",
       "      <td></td>\n",
       "      <td></td>\n",
       "      <td></td>\n",
       "    </tr>\n",
       "    <tr>\n",
       "      <td>2020-02-06</td>\n",
       "      <td>5.00</td>\n",
       "      <td>3.4</td>\n",
       "      <td>0.2</td>\n",
       "      <td></td>\n",
       "      <td></td>\n",
       "      <td></td>\n",
       "      <td></td>\n",
       "      <td></td>\n",
       "    </tr>\n",
       "    <tr>\n",
       "      <td>2020-02-13</td>\n",
       "      <td>4.99</td>\n",
       "      <td>0.22</td>\n",
       "      <td></td>\n",
       "      <td></td>\n",
       "      <td></td>\n",
       "      <td></td>\n",
       "      <td></td>\n",
       "      <td></td>\n",
       "    </tr>\n",
       "    <tr>\n",
       "      <td>2020-02-20</td>\n",
       "      <td>4.99</td>\n",
       "      <td></td>\n",
       "      <td></td>\n",
       "      <td></td>\n",
       "      <td></td>\n",
       "      <td></td>\n",
       "      <td></td>\n",
       "      <td></td>\n",
       "    </tr>\n",
       "  </tbody>\n",
       "</table>\n",
       "</div>"
      ],
      "text/plain": [
       "age                  0     1     2     3     4     5     6     7\n",
       "first_order_week                                                \n",
       "2019-12-26        4.99  4.99  4.99  4.99  4.99        4.99  4.99\n",
       "2020-01-02        4.99  3.99  3.61  3.15  2.98  2.79  2.61  0.05\n",
       "2020-01-09        4.99   3.8  3.26  2.92  2.63  2.35   0.1      \n",
       "2020-01-16        4.99  3.79   3.2  2.74  2.47  0.09            \n",
       "2020-01-23        4.99   3.6  3.02  2.61  0.15                  \n",
       "2020-01-30        5.00  3.45  2.77  0.13                        \n",
       "2020-02-06        5.00   3.4   0.2                              \n",
       "2020-02-13        4.99  0.22                                    \n",
       "2020-02-20        4.99                                          "
      ]
     },
     "execution_count": 26,
     "metadata": {},
     "output_type": "execute_result"
    }
   ],
   "source": [
    "report['ltv'] = report['gp'] / report['n_buyers']\n",
    "\n",
    "output = report.pivot_table(\n",
    "    index='first_order_week', columns='age', values='ltv', aggfunc='mean'\n",
    ").round(2)\n",
    "\n",
    "output.fillna('') "
   ]
  },
  {
   "cell_type": "code",
   "execution_count": 27,
   "metadata": {},
   "outputs": [
    {
     "data": {
      "image/png": "[encoded data removed]",
      "text/plain": [
       "<Figure size 1080x648 with 2 Axes>"
      ]
     },
     "metadata": {
      "needs_background": "light"
     },
     "output_type": "display_data"
    }
   ],
   "source": [
    "plt.figure(figsize = (15, 9))\n",
    "output.index = [str(x)[0:10] for x in output.index] #уберем лишние знаки во временной шкале\n",
    "sns.heatmap(output, annot=True, fmt ='.3g', linewidths=1, linecolor='white', vmin=0, vmax=14, \n",
    "            cbar_kws ={'orientation':'horizontal'}\n",
    "           ).set(title = 'LTV')\n",
    "plt.show()"
   ]
  },
  {
   "cell_type": "code",
   "execution_count": 28,
   "metadata": {},
   "outputs": [
    {
     "data": {
      "text/plain": [
       "34.93"
      ]
     },
     "metadata": {},
     "output_type": "display_data"
    }
   ],
   "source": [
    "ltv_20191226 = output.loc['2019-12-26'].sum()\n",
    "display(ltv_20191226) "
   ]
  },
  {
   "cell_type": "code",
   "execution_count": 29,
   "metadata": {},
   "outputs": [
    {
     "name": "stdout",
     "output_type": "stream",
     "text": [
      "Средний LTV на одного покупателя за 9 недель составил: 3.11 USD\n"
     ]
    }
   ],
   "source": [
    "def Average(output):\n",
    "    return sum(output) / len(output)\n",
    "average = Average(output)\n",
    "print('Средний LTV на одного покупателя за 9 недель составил:', round(average, 2),'USD')"
   ]
  },
  {
   "cell_type": "markdown",
   "metadata": {},
   "source": [
    "## Прогноз LTV"
   ]
  },
  {
   "cell_type": "markdown",
   "metadata": {},
   "source": [
    "Для прогноза используем готовую библиотеку lifetimes https://lifetimes.readthedocs.io/en/latest/index.html\n",
    "\n",
    "Создадим сводную таблицу данных о транзакциях. Сводная таблица представляет собой не что иное, как таблицу RFM (Recency Frequency Monetary — давность, частота, деньги)"
   ]
  },
  {
   "cell_type": "code",
   "execution_count": 30,
   "metadata": {},
   "outputs": [
    {
     "data": {
      "text/html": [
       "<div>\n",
       "<style scoped>\n",
       "    .dataframe tbody tr th:only-of-type {\n",
       "        vertical-align: middle;\n",
       "    }\n",
       "\n",
       "    .dataframe tbody tr th {\n",
       "        vertical-align: top;\n",
       "    }\n",
       "\n",
       "    .dataframe thead th {\n",
       "        text-align: right;\n",
       "    }\n",
       "</style>\n",
       "<table border=\"1\" class=\"dataframe\">\n",
       "  <thead>\n",
       "    <tr style=\"text-align: right;\">\n",
       "      <th></th>\n",
       "      <th>user_id</th>\n",
       "      <th>frequency</th>\n",
       "      <th>recency</th>\n",
       "      <th>T</th>\n",
       "      <th>monetary_value</th>\n",
       "    </tr>\n",
       "  </thead>\n",
       "  <tbody>\n",
       "    <tr>\n",
       "      <td>0</td>\n",
       "      <td>404</td>\n",
       "      <td>0.0</td>\n",
       "      <td>0.0</td>\n",
       "      <td>10.0</td>\n",
       "      <td>0.00</td>\n",
       "    </tr>\n",
       "    <tr>\n",
       "      <td>1</td>\n",
       "      <td>9010</td>\n",
       "      <td>2.0</td>\n",
       "      <td>14.0</td>\n",
       "      <td>17.0</td>\n",
       "      <td>4.99</td>\n",
       "    </tr>\n",
       "    <tr>\n",
       "      <td>2</td>\n",
       "      <td>23403</td>\n",
       "      <td>2.0</td>\n",
       "      <td>15.0</td>\n",
       "      <td>24.0</td>\n",
       "      <td>4.99</td>\n",
       "    </tr>\n",
       "    <tr>\n",
       "      <td>3</td>\n",
       "      <td>23647</td>\n",
       "      <td>2.0</td>\n",
       "      <td>14.0</td>\n",
       "      <td>21.0</td>\n",
       "      <td>4.99</td>\n",
       "    </tr>\n",
       "    <tr>\n",
       "      <td>4</td>\n",
       "      <td>33989</td>\n",
       "      <td>2.0</td>\n",
       "      <td>14.0</td>\n",
       "      <td>17.0</td>\n",
       "      <td>4.99</td>\n",
       "    </tr>\n",
       "  </tbody>\n",
       "</table>\n",
       "</div>"
      ],
      "text/plain": [
       "   user_id  frequency  recency     T  monetary_value\n",
       "0      404        0.0      0.0  10.0            0.00\n",
       "1     9010        2.0     14.0  17.0            4.99\n",
       "2    23403        2.0     15.0  24.0            4.99\n",
       "3    23647        2.0     14.0  21.0            4.99\n",
       "4    33989        2.0     14.0  17.0            4.99"
      ]
     },
     "metadata": {},
     "output_type": "display_data"
    }
   ],
   "source": [
    "summary =  lifetimes.utils.summary_data_from_transaction_data(purchase,'user_id','purchase_date', 'revenue')\n",
    "summary = summary.reset_index()\n",
    "display(summary.head(5))"
   ]
  },
  {
   "cell_type": "markdown",
   "metadata": {},
   "source": [
    "A) T - это продолжительность периода наблюдения за клиентом на основе значения, используемого для частоты (по умолчанию частота равна дню). Это также можно рассматривать как промежуток времени между первой покупкой клиента и концом периода, измеряемый приращениями, определяемыми freq.\n",
    "\n",
    "B) Recency - это точка (относительно их собственного периода наблюдения), в которой клиент совершил свою последнюю повторную покупку. Это также можно рассматривать как промежуток времени между первой и последней покупкой клиента за период, измеряемый в приращениях, определяемых freq.\n",
    "\n",
    "C) Frequency. Частота — это количество повторных покупок, совершенных покупателем в течение периода наблюдения.\n",
    "\n",
    "D) Monetary - среднюю сумму каждой повторной покупки, сделанной покупателем (в USD)."
   ]
  },
  {
   "cell_type": "markdown",
   "metadata": {},
   "source": [
    "Проверим, сколько покупателей совершили только 1 покупку."
   ]
  },
  {
   "cell_type": "code",
   "execution_count": 31,
   "metadata": {},
   "outputs": [
    {
     "data": {
      "text/plain": [
       "count    19546.000000\n",
       "mean         1.618029\n",
       "std          1.689935\n",
       "min          0.000000\n",
       "25%          0.000000\n",
       "50%          1.000000\n",
       "75%          3.000000\n",
       "max          6.000000\n",
       "Name: frequency, dtype: float64"
      ]
     },
     "metadata": {},
     "output_type": "display_data"
    },
    {
     "name": "stdout",
     "output_type": "stream",
     "text": [
      "-------------------------\n",
      "Доля клиентов, совершивших только 1 покупку 36.8 %\n"
     ]
    },
    {
     "data": {
      "image/png": "[encoded data removed]",
      "text/plain": [
       "<Figure size 432x288 with 1 Axes>"
      ]
     },
     "metadata": {
      "needs_background": "light"
     },
     "output_type": "display_data"
    }
   ],
   "source": [
    "summary['frequency'].plot(kind='hist',bins = 6)\n",
    "plt.title('Распределение покупателей по кол-ву покупок, шт.')\n",
    "display(summary['frequency'].describe())\n",
    "print('-------------------------')\n",
    "one_time_buyers=round(sum(summary['frequency'] == 0)/float(len(summary))*(100),2)\n",
    "print('Доля клиентов, совершивших только 1 покупку', one_time_buyers,'%')"
   ]
  },
  {
   "cell_type": "code",
   "execution_count": 32,
   "metadata": {},
   "outputs": [
    {
     "data": {
      "text/plain": [
       "<lifetimes.BetaGeoFitter: fitted with 19546 subjects, a: 0.00, alpha: 271.20, b: 18337.55, r: 19.84>"
      ]
     },
     "execution_count": 32,
     "metadata": {},
     "output_type": "execute_result"
    }
   ],
   "source": [
    "# Подготовим данные для BG/NBD модели\n",
    "bgf = lifetimes.BetaGeoFitter(penalizer_coef=0.0)\n",
    "bgf.fit(summary['frequency'],summary['recency'],summary['T'])"
   ]
  },
  {
   "cell_type": "code",
   "execution_count": 33,
   "metadata": {},
   "outputs": [
    {
     "data": {
      "text/html": [
       "<div>\n",
       "<style scoped>\n",
       "    .dataframe tbody tr th:only-of-type {\n",
       "        vertical-align: middle;\n",
       "    }\n",
       "\n",
       "    .dataframe tbody tr th {\n",
       "        vertical-align: top;\n",
       "    }\n",
       "\n",
       "    .dataframe thead th {\n",
       "        text-align: right;\n",
       "    }\n",
       "</style>\n",
       "<table border=\"1\" class=\"dataframe\">\n",
       "  <thead>\n",
       "    <tr style=\"text-align: right;\">\n",
       "      <th></th>\n",
       "      <th>coef</th>\n",
       "      <th>se(coef)</th>\n",
       "      <th>lower 95% bound</th>\n",
       "      <th>upper 95% bound</th>\n",
       "    </tr>\n",
       "  </thead>\n",
       "  <tbody>\n",
       "    <tr>\n",
       "      <td>r</td>\n",
       "      <td>19.837361</td>\n",
       "      <td>2.790101e+00</td>\n",
       "      <td>1.436876e+01</td>\n",
       "      <td>2.530596e+01</td>\n",
       "    </tr>\n",
       "    <tr>\n",
       "      <td>alpha</td>\n",
       "      <td>271.202717</td>\n",
       "      <td>3.804375e+01</td>\n",
       "      <td>1.966370e+02</td>\n",
       "      <td>3.457685e+02</td>\n",
       "    </tr>\n",
       "    <tr>\n",
       "      <td>a</td>\n",
       "      <td>0.000010</td>\n",
       "      <td>9.946378e-03</td>\n",
       "      <td>-1.948512e-02</td>\n",
       "      <td>1.950468e-02</td>\n",
       "    </tr>\n",
       "    <tr>\n",
       "      <td>b</td>\n",
       "      <td>18337.545026</td>\n",
       "      <td>1.434158e+07</td>\n",
       "      <td>-2.809116e+07</td>\n",
       "      <td>2.812784e+07</td>\n",
       "    </tr>\n",
       "  </tbody>\n",
       "</table>\n",
       "</div>"
      ],
      "text/plain": [
       "               coef      se(coef)  lower 95% bound  upper 95% bound\n",
       "r         19.837361  2.790101e+00     1.436876e+01     2.530596e+01\n",
       "alpha    271.202717  3.804375e+01     1.966370e+02     3.457685e+02\n",
       "a          0.000010  9.946378e-03    -1.948512e-02     1.950468e-02\n",
       "b      18337.545026  1.434158e+07    -2.809116e+07     2.812784e+07"
      ]
     },
     "execution_count": 33,
     "metadata": {},
     "output_type": "execute_result"
    }
   ],
   "source": [
    "# Модель\n",
    "bgf.summary"
   ]
  },
  {
   "cell_type": "markdown",
   "metadata": {},
   "source": [
    "Мы получили оценочные значения параметров распределения из исторических данных. Теперь модель использует их для прогнозирования будущих транзакций и скорости оттока клиентов."
   ]
  },
  {
   "cell_type": "code",
   "execution_count": 34,
   "metadata": {},
   "outputs": [
    {
     "data": {
      "text/html": [
       "<div>\n",
       "<style scoped>\n",
       "    .dataframe tbody tr th:only-of-type {\n",
       "        vertical-align: middle;\n",
       "    }\n",
       "\n",
       "    .dataframe tbody tr th {\n",
       "        vertical-align: top;\n",
       "    }\n",
       "\n",
       "    .dataframe thead th {\n",
       "        text-align: right;\n",
       "    }\n",
       "</style>\n",
       "<table border=\"1\" class=\"dataframe\">\n",
       "  <thead>\n",
       "    <tr style=\"text-align: right;\">\n",
       "      <th></th>\n",
       "      <th>user_id</th>\n",
       "      <th>frequency</th>\n",
       "      <th>recency</th>\n",
       "      <th>T</th>\n",
       "      <th>monetary_value</th>\n",
       "      <th>probability_alive</th>\n",
       "    </tr>\n",
       "  </thead>\n",
       "  <tbody>\n",
       "    <tr>\n",
       "      <td>320</td>\n",
       "      <td>2121480</td>\n",
       "      <td>0.0</td>\n",
       "      <td>0.0</td>\n",
       "      <td>39.0</td>\n",
       "      <td>0.00</td>\n",
       "      <td>1.0</td>\n",
       "    </tr>\n",
       "    <tr>\n",
       "      <td>8416</td>\n",
       "      <td>8643547</td>\n",
       "      <td>0.0</td>\n",
       "      <td>0.0</td>\n",
       "      <td>15.0</td>\n",
       "      <td>0.00</td>\n",
       "      <td>1.0</td>\n",
       "    </tr>\n",
       "    <tr>\n",
       "      <td>5761</td>\n",
       "      <td>8442220</td>\n",
       "      <td>1.0</td>\n",
       "      <td>7.0</td>\n",
       "      <td>27.0</td>\n",
       "      <td>4.99</td>\n",
       "      <td>1.0</td>\n",
       "    </tr>\n",
       "    <tr>\n",
       "      <td>4003</td>\n",
       "      <td>8308285</td>\n",
       "      <td>0.0</td>\n",
       "      <td>0.0</td>\n",
       "      <td>27.0</td>\n",
       "      <td>0.00</td>\n",
       "      <td>1.0</td>\n",
       "    </tr>\n",
       "    <tr>\n",
       "      <td>9980</td>\n",
       "      <td>8745800</td>\n",
       "      <td>3.0</td>\n",
       "      <td>21.0</td>\n",
       "      <td>27.0</td>\n",
       "      <td>4.99</td>\n",
       "      <td>1.0</td>\n",
       "    </tr>\n",
       "    <tr>\n",
       "      <td>19390</td>\n",
       "      <td>9496609</td>\n",
       "      <td>0.0</td>\n",
       "      <td>0.0</td>\n",
       "      <td>1.0</td>\n",
       "      <td>0.00</td>\n",
       "      <td>1.0</td>\n",
       "    </tr>\n",
       "    <tr>\n",
       "      <td>6935</td>\n",
       "      <td>8535700</td>\n",
       "      <td>3.0</td>\n",
       "      <td>21.0</td>\n",
       "      <td>34.0</td>\n",
       "      <td>4.99</td>\n",
       "      <td>1.0</td>\n",
       "    </tr>\n",
       "    <tr>\n",
       "      <td>9918</td>\n",
       "      <td>8741295</td>\n",
       "      <td>3.0</td>\n",
       "      <td>21.0</td>\n",
       "      <td>27.0</td>\n",
       "      <td>4.99</td>\n",
       "      <td>1.0</td>\n",
       "    </tr>\n",
       "    <tr>\n",
       "      <td>17834</td>\n",
       "      <td>9366191</td>\n",
       "      <td>0.0</td>\n",
       "      <td>0.0</td>\n",
       "      <td>5.0</td>\n",
       "      <td>0.00</td>\n",
       "      <td>1.0</td>\n",
       "    </tr>\n",
       "    <tr>\n",
       "      <td>2495</td>\n",
       "      <td>8211009</td>\n",
       "      <td>3.0</td>\n",
       "      <td>21.0</td>\n",
       "      <td>22.0</td>\n",
       "      <td>4.99</td>\n",
       "      <td>1.0</td>\n",
       "    </tr>\n",
       "  </tbody>\n",
       "</table>\n",
       "</div>"
      ],
      "text/plain": [
       "       user_id  frequency  recency     T  monetary_value  probability_alive\n",
       "320    2121480        0.0      0.0  39.0            0.00                1.0\n",
       "8416   8643547        0.0      0.0  15.0            0.00                1.0\n",
       "5761   8442220        1.0      7.0  27.0            4.99                1.0\n",
       "4003   8308285        0.0      0.0  27.0            0.00                1.0\n",
       "9980   8745800        3.0     21.0  27.0            4.99                1.0\n",
       "19390  9496609        0.0      0.0   1.0            0.00                1.0\n",
       "6935   8535700        3.0     21.0  34.0            4.99                1.0\n",
       "9918   8741295        3.0     21.0  27.0            4.99                1.0\n",
       "17834  9366191        0.0      0.0   5.0            0.00                1.0\n",
       "2495   8211009        3.0     21.0  22.0            4.99                1.0"
      ]
     },
     "metadata": {},
     "output_type": "display_data"
    }
   ],
   "source": [
    "#Сделаем прогноз \"живых\" клиентов, т.е. тех, кто продолжит пользоваться подпиской.\n",
    "summary['probability_alive'] = bgf.conditional_probability_alive(summary['frequency'],summary['recency'],summary['T'])\n",
    "display(summary.sample(10))"
   ]
  },
  {
   "cell_type": "code",
   "execution_count": 35,
   "metadata": {},
   "outputs": [
    {
     "data": {
      "text/plain": [
       "<matplotlib.axes._subplots.AxesSubplot at 0x7fc1e0a3a410>"
      ]
     },
     "execution_count": 35,
     "metadata": {},
     "output_type": "execute_result"
    },
    {
     "data": {
      "image/png": "[encoded data removed]",
      "text/plain": [
       "<Figure size 864x576 with 2 Axes>"
      ]
     },
     "metadata": {
      "needs_background": "light"
     },
     "output_type": "display_data"
    }
   ],
   "source": [
    "#Визуальное представление взаимосвязи между сроком и частотой покупок.\n",
    "fig = plt.figure(figsize=(12,8))\n",
    "plot_probability_alive_matrix(bgf)"
   ]
  },
  {
   "cell_type": "markdown",
   "metadata": {},
   "source": [
    "Вероятность остаться в живых рассчитывается на основе давности и частоты клиентов.\n",
    "\n",
    "Если клиент покупал несколько раз (частота) и время между первой и последней транзакцией велико (новизна), то его/ее вероятность остаться в живых высока.\n",
    "Точно так же, если клиент имеет меньшую частоту (покупал один или два раза) и время между первой и последней транзакцией мало (новизна), то его/ее вероятность остаться в живых высока.\n",
    "Так как наши данные свидетельствуют о еженедельных и регулярных покупках, то модель предсказывает высокий процент \"оставшихся в живых\" клиентов. \n",
    "Следующее, что мы можем сделать с этой обученной моделью, — предсказать вероятные будущие транзакции для каждого клиента. "
   ]
  },
  {
   "cell_type": "code",
   "execution_count": 36,
   "metadata": {},
   "outputs": [
    {
     "data": {
      "text/html": [
       "<div>\n",
       "<style scoped>\n",
       "    .dataframe tbody tr th:only-of-type {\n",
       "        vertical-align: middle;\n",
       "    }\n",
       "\n",
       "    .dataframe tbody tr th {\n",
       "        vertical-align: top;\n",
       "    }\n",
       "\n",
       "    .dataframe thead th {\n",
       "        text-align: right;\n",
       "    }\n",
       "</style>\n",
       "<table border=\"1\" class=\"dataframe\">\n",
       "  <thead>\n",
       "    <tr style=\"text-align: right;\">\n",
       "      <th></th>\n",
       "      <th>index</th>\n",
       "      <th>user_id</th>\n",
       "      <th>frequency</th>\n",
       "      <th>recency</th>\n",
       "      <th>T</th>\n",
       "      <th>monetary_value</th>\n",
       "      <th>probability_alive</th>\n",
       "      <th>pred_num</th>\n",
       "    </tr>\n",
       "  </thead>\n",
       "  <tbody>\n",
       "    <tr>\n",
       "      <td>0</td>\n",
       "      <td>2223</td>\n",
       "      <td>8192538</td>\n",
       "      <td>0.0</td>\n",
       "      <td>0.0</td>\n",
       "      <td>43.0</td>\n",
       "      <td>0.00</td>\n",
       "      <td>1.0</td>\n",
       "      <td>11.36</td>\n",
       "    </tr>\n",
       "    <tr>\n",
       "      <td>1</td>\n",
       "      <td>3763</td>\n",
       "      <td>8289864</td>\n",
       "      <td>5.0</td>\n",
       "      <td>35.0</td>\n",
       "      <td>40.0</td>\n",
       "      <td>4.99</td>\n",
       "      <td>1.0</td>\n",
       "      <td>14.37</td>\n",
       "    </tr>\n",
       "    <tr>\n",
       "      <td>2</td>\n",
       "      <td>13296</td>\n",
       "      <td>8993832</td>\n",
       "      <td>2.0</td>\n",
       "      <td>14.0</td>\n",
       "      <td>18.0</td>\n",
       "      <td>4.99</td>\n",
       "      <td>1.0</td>\n",
       "      <td>13.59</td>\n",
       "    </tr>\n",
       "    <tr>\n",
       "      <td>3</td>\n",
       "      <td>1380</td>\n",
       "      <td>7089619</td>\n",
       "      <td>1.0</td>\n",
       "      <td>7.0</td>\n",
       "      <td>8.0</td>\n",
       "      <td>4.99</td>\n",
       "      <td>1.0</td>\n",
       "      <td>13.43</td>\n",
       "    </tr>\n",
       "    <tr>\n",
       "      <td>4</td>\n",
       "      <td>14381</td>\n",
       "      <td>9076475</td>\n",
       "      <td>1.0</td>\n",
       "      <td>7.0</td>\n",
       "      <td>10.0</td>\n",
       "      <td>4.99</td>\n",
       "      <td>1.0</td>\n",
       "      <td>13.34</td>\n",
       "    </tr>\n",
       "    <tr>\n",
       "      <td>5</td>\n",
       "      <td>4872</td>\n",
       "      <td>8375739</td>\n",
       "      <td>5.0</td>\n",
       "      <td>35.0</td>\n",
       "      <td>39.0</td>\n",
       "      <td>4.99</td>\n",
       "      <td>1.0</td>\n",
       "      <td>14.41</td>\n",
       "    </tr>\n",
       "    <tr>\n",
       "      <td>6</td>\n",
       "      <td>2631</td>\n",
       "      <td>8217103</td>\n",
       "      <td>6.0</td>\n",
       "      <td>42.0</td>\n",
       "      <td>42.0</td>\n",
       "      <td>4.99</td>\n",
       "      <td>1.0</td>\n",
       "      <td>14.85</td>\n",
       "    </tr>\n",
       "    <tr>\n",
       "      <td>7</td>\n",
       "      <td>9967</td>\n",
       "      <td>8744873</td>\n",
       "      <td>1.0</td>\n",
       "      <td>7.0</td>\n",
       "      <td>27.0</td>\n",
       "      <td>4.99</td>\n",
       "      <td>1.0</td>\n",
       "      <td>12.58</td>\n",
       "    </tr>\n",
       "    <tr>\n",
       "      <td>8</td>\n",
       "      <td>2864</td>\n",
       "      <td>8231119</td>\n",
       "      <td>3.0</td>\n",
       "      <td>21.0</td>\n",
       "      <td>28.0</td>\n",
       "      <td>4.99</td>\n",
       "      <td>1.0</td>\n",
       "      <td>13.74</td>\n",
       "    </tr>\n",
       "    <tr>\n",
       "      <td>9</td>\n",
       "      <td>5939</td>\n",
       "      <td>8454570</td>\n",
       "      <td>5.0</td>\n",
       "      <td>35.0</td>\n",
       "      <td>36.0</td>\n",
       "      <td>4.99</td>\n",
       "      <td>1.0</td>\n",
       "      <td>14.55</td>\n",
       "    </tr>\n",
       "  </tbody>\n",
       "</table>\n",
       "</div>"
      ],
      "text/plain": [
       "   index  user_id  frequency  recency     T  monetary_value  \\\n",
       "0   2223  8192538        0.0      0.0  43.0            0.00   \n",
       "1   3763  8289864        5.0     35.0  40.0            4.99   \n",
       "2  13296  8993832        2.0     14.0  18.0            4.99   \n",
       "3   1380  7089619        1.0      7.0   8.0            4.99   \n",
       "4  14381  9076475        1.0      7.0  10.0            4.99   \n",
       "5   4872  8375739        5.0     35.0  39.0            4.99   \n",
       "6   2631  8217103        6.0     42.0  42.0            4.99   \n",
       "7   9967  8744873        1.0      7.0  27.0            4.99   \n",
       "8   2864  8231119        3.0     21.0  28.0            4.99   \n",
       "9   5939  8454570        5.0     35.0  36.0            4.99   \n",
       "\n",
       "   probability_alive  pred_num  \n",
       "0                1.0     11.36  \n",
       "1                1.0     14.37  \n",
       "2                1.0     13.59  \n",
       "3                1.0     13.43  \n",
       "4                1.0     13.34  \n",
       "5                1.0     14.41  \n",
       "6                1.0     14.85  \n",
       "7                1.0     12.58  \n",
       "8                1.0     13.74  \n",
       "9                1.0     14.55  "
      ]
     },
     "execution_count": 36,
     "metadata": {},
     "output_type": "execute_result"
    }
   ],
   "source": [
    "# Предскажем покупки на 6 мес. на основе исторических данных\n",
    "t=180\n",
    "summary['pred_num'] = round(bgf.conditional_expected_number_of_purchases_up_to_time(t, summary['frequency'],summary['recency'],summary['T']),2)\n",
    "summary.sort_values(by='pred_num', ascending=False).sample(10).reset_index()"
   ]
  },
  {
   "cell_type": "markdown",
   "metadata": {},
   "source": [
    "Модель BG/NBD может только предсказывать будущие транзакции и скорость оттока клиентов. Чтобы добавить денежный аспект проблемы, мы должны смоделировать денежную стоимость, используя Гамма-гамма-модель .\n",
    "\n",
    "Некоторые из ключевых допущений модели Гамма-Гамма:\n",
    "\n",
    "1. Денежная стоимость данной транзакции клиента случайным образом варьируется вокруг средней стоимости транзакции.\n",
    "\n",
    "2. Средняя стоимость транзакции варьируется в зависимости от клиентов, но не меняется с течением времени для любого конкретного клиента.\n",
    "\n",
    "3. Распределение средних значений транзакций между клиентами не зависит от процесса транзакций.\n",
    "\n",
    "В качестве первого шага перед подгонкой модели к данным мы должны проверить, верны ли предположения, сделанные моделью, для данных. Только если он удовлетворяет, мы должны двигаться дальше.\n",
    "\n",
    "Из этих трех можно подтвердить последнее предположение. Это означает, что не должно быть никакой связи между частотой и денежной стоимостью транзакций. Это легко проверить с помощью корреляции Пирсона.\n",
    "\n",
    "ПРИМЕЧАНИЕ. Мы учитываем только клиентов, которые совершали повторные покупки в компании, т. е. частота > 0. Потому что, если частота равна 0, это означает, что они являются разовыми клиентами и отменили подписку на продукт, т.е. \"умерли\"."
   ]
  },
  {
   "cell_type": "code",
   "execution_count": 37,
   "metadata": {},
   "outputs": [
    {
     "data": {
      "text/plain": [
       "(12353, 7)"
      ]
     },
     "metadata": {},
     "output_type": "display_data"
    },
    {
     "data": {
      "text/html": [
       "<div>\n",
       "<style scoped>\n",
       "    .dataframe tbody tr th:only-of-type {\n",
       "        vertical-align: middle;\n",
       "    }\n",
       "\n",
       "    .dataframe tbody tr th {\n",
       "        vertical-align: top;\n",
       "    }\n",
       "\n",
       "    .dataframe thead th {\n",
       "        text-align: right;\n",
       "    }\n",
       "</style>\n",
       "<table border=\"1\" class=\"dataframe\">\n",
       "  <thead>\n",
       "    <tr style=\"text-align: right;\">\n",
       "      <th></th>\n",
       "      <th>user_id</th>\n",
       "      <th>frequency</th>\n",
       "      <th>recency</th>\n",
       "      <th>T</th>\n",
       "      <th>monetary_value</th>\n",
       "      <th>probability_alive</th>\n",
       "      <th>pred_num</th>\n",
       "    </tr>\n",
       "  </thead>\n",
       "  <tbody>\n",
       "    <tr>\n",
       "      <td>1</td>\n",
       "      <td>9010</td>\n",
       "      <td>2.0</td>\n",
       "      <td>14.0</td>\n",
       "      <td>17.0</td>\n",
       "      <td>4.99</td>\n",
       "      <td>1.0</td>\n",
       "      <td>13.64</td>\n",
       "    </tr>\n",
       "    <tr>\n",
       "      <td>2</td>\n",
       "      <td>23403</td>\n",
       "      <td>2.0</td>\n",
       "      <td>15.0</td>\n",
       "      <td>24.0</td>\n",
       "      <td>4.99</td>\n",
       "      <td>1.0</td>\n",
       "      <td>13.32</td>\n",
       "    </tr>\n",
       "    <tr>\n",
       "      <td>3</td>\n",
       "      <td>23647</td>\n",
       "      <td>2.0</td>\n",
       "      <td>14.0</td>\n",
       "      <td>21.0</td>\n",
       "      <td>4.99</td>\n",
       "      <td>1.0</td>\n",
       "      <td>13.45</td>\n",
       "    </tr>\n",
       "    <tr>\n",
       "      <td>4</td>\n",
       "      <td>33989</td>\n",
       "      <td>2.0</td>\n",
       "      <td>14.0</td>\n",
       "      <td>17.0</td>\n",
       "      <td>4.99</td>\n",
       "      <td>1.0</td>\n",
       "      <td>13.64</td>\n",
       "    </tr>\n",
       "    <tr>\n",
       "      <td>5</td>\n",
       "      <td>59163</td>\n",
       "      <td>3.0</td>\n",
       "      <td>21.0</td>\n",
       "      <td>28.0</td>\n",
       "      <td>4.99</td>\n",
       "      <td>1.0</td>\n",
       "      <td>13.74</td>\n",
       "    </tr>\n",
       "  </tbody>\n",
       "</table>\n",
       "</div>"
      ],
      "text/plain": [
       "   user_id  frequency  recency     T  monetary_value  probability_alive  \\\n",
       "1     9010        2.0     14.0  17.0            4.99                1.0   \n",
       "2    23403        2.0     15.0  24.0            4.99                1.0   \n",
       "3    23647        2.0     14.0  21.0            4.99                1.0   \n",
       "4    33989        2.0     14.0  17.0            4.99                1.0   \n",
       "5    59163        3.0     21.0  28.0            4.99                1.0   \n",
       "\n",
       "   pred_num  \n",
       "1     13.64  \n",
       "2     13.32  \n",
       "3     13.45  \n",
       "4     13.64  \n",
       "5     13.74  "
      ]
     },
     "execution_count": 37,
     "metadata": {},
     "output_type": "execute_result"
    }
   ],
   "source": [
    "#Проверим отношение между частотой и стоимостью покупок\n",
    "\n",
    "return_customers_summary = summary[summary['frequency']>0]\n",
    "display(return_customers_summary.shape)\n",
    "return_customers_summary.head()"
   ]
  },
  {
   "cell_type": "code",
   "execution_count": 38,
   "metadata": {},
   "outputs": [
    {
     "data": {
      "text/html": [
       "<div>\n",
       "<style scoped>\n",
       "    .dataframe tbody tr th:only-of-type {\n",
       "        vertical-align: middle;\n",
       "    }\n",
       "\n",
       "    .dataframe tbody tr th {\n",
       "        vertical-align: top;\n",
       "    }\n",
       "\n",
       "    .dataframe thead th {\n",
       "        text-align: right;\n",
       "    }\n",
       "</style>\n",
       "<table border=\"1\" class=\"dataframe\">\n",
       "  <thead>\n",
       "    <tr style=\"text-align: right;\">\n",
       "      <th></th>\n",
       "      <th>frequency</th>\n",
       "      <th>monetary_value</th>\n",
       "    </tr>\n",
       "  </thead>\n",
       "  <tbody>\n",
       "    <tr>\n",
       "      <td>frequency</td>\n",
       "      <td>1.000000</td>\n",
       "      <td>-0.008215</td>\n",
       "    </tr>\n",
       "    <tr>\n",
       "      <td>monetary_value</td>\n",
       "      <td>-0.008215</td>\n",
       "      <td>1.000000</td>\n",
       "    </tr>\n",
       "  </tbody>\n",
       "</table>\n",
       "</div>"
      ],
      "text/plain": [
       "                frequency  monetary_value\n",
       "frequency        1.000000       -0.008215\n",
       "monetary_value  -0.008215        1.000000"
      ]
     },
     "execution_count": 38,
     "metadata": {},
     "output_type": "execute_result"
    }
   ],
   "source": [
    "return_customers_summary[['frequency', 'monetary_value']].corr()"
   ]
  },
  {
   "cell_type": "markdown",
   "metadata": {},
   "source": [
    "Корреляция кажется очень слабой. Следовательно, мы можем сделать вывод, что предположение выполнено, и мы можем подогнать модель к нашим данным."
   ]
  },
  {
   "cell_type": "code",
   "execution_count": 39,
   "metadata": {},
   "outputs": [
    {
     "data": {
      "text/plain": [
       "<lifetimes.GammaGammaFitter: fitted with 12353 subjects, p: 10.81, q: 11.71, v: 5.36>"
      ]
     },
     "execution_count": 39,
     "metadata": {},
     "output_type": "execute_result"
    }
   ],
   "source": [
    "#Смоделируем прогноз по стоимости используя Гамма-Гамма модель\n",
    "ggf = lifetimes.GammaGammaFitter(penalizer_coef=0.001)\n",
    "ggf.fit(return_customers_summary['frequency'], return_customers_summary['monetary_value'])"
   ]
  },
  {
   "cell_type": "code",
   "execution_count": 40,
   "metadata": {},
   "outputs": [
    {
     "data": {
      "text/html": [
       "<div>\n",
       "<style scoped>\n",
       "    .dataframe tbody tr th:only-of-type {\n",
       "        vertical-align: middle;\n",
       "    }\n",
       "\n",
       "    .dataframe tbody tr th {\n",
       "        vertical-align: top;\n",
       "    }\n",
       "\n",
       "    .dataframe thead th {\n",
       "        text-align: right;\n",
       "    }\n",
       "</style>\n",
       "<table border=\"1\" class=\"dataframe\">\n",
       "  <thead>\n",
       "    <tr style=\"text-align: right;\">\n",
       "      <th></th>\n",
       "      <th>coef</th>\n",
       "      <th>se(coef)</th>\n",
       "      <th>lower 95% bound</th>\n",
       "      <th>upper 95% bound</th>\n",
       "    </tr>\n",
       "  </thead>\n",
       "  <tbody>\n",
       "    <tr>\n",
       "      <td>p</td>\n",
       "      <td>10.812076</td>\n",
       "      <td>0.122872</td>\n",
       "      <td>10.571247</td>\n",
       "      <td>11.052906</td>\n",
       "    </tr>\n",
       "    <tr>\n",
       "      <td>q</td>\n",
       "      <td>11.706420</td>\n",
       "      <td>0.125442</td>\n",
       "      <td>11.460555</td>\n",
       "      <td>11.952286</td>\n",
       "    </tr>\n",
       "    <tr>\n",
       "      <td>v</td>\n",
       "      <td>5.363562</td>\n",
       "      <td>0.071299</td>\n",
       "      <td>5.223816</td>\n",
       "      <td>5.503307</td>\n",
       "    </tr>\n",
       "  </tbody>\n",
       "</table>\n",
       "</div>"
      ],
      "text/plain": [
       "        coef  se(coef)  lower 95% bound  upper 95% bound\n",
       "p  10.812076  0.122872        10.571247        11.052906\n",
       "q  11.706420  0.125442        11.460555        11.952286\n",
       "v   5.363562  0.071299         5.223816         5.503307"
      ]
     },
     "execution_count": 40,
     "metadata": {},
     "output_type": "execute_result"
    }
   ],
   "source": [
    "# Посмотрим все подобранные параметры\n",
    "ggf.summary"
   ]
  },
  {
   "cell_type": "markdown",
   "metadata": {},
   "source": [
    "Затем мы можем предсказать ожидаемую среднюю прибыль для каждой транзакции и пожизненную ценность клиента, используя одну из двух моделей:\n",
    "\n",
    "- model.conditional_expected_average_profit(): этот метод вычисляет условное ожидание средней прибыли на транзакцию для группы из одного или нескольких клиентов.\n",
    "- model.customer_lifetime_value(): этот метод вычисляет среднюю стоимость жизни группы из одного или нескольких клиентов. Этот метод использует модель BG/NBD и горизонт прогнозирования в качестве параметра для расчета CLV."
   ]
  },
  {
   "cell_type": "markdown",
   "metadata": {},
   "source": [
    "Посчитаем стоимость жизненного цикла клиента напрямую, используя метод model.customer_lifetime_value из пакета жизненного цикла."
   ]
  },
  {
   "cell_type": "code",
   "execution_count": 41,
   "metadata": {},
   "outputs": [
    {
     "data": {
      "text/html": [
       "<div>\n",
       "<style scoped>\n",
       "    .dataframe tbody tr th:only-of-type {\n",
       "        vertical-align: middle;\n",
       "    }\n",
       "\n",
       "    .dataframe tbody tr th {\n",
       "        vertical-align: top;\n",
       "    }\n",
       "\n",
       "    .dataframe thead th {\n",
       "        text-align: right;\n",
       "    }\n",
       "</style>\n",
       "<table border=\"1\" class=\"dataframe\">\n",
       "  <thead>\n",
       "    <tr style=\"text-align: right;\">\n",
       "      <th></th>\n",
       "      <th>user_id</th>\n",
       "      <th>frequency</th>\n",
       "      <th>recency</th>\n",
       "      <th>T</th>\n",
       "      <th>monetary_value</th>\n",
       "      <th>probability_alive</th>\n",
       "      <th>pred_num</th>\n",
       "      <th>predicted_ltv</th>\n",
       "    </tr>\n",
       "  </thead>\n",
       "  <tbody>\n",
       "    <tr>\n",
       "      <td>15958</td>\n",
       "      <td>9206464</td>\n",
       "      <td>0.0</td>\n",
       "      <td>0.0</td>\n",
       "      <td>10.0</td>\n",
       "      <td>0.00</td>\n",
       "      <td>1.0</td>\n",
       "      <td>12.70</td>\n",
       "      <td>9.621913</td>\n",
       "    </tr>\n",
       "    <tr>\n",
       "      <td>12014</td>\n",
       "      <td>8892810</td>\n",
       "      <td>3.0</td>\n",
       "      <td>21.0</td>\n",
       "      <td>22.0</td>\n",
       "      <td>4.99</td>\n",
       "      <td>1.0</td>\n",
       "      <td>14.02</td>\n",
       "      <td>9.994766</td>\n",
       "    </tr>\n",
       "    <tr>\n",
       "      <td>2576</td>\n",
       "      <td>8214744</td>\n",
       "      <td>0.0</td>\n",
       "      <td>0.0</td>\n",
       "      <td>42.0</td>\n",
       "      <td>0.00</td>\n",
       "      <td>1.0</td>\n",
       "      <td>11.40</td>\n",
       "      <td>8.638840</td>\n",
       "    </tr>\n",
       "    <tr>\n",
       "      <td>10813</td>\n",
       "      <td>8805586</td>\n",
       "      <td>0.0</td>\n",
       "      <td>0.0</td>\n",
       "      <td>25.0</td>\n",
       "      <td>0.00</td>\n",
       "      <td>1.0</td>\n",
       "      <td>12.06</td>\n",
       "      <td>9.134650</td>\n",
       "    </tr>\n",
       "    <tr>\n",
       "      <td>3750</td>\n",
       "      <td>8288966</td>\n",
       "      <td>4.0</td>\n",
       "      <td>35.0</td>\n",
       "      <td>39.0</td>\n",
       "      <td>4.99</td>\n",
       "      <td>1.0</td>\n",
       "      <td>13.83</td>\n",
       "      <td>9.819648</td>\n",
       "    </tr>\n",
       "  </tbody>\n",
       "</table>\n",
       "</div>"
      ],
      "text/plain": [
       "       user_id  frequency  recency     T  monetary_value  probability_alive  \\\n",
       "15958  9206464        0.0      0.0  10.0            0.00                1.0   \n",
       "12014  8892810        3.0     21.0  22.0            4.99                1.0   \n",
       "2576   8214744        0.0      0.0  42.0            0.00                1.0   \n",
       "10813  8805586        0.0      0.0  25.0            0.00                1.0   \n",
       "3750   8288966        4.0     35.0  39.0            4.99                1.0   \n",
       "\n",
       "       pred_num  predicted_ltv  \n",
       "15958     12.70       9.621913  \n",
       "12014     14.02       9.994766  \n",
       "2576      11.40       8.638840  \n",
       "10813     12.06       9.134650  \n",
       "3750      13.83       9.819648  "
      ]
     },
     "metadata": {},
     "output_type": "display_data"
    }
   ],
   "source": [
    "summary['predicted_ltv'] = ggf.customer_lifetime_value(bgf,summary['frequency'],\n",
    "                                                       summary['recency'],\n",
    "                                                       summary['T'], \n",
    "                                                       summary['monetary_value'],\n",
    "                                                       time=6,#Период в месяцах\n",
    "                                                       freq='W') #Период в данных          \n",
    "display(summary.sample(5))"
   ]
  },
  {
   "cell_type": "code",
   "execution_count": 42,
   "metadata": {},
   "outputs": [
    {
     "data": {
      "text/html": [
       "<div>\n",
       "<style scoped>\n",
       "    .dataframe tbody tr th:only-of-type {\n",
       "        vertical-align: middle;\n",
       "    }\n",
       "\n",
       "    .dataframe tbody tr th {\n",
       "        vertical-align: top;\n",
       "    }\n",
       "\n",
       "    .dataframe thead th {\n",
       "        text-align: right;\n",
       "    }\n",
       "</style>\n",
       "<table border=\"1\" class=\"dataframe\">\n",
       "  <thead>\n",
       "    <tr style=\"text-align: right;\">\n",
       "      <th></th>\n",
       "      <th>user_id</th>\n",
       "      <th>frequency</th>\n",
       "      <th>recency</th>\n",
       "      <th>T</th>\n",
       "      <th>monetary_value</th>\n",
       "      <th>probability_alive</th>\n",
       "      <th>pred_num</th>\n",
       "      <th>predicted_ltv</th>\n",
       "      <th>LTV</th>\n",
       "    </tr>\n",
       "  </thead>\n",
       "  <tbody>\n",
       "    <tr>\n",
       "      <td>0</td>\n",
       "      <td>404</td>\n",
       "      <td>0.0</td>\n",
       "      <td>0.0</td>\n",
       "      <td>10.0</td>\n",
       "      <td>0.00</td>\n",
       "      <td>1.0</td>\n",
       "      <td>12.70</td>\n",
       "      <td>9.621913</td>\n",
       "      <td>9.621913</td>\n",
       "    </tr>\n",
       "    <tr>\n",
       "      <td>1</td>\n",
       "      <td>9010</td>\n",
       "      <td>2.0</td>\n",
       "      <td>14.0</td>\n",
       "      <td>17.0</td>\n",
       "      <td>4.99</td>\n",
       "      <td>1.0</td>\n",
       "      <td>13.64</td>\n",
       "      <td>9.790456</td>\n",
       "      <td>9.790456</td>\n",
       "    </tr>\n",
       "    <tr>\n",
       "      <td>2</td>\n",
       "      <td>23403</td>\n",
       "      <td>2.0</td>\n",
       "      <td>15.0</td>\n",
       "      <td>24.0</td>\n",
       "      <td>4.99</td>\n",
       "      <td>1.0</td>\n",
       "      <td>13.32</td>\n",
       "      <td>9.558299</td>\n",
       "      <td>9.558299</td>\n",
       "    </tr>\n",
       "    <tr>\n",
       "      <td>3</td>\n",
       "      <td>23647</td>\n",
       "      <td>2.0</td>\n",
       "      <td>14.0</td>\n",
       "      <td>21.0</td>\n",
       "      <td>4.99</td>\n",
       "      <td>1.0</td>\n",
       "      <td>13.45</td>\n",
       "      <td>9.656433</td>\n",
       "      <td>9.656433</td>\n",
       "    </tr>\n",
       "    <tr>\n",
       "      <td>4</td>\n",
       "      <td>33989</td>\n",
       "      <td>2.0</td>\n",
       "      <td>14.0</td>\n",
       "      <td>17.0</td>\n",
       "      <td>4.99</td>\n",
       "      <td>1.0</td>\n",
       "      <td>13.64</td>\n",
       "      <td>9.790456</td>\n",
       "      <td>9.790456</td>\n",
       "    </tr>\n",
       "  </tbody>\n",
       "</table>\n",
       "</div>"
      ],
      "text/plain": [
       "   user_id  frequency  recency     T  monetary_value  probability_alive  \\\n",
       "0      404        0.0      0.0  10.0            0.00                1.0   \n",
       "1     9010        2.0     14.0  17.0            4.99                1.0   \n",
       "2    23403        2.0     15.0  24.0            4.99                1.0   \n",
       "3    23647        2.0     14.0  21.0            4.99                1.0   \n",
       "4    33989        2.0     14.0  17.0            4.99                1.0   \n",
       "\n",
       "   pred_num  predicted_ltv       LTV  \n",
       "0     12.70       9.621913  9.621913  \n",
       "1     13.64       9.790456  9.790456  \n",
       "2     13.32       9.558299  9.558299  \n",
       "3     13.45       9.656433  9.656433  \n",
       "4     13.64       9.790456  9.790456  "
      ]
     },
     "execution_count": 42,
     "metadata": {},
     "output_type": "execute_result"
    }
   ],
   "source": [
    "# LTV посчитана без учета маржинальности. Добавим этот параметр. \n",
    "#Т.к. этих данных не было в ТЗ, поставим маржинальность, равную 100%\n",
    "margin_rate = 1\n",
    "summary['LTV'] = summary['predicted_ltv'] * margin_rate\n",
    "summary.head()"
   ]
  },
  {
   "cell_type": "code",
   "execution_count": 43,
   "metadata": {},
   "outputs": [
    {
     "data": {
      "image/png": "[encoded data removed]",
      "text/plain": [
       "<Figure size 1008x576 with 4 Axes>"
      ]
     },
     "metadata": {
      "needs_background": "light"
     },
     "output_type": "display_data"
    }
   ],
   "source": [
    "#plotting the distribution\n",
    "plt.figure(figsize=(14,8))\n",
    "plt.subplot(221)\n",
    "sns.distplot(summary[\"frequency\"])\n",
    "plt.title(\"Frequency Distribution\")\n",
    "plt.subplot(222)\n",
    "sns.distplot(summary[\"recency\"])\n",
    "plt.title(\"Recency Distribution\")\n",
    "plt.subplot(223)\n",
    "sns.distplot(summary[\"T\"])\n",
    "plt.title(\"T Distribution\")\n",
    "plt.subplot(224)\n",
    "sns.distplot(summary[\"monetary_value\"])\n",
    "plt.title(\"Monetary Value Distribution\")\n",
    "plt.tight_layout()"
   ]
  },
  {
   "cell_type": "code",
   "execution_count": 44,
   "metadata": {},
   "outputs": [
    {
     "data": {
      "image/png": "[encoded data removed]",
      "text/plain": [
       "<Figure size 1152x360 with 4 Axes>"
      ]
     },
     "metadata": {
      "needs_background": "light"
     },
     "output_type": "display_data"
    }
   ],
   "source": [
    "plt.figure(figsize=(16,5))\n",
    "plt.subplot(141)\n",
    "sns.boxplot(summary[\"frequency\"], color = \"olive\")\n",
    "plt.title(\"Frequency\")\n",
    "plt.subplot(142)\n",
    "sns.boxplot(summary[\"recency\"])\n",
    "plt.title(\"Recency\")\n",
    "plt.subplot(143)\n",
    "sns.boxplot(summary[\"T\"])\n",
    "plt.title(\"T\")\n",
    "plt.subplot(144)\n",
    "sns.boxplot(summary[\"monetary_value\"], color = \"salmon\")\n",
    "plt.title(\"Monetary Value\")\n",
    "plt.tight_layout()"
   ]
  },
  {
   "cell_type": "code",
   "execution_count": 45,
   "metadata": {},
   "outputs": [
    {
     "name": "stdout",
     "output_type": "stream",
     "text": [
      "Средний прогнозируемый LTV на одного покупателя за 6 мес. составил: 9.63 USD\n"
     ]
    }
   ],
   "source": [
    "print('Средний прогнозируемый LTV на одного покупателя за 6 мес. составил:',summary['LTV'].mean().round(2),'USD')"
   ]
  },
  {
   "cell_type": "markdown",
   "metadata": {},
   "source": [
    "**Вывод:** За 6 месяцев средний прогнозируемый LTV на одного покупателя составил: 9.63 у.е."
   ]
  },
  {
   "cell_type": "markdown",
   "metadata": {},
   "source": [
    "## График LTV"
   ]
  },
  {
   "cell_type": "markdown",
   "metadata": {},
   "source": [
    "Построим график частоты повторных покупок и сравним данные прогноза с историческими данными. "
   ]
  },
  {
   "cell_type": "code",
   "execution_count": 46,
   "metadata": {},
   "outputs": [
    {
     "data": {
      "text/plain": [
       "<matplotlib.axes._subplots.AxesSubplot at 0x7fc1e164fc10>"
      ]
     },
     "execution_count": 46,
     "metadata": {},
     "output_type": "execute_result"
    },
    {
     "data": {
      "image/png": "[encoded data removed]",
      "text/plain": [
       "<Figure size 432x288 with 1 Axes>"
      ]
     },
     "metadata": {
      "needs_background": "light"
     },
     "output_type": "display_data"
    }
   ],
   "source": [
    "plot_period_transactions(bgf)"
   ]
  },
  {
   "cell_type": "markdown",
   "metadata": {},
   "source": [
    "## Расчет ROMI"
   ]
  },
  {
   "cell_type": "markdown",
   "metadata": {},
   "source": [
    "Добавим стоимость привлечения 1 клиента (CAC) в таблицу с данными. Расчитаем ROMI на 4 недели."
   ]
  },
  {
   "cell_type": "code",
   "execution_count": 47,
   "metadata": {},
   "outputs": [
    {
     "data": {
      "text/html": [
       "<div>\n",
       "<style scoped>\n",
       "    .dataframe tbody tr th:only-of-type {\n",
       "        vertical-align: middle;\n",
       "    }\n",
       "\n",
       "    .dataframe tbody tr th {\n",
       "        vertical-align: top;\n",
       "    }\n",
       "\n",
       "    .dataframe thead th {\n",
       "        text-align: right;\n",
       "    }\n",
       "</style>\n",
       "<table border=\"1\" class=\"dataframe\">\n",
       "  <thead>\n",
       "    <tr style=\"text-align: right;\">\n",
       "      <th></th>\n",
       "      <th>first_order_week</th>\n",
       "      <th>n_buyers</th>\n",
       "      <th>purchase_week</th>\n",
       "      <th>revenue</th>\n",
       "      <th>gp</th>\n",
       "      <th>age</th>\n",
       "      <th>ltv</th>\n",
       "      <th>cac</th>\n",
       "    </tr>\n",
       "  </thead>\n",
       "  <tbody>\n",
       "    <tr>\n",
       "      <td>42</td>\n",
       "      <td>2020-02-20</td>\n",
       "      <td>90</td>\n",
       "      <td>2020-02-20</td>\n",
       "      <td>449.10</td>\n",
       "      <td>449.10</td>\n",
       "      <td>0</td>\n",
       "      <td>4.990000</td>\n",
       "      <td>6</td>\n",
       "    </tr>\n",
       "    <tr>\n",
       "      <td>2</td>\n",
       "      <td>2019-12-26</td>\n",
       "      <td>1</td>\n",
       "      <td>2020-01-09</td>\n",
       "      <td>4.99</td>\n",
       "      <td>4.99</td>\n",
       "      <td>2</td>\n",
       "      <td>4.990000</td>\n",
       "      <td>6</td>\n",
       "    </tr>\n",
       "    <tr>\n",
       "      <td>15</td>\n",
       "      <td>2020-01-09</td>\n",
       "      <td>3475</td>\n",
       "      <td>2020-01-09</td>\n",
       "      <td>17345.24</td>\n",
       "      <td>17345.24</td>\n",
       "      <td>0</td>\n",
       "      <td>4.991436</td>\n",
       "      <td>6</td>\n",
       "    </tr>\n",
       "    <tr>\n",
       "      <td>8</td>\n",
       "      <td>2020-01-02</td>\n",
       "      <td>325</td>\n",
       "      <td>2020-01-09</td>\n",
       "      <td>1297.40</td>\n",
       "      <td>1297.40</td>\n",
       "      <td>1</td>\n",
       "      <td>3.992000</td>\n",
       "      <td>6</td>\n",
       "    </tr>\n",
       "    <tr>\n",
       "      <td>10</td>\n",
       "      <td>2020-01-02</td>\n",
       "      <td>325</td>\n",
       "      <td>2020-01-23</td>\n",
       "      <td>1022.95</td>\n",
       "      <td>1022.95</td>\n",
       "      <td>3</td>\n",
       "      <td>3.147538</td>\n",
       "      <td>6</td>\n",
       "    </tr>\n",
       "  </tbody>\n",
       "</table>\n",
       "</div>"
      ],
      "text/plain": [
       "   first_order_week  n_buyers purchase_week   revenue        gp  age  \\\n",
       "42       2020-02-20        90    2020-02-20    449.10    449.10    0   \n",
       "2        2019-12-26         1    2020-01-09      4.99      4.99    2   \n",
       "15       2020-01-09      3475    2020-01-09  17345.24  17345.24    0   \n",
       "8        2020-01-02       325    2020-01-09   1297.40   1297.40    1   \n",
       "10       2020-01-02       325    2020-01-23   1022.95   1022.95    3   \n",
       "\n",
       "         ltv  cac  \n",
       "42  4.990000    6  \n",
       "2   4.990000    6  \n",
       "15  4.991436    6  \n",
       "8   3.992000    6  \n",
       "10  3.147538    6  "
      ]
     },
     "metadata": {},
     "output_type": "display_data"
    }
   ],
   "source": [
    "CAC = 6 #Customer Acquisition Cost на одного клиента (в USD). Дано в условиях задачи.\n",
    "report['cac'] = CAC\n",
    "report = report[(report['age']<=3)] #Ограничим \"возраст\" когорты 4-мя неделями.\n",
    "display(report.sample(5))"
   ]
  },
  {
   "cell_type": "code",
   "execution_count": 48,
   "metadata": {},
   "outputs": [
    {
     "data": {
      "text/html": [
       "<div>\n",
       "<style scoped>\n",
       "    .dataframe tbody tr th:only-of-type {\n",
       "        vertical-align: middle;\n",
       "    }\n",
       "\n",
       "    .dataframe tbody tr th {\n",
       "        vertical-align: top;\n",
       "    }\n",
       "\n",
       "    .dataframe thead th {\n",
       "        text-align: right;\n",
       "    }\n",
       "</style>\n",
       "<table border=\"1\" class=\"dataframe\">\n",
       "  <thead>\n",
       "    <tr style=\"text-align: right;\">\n",
       "      <th>age</th>\n",
       "      <th>0</th>\n",
       "      <th>1</th>\n",
       "      <th>2</th>\n",
       "      <th>3</th>\n",
       "    </tr>\n",
       "    <tr>\n",
       "      <th>first_order_week</th>\n",
       "      <th></th>\n",
       "      <th></th>\n",
       "      <th></th>\n",
       "      <th></th>\n",
       "    </tr>\n",
       "  </thead>\n",
       "  <tbody>\n",
       "    <tr>\n",
       "      <td>2019-12-26</td>\n",
       "      <td>0.83</td>\n",
       "      <td>1.66</td>\n",
       "      <td>2.5</td>\n",
       "      <td>3.33</td>\n",
       "    </tr>\n",
       "    <tr>\n",
       "      <td>2020-01-02</td>\n",
       "      <td>0.83</td>\n",
       "      <td>1.5</td>\n",
       "      <td>2.1</td>\n",
       "      <td>2.62</td>\n",
       "    </tr>\n",
       "    <tr>\n",
       "      <td>2020-01-09</td>\n",
       "      <td>0.83</td>\n",
       "      <td>1.47</td>\n",
       "      <td>2.01</td>\n",
       "      <td>2.5</td>\n",
       "    </tr>\n",
       "    <tr>\n",
       "      <td>2020-01-16</td>\n",
       "      <td>0.83</td>\n",
       "      <td>1.46</td>\n",
       "      <td>2</td>\n",
       "      <td>2.45</td>\n",
       "    </tr>\n",
       "    <tr>\n",
       "      <td>2020-01-23</td>\n",
       "      <td>0.83</td>\n",
       "      <td>1.43</td>\n",
       "      <td>1.94</td>\n",
       "      <td>2.37</td>\n",
       "    </tr>\n",
       "    <tr>\n",
       "      <td>2020-01-30</td>\n",
       "      <td>0.83</td>\n",
       "      <td>1.41</td>\n",
       "      <td>1.87</td>\n",
       "      <td>1.89</td>\n",
       "    </tr>\n",
       "    <tr>\n",
       "      <td>2020-02-06</td>\n",
       "      <td>0.83</td>\n",
       "      <td>1.4</td>\n",
       "      <td>1.43</td>\n",
       "      <td></td>\n",
       "    </tr>\n",
       "    <tr>\n",
       "      <td>2020-02-13</td>\n",
       "      <td>0.83</td>\n",
       "      <td>0.87</td>\n",
       "      <td></td>\n",
       "      <td></td>\n",
       "    </tr>\n",
       "    <tr>\n",
       "      <td>2020-02-20</td>\n",
       "      <td>0.83</td>\n",
       "      <td></td>\n",
       "      <td></td>\n",
       "      <td></td>\n",
       "    </tr>\n",
       "  </tbody>\n",
       "</table>\n",
       "</div>"
      ],
      "text/plain": [
       "age                  0     1     2     3\n",
       "first_order_week                        \n",
       "2019-12-26        0.83  1.66   2.5  3.33\n",
       "2020-01-02        0.83   1.5   2.1  2.62\n",
       "2020-01-09        0.83  1.47  2.01   2.5\n",
       "2020-01-16        0.83  1.46     2  2.45\n",
       "2020-01-23        0.83  1.43  1.94  2.37\n",
       "2020-01-30        0.83  1.41  1.87  1.89\n",
       "2020-02-06        0.83   1.4  1.43      \n",
       "2020-02-13        0.83  0.87            \n",
       "2020-02-20        0.83                  "
      ]
     },
     "execution_count": 48,
     "metadata": {},
     "output_type": "execute_result"
    }
   ],
   "source": [
    "report['romi'] = report['ltv'] / report['cac']\n",
    "output = report.pivot_table(\n",
    "    index='first_order_week', columns='age', values='romi', aggfunc='mean')\n",
    "\n",
    "output.cumsum(axis=1).round(2).fillna('')"
   ]
  },
  {
   "cell_type": "code",
   "execution_count": 49,
   "metadata": {},
   "outputs": [
    {
     "data": {
      "text/plain": [
       "age\n",
       "0    0.832027\n",
       "1    1.399620\n",
       "2    1.977010\n",
       "3    2.526770\n",
       "dtype: float64"
      ]
     },
     "execution_count": 49,
     "metadata": {},
     "output_type": "execute_result"
    }
   ],
   "source": [
    "output.cumsum(axis=1).mean(axis=0) "
   ]
  },
  {
   "cell_type": "markdown",
   "metadata": {},
   "source": [
    "**Вывод:** В среднем когорты окупаются на 2-ую неделю. "
   ]
  },
  {
   "cell_type": "code",
   "execution_count": 50,
   "metadata": {},
   "outputs": [
    {
     "data": {
      "text/html": [
       "<div>\n",
       "<style scoped>\n",
       "    .dataframe tbody tr th:only-of-type {\n",
       "        vertical-align: middle;\n",
       "    }\n",
       "\n",
       "    .dataframe tbody tr th {\n",
       "        vertical-align: top;\n",
       "    }\n",
       "\n",
       "    .dataframe thead th {\n",
       "        text-align: right;\n",
       "    }\n",
       "</style>\n",
       "<table border=\"1\" class=\"dataframe\">\n",
       "  <thead>\n",
       "    <tr style=\"text-align: right;\">\n",
       "      <th></th>\n",
       "      <th>user_id</th>\n",
       "      <th>frequency</th>\n",
       "      <th>recency</th>\n",
       "      <th>T</th>\n",
       "      <th>monetary_value</th>\n",
       "      <th>probability_alive</th>\n",
       "      <th>pred_num</th>\n",
       "      <th>predicted_ltv</th>\n",
       "      <th>LTV</th>\n",
       "      <th>cac</th>\n",
       "    </tr>\n",
       "  </thead>\n",
       "  <tbody>\n",
       "    <tr>\n",
       "      <td>17737</td>\n",
       "      <td>9357503</td>\n",
       "      <td>0.0</td>\n",
       "      <td>0.0</td>\n",
       "      <td>6.0</td>\n",
       "      <td>0.00</td>\n",
       "      <td>1.0</td>\n",
       "      <td>13.0</td>\n",
       "      <td>9.760756</td>\n",
       "      <td>9.760756</td>\n",
       "      <td>6</td>\n",
       "    </tr>\n",
       "    <tr>\n",
       "      <td>4545</td>\n",
       "      <td>8349745</td>\n",
       "      <td>5.0</td>\n",
       "      <td>35.0</td>\n",
       "      <td>39.0</td>\n",
       "      <td>4.99</td>\n",
       "      <td>1.0</td>\n",
       "      <td>14.0</td>\n",
       "      <td>10.203106</td>\n",
       "      <td>10.203106</td>\n",
       "      <td>6</td>\n",
       "    </tr>\n",
       "    <tr>\n",
       "      <td>14147</td>\n",
       "      <td>9059113</td>\n",
       "      <td>2.0</td>\n",
       "      <td>14.0</td>\n",
       "      <td>15.0</td>\n",
       "      <td>4.99</td>\n",
       "      <td>1.0</td>\n",
       "      <td>14.0</td>\n",
       "      <td>9.858872</td>\n",
       "      <td>9.858872</td>\n",
       "      <td>6</td>\n",
       "    </tr>\n",
       "    <tr>\n",
       "      <td>16367</td>\n",
       "      <td>9240649</td>\n",
       "      <td>1.0</td>\n",
       "      <td>7.0</td>\n",
       "      <td>9.0</td>\n",
       "      <td>4.99</td>\n",
       "      <td>1.0</td>\n",
       "      <td>13.0</td>\n",
       "      <td>9.741734</td>\n",
       "      <td>9.741734</td>\n",
       "      <td>6</td>\n",
       "    </tr>\n",
       "    <tr>\n",
       "      <td>106</td>\n",
       "      <td>761622</td>\n",
       "      <td>3.0</td>\n",
       "      <td>21.0</td>\n",
       "      <td>37.0</td>\n",
       "      <td>4.99</td>\n",
       "      <td>1.0</td>\n",
       "      <td>13.0</td>\n",
       "      <td>9.508328</td>\n",
       "      <td>9.508328</td>\n",
       "      <td>6</td>\n",
       "    </tr>\n",
       "  </tbody>\n",
       "</table>\n",
       "</div>"
      ],
      "text/plain": [
       "       user_id  frequency  recency     T  monetary_value  probability_alive  \\\n",
       "17737  9357503        0.0      0.0   6.0            0.00                1.0   \n",
       "4545   8349745        5.0     35.0  39.0            4.99                1.0   \n",
       "14147  9059113        2.0     14.0  15.0            4.99                1.0   \n",
       "16367  9240649        1.0      7.0   9.0            4.99                1.0   \n",
       "106     761622        3.0     21.0  37.0            4.99                1.0   \n",
       "\n",
       "       pred_num  predicted_ltv        LTV  cac  \n",
       "17737      13.0       9.760756   9.760756    6  \n",
       "4545       14.0      10.203106  10.203106    6  \n",
       "14147      14.0       9.858872   9.858872    6  \n",
       "16367      13.0       9.741734   9.741734    6  \n",
       "106        13.0       9.508328   9.508328    6  "
      ]
     },
     "metadata": {},
     "output_type": "display_data"
    }
   ],
   "source": [
    "CAC = 6 #Customer Acquisition Cost на одного клиента (в USD). Дано в условиях задачи.\n",
    "summary['cac'] = CAC\n",
    "summary['pred_num'] = summary['pred_num'].round(0)\n",
    "display(summary.sample(5))"
   ]
  },
  {
   "cell_type": "code",
   "execution_count": 51,
   "metadata": {},
   "outputs": [
    {
     "data": {
      "text/html": [
       "<div>\n",
       "<style scoped>\n",
       "    .dataframe tbody tr th:only-of-type {\n",
       "        vertical-align: middle;\n",
       "    }\n",
       "\n",
       "    .dataframe tbody tr th {\n",
       "        vertical-align: top;\n",
       "    }\n",
       "\n",
       "    .dataframe thead th {\n",
       "        text-align: right;\n",
       "    }\n",
       "</style>\n",
       "<table border=\"1\" class=\"dataframe\">\n",
       "  <thead>\n",
       "    <tr style=\"text-align: right;\">\n",
       "      <th></th>\n",
       "      <th>user_id</th>\n",
       "      <th>frequency</th>\n",
       "      <th>recency</th>\n",
       "      <th>T</th>\n",
       "      <th>monetary_value</th>\n",
       "      <th>probability_alive</th>\n",
       "      <th>pred_num</th>\n",
       "      <th>predicted_ltv</th>\n",
       "      <th>LTV</th>\n",
       "      <th>cac</th>\n",
       "      <th>romi</th>\n",
       "      <th>first_order_week</th>\n",
       "    </tr>\n",
       "  </thead>\n",
       "  <tbody>\n",
       "    <tr>\n",
       "      <td>31035</td>\n",
       "      <td>8699004</td>\n",
       "      <td>1.0</td>\n",
       "      <td>7.0</td>\n",
       "      <td>21.0</td>\n",
       "      <td>4.99</td>\n",
       "      <td>1.0</td>\n",
       "      <td>13.0</td>\n",
       "      <td>9.341666</td>\n",
       "      <td>9.341666</td>\n",
       "      <td>6</td>\n",
       "      <td>1.556944</td>\n",
       "      <td>2020-01-30</td>\n",
       "    </tr>\n",
       "    <tr>\n",
       "      <td>24527</td>\n",
       "      <td>8554795</td>\n",
       "      <td>3.0</td>\n",
       "      <td>21.0</td>\n",
       "      <td>22.0</td>\n",
       "      <td>4.99</td>\n",
       "      <td>1.0</td>\n",
       "      <td>14.0</td>\n",
       "      <td>9.994766</td>\n",
       "      <td>9.994766</td>\n",
       "      <td>6</td>\n",
       "      <td>1.665794</td>\n",
       "      <td>2020-01-23</td>\n",
       "    </tr>\n",
       "    <tr>\n",
       "      <td>14510</td>\n",
       "      <td>8335622</td>\n",
       "      <td>5.0</td>\n",
       "      <td>35.0</td>\n",
       "      <td>37.0</td>\n",
       "      <td>4.99</td>\n",
       "      <td>1.0</td>\n",
       "      <td>15.0</td>\n",
       "      <td>10.269316</td>\n",
       "      <td>10.269316</td>\n",
       "      <td>6</td>\n",
       "      <td>1.711553</td>\n",
       "      <td>2020-01-09</td>\n",
       "    </tr>\n",
       "    <tr>\n",
       "      <td>47875</td>\n",
       "      <td>9266571</td>\n",
       "      <td>1.0</td>\n",
       "      <td>7.0</td>\n",
       "      <td>9.0</td>\n",
       "      <td>4.99</td>\n",
       "      <td>1.0</td>\n",
       "      <td>13.0</td>\n",
       "      <td>9.741734</td>\n",
       "      <td>9.741734</td>\n",
       "      <td>6</td>\n",
       "      <td>1.623622</td>\n",
       "      <td>2020-02-06</td>\n",
       "    </tr>\n",
       "    <tr>\n",
       "      <td>3676</td>\n",
       "      <td>7136978</td>\n",
       "      <td>3.0</td>\n",
       "      <td>21.0</td>\n",
       "      <td>23.0</td>\n",
       "      <td>4.99</td>\n",
       "      <td>1.0</td>\n",
       "      <td>14.0</td>\n",
       "      <td>9.960793</td>\n",
       "      <td>9.960793</td>\n",
       "      <td>6</td>\n",
       "      <td>1.660132</td>\n",
       "      <td>2020-01-23</td>\n",
       "    </tr>\n",
       "  </tbody>\n",
       "</table>\n",
       "</div>"
      ],
      "text/plain": [
       "       user_id  frequency  recency     T  monetary_value  probability_alive  \\\n",
       "31035  8699004        1.0      7.0  21.0            4.99                1.0   \n",
       "24527  8554795        3.0     21.0  22.0            4.99                1.0   \n",
       "14510  8335622        5.0     35.0  37.0            4.99                1.0   \n",
       "47875  9266571        1.0      7.0   9.0            4.99                1.0   \n",
       "3676   7136978        3.0     21.0  23.0            4.99                1.0   \n",
       "\n",
       "       pred_num  predicted_ltv        LTV  cac      romi first_order_week  \n",
       "31035      13.0       9.341666   9.341666    6  1.556944       2020-01-30  \n",
       "24527      14.0       9.994766   9.994766    6  1.665794       2020-01-23  \n",
       "14510      15.0      10.269316  10.269316    6  1.711553       2020-01-09  \n",
       "47875      13.0       9.741734   9.741734    6  1.623622       2020-02-06  \n",
       "3676       14.0       9.960793   9.960793    6  1.660132       2020-01-23  "
      ]
     },
     "metadata": {},
     "output_type": "display_data"
    }
   ],
   "source": [
    "summary['romi'] = summary['LTV'] / summary['cac']\n",
    "\n",
    "summary = pd.merge(summary,orders_new[['user_id','first_order_week']],how='left', on='user_id')\n",
    "\n",
    "display(summary.sample(5))"
   ]
  },
  {
   "cell_type": "code",
   "execution_count": 52,
   "metadata": {},
   "outputs": [
    {
     "data": {
      "text/html": [
       "<div>\n",
       "<style scoped>\n",
       "    .dataframe tbody tr th:only-of-type {\n",
       "        vertical-align: middle;\n",
       "    }\n",
       "\n",
       "    .dataframe tbody tr th {\n",
       "        vertical-align: top;\n",
       "    }\n",
       "\n",
       "    .dataframe thead th {\n",
       "        text-align: right;\n",
       "    }\n",
       "</style>\n",
       "<table border=\"1\" class=\"dataframe\">\n",
       "  <thead>\n",
       "    <tr style=\"text-align: right;\">\n",
       "      <th>pred_num</th>\n",
       "      <th>11.0</th>\n",
       "      <th>12.0</th>\n",
       "      <th>13.0</th>\n",
       "      <th>14.0</th>\n",
       "      <th>15.0</th>\n",
       "    </tr>\n",
       "    <tr>\n",
       "      <th>first_order_week</th>\n",
       "      <th></th>\n",
       "      <th></th>\n",
       "      <th></th>\n",
       "      <th></th>\n",
       "      <th></th>\n",
       "    </tr>\n",
       "  </thead>\n",
       "  <tbody>\n",
       "    <tr>\n",
       "      <td>2019-12-26</td>\n",
       "      <td></td>\n",
       "      <td></td>\n",
       "      <td></td>\n",
       "      <td>1.7</td>\n",
       "      <td></td>\n",
       "    </tr>\n",
       "    <tr>\n",
       "      <td>2020-01-02</td>\n",
       "      <td>1.43</td>\n",
       "      <td>2.89</td>\n",
       "      <td>4.42</td>\n",
       "      <td>6.07</td>\n",
       "      <td>7.81</td>\n",
       "    </tr>\n",
       "    <tr>\n",
       "      <td>2020-01-09</td>\n",
       "      <td>1.45</td>\n",
       "      <td>2.91</td>\n",
       "      <td>4.46</td>\n",
       "      <td>6.14</td>\n",
       "      <td>7.86</td>\n",
       "    </tr>\n",
       "    <tr>\n",
       "      <td>2020-01-16</td>\n",
       "      <td></td>\n",
       "      <td>1.5</td>\n",
       "      <td>3.06</td>\n",
       "      <td>4.73</td>\n",
       "      <td>6.46</td>\n",
       "    </tr>\n",
       "    <tr>\n",
       "      <td>2020-01-23</td>\n",
       "      <td></td>\n",
       "      <td>1.52</td>\n",
       "      <td>3.09</td>\n",
       "      <td>4.74</td>\n",
       "      <td></td>\n",
       "    </tr>\n",
       "    <tr>\n",
       "      <td>2020-01-30</td>\n",
       "      <td></td>\n",
       "      <td>1.56</td>\n",
       "      <td>3.15</td>\n",
       "      <td>4.78</td>\n",
       "      <td></td>\n",
       "    </tr>\n",
       "    <tr>\n",
       "      <td>2020-02-06</td>\n",
       "      <td></td>\n",
       "      <td></td>\n",
       "      <td>1.61</td>\n",
       "      <td>3.33</td>\n",
       "      <td></td>\n",
       "    </tr>\n",
       "    <tr>\n",
       "      <td>2020-02-13</td>\n",
       "      <td></td>\n",
       "      <td></td>\n",
       "      <td>1.64</td>\n",
       "      <td></td>\n",
       "      <td></td>\n",
       "    </tr>\n",
       "    <tr>\n",
       "      <td>2020-02-20</td>\n",
       "      <td></td>\n",
       "      <td></td>\n",
       "      <td>1.66</td>\n",
       "      <td></td>\n",
       "      <td></td>\n",
       "    </tr>\n",
       "  </tbody>\n",
       "</table>\n",
       "</div>"
      ],
      "text/plain": [
       "pred_num          11.0  12.0  13.0  14.0  15.0\n",
       "first_order_week                              \n",
       "2019-12-26                           1.7      \n",
       "2020-01-02        1.43  2.89  4.42  6.07  7.81\n",
       "2020-01-09        1.45  2.91  4.46  6.14  7.86\n",
       "2020-01-16               1.5  3.06  4.73  6.46\n",
       "2020-01-23              1.52  3.09  4.74      \n",
       "2020-01-30              1.56  3.15  4.78      \n",
       "2020-02-06                    1.61  3.33      \n",
       "2020-02-13                    1.64            \n",
       "2020-02-20                    1.66            "
      ]
     },
     "execution_count": 52,
     "metadata": {},
     "output_type": "execute_result"
    }
   ],
   "source": [
    "output_6m = summary.pivot_table(\n",
    "    index='first_order_week', columns='pred_num', values='romi', aggfunc='mean')\n",
    "\n",
    "output_6m.cumsum(axis=1).round(2).fillna('')"
   ]
  },
  {
   "cell_type": "code",
   "execution_count": 53,
   "metadata": {},
   "outputs": [
    {
     "name": "stdout",
     "output_type": "stream",
     "text": [
      "Средний прогнозируемый ROMI на одного покупателя за 6 мес. составил: 1.63\n"
     ]
    }
   ],
   "source": [
    "print('Средний прогнозируемый ROMI на одного покупателя за 6 мес. составил:',summary['romi'].mean().round(2))"
   ]
  }
 ],
 "metadata": {
  "ExecuteTimeLog": [
   {
    "duration": 180,
    "start_time": "2022-01-04T06:08:04.992Z"
   },
   {
    "duration": 142,
    "start_time": "2022-01-04T06:08:15.849Z"
   },
   {
    "duration": 1120,
    "start_time": "2022-01-04T06:08:20.891Z"
   },
   {
    "duration": 195,
    "start_time": "2022-01-04T06:08:27.591Z"
   },
   {
    "duration": 6029,
    "start_time": "2022-01-04T06:09:30.550Z"
   },
   {
    "duration": 12,
    "start_time": "2022-01-04T06:10:31.852Z"
   },
   {
    "duration": 35,
    "start_time": "2022-01-04T06:11:27.569Z"
   },
   {
    "duration": 7,
    "start_time": "2022-01-04T06:12:18.262Z"
   },
   {
    "duration": 11,
    "start_time": "2022-01-04T06:13:06.081Z"
   },
   {
    "duration": 31,
    "start_time": "2022-01-04T06:17:34.940Z"
   },
   {
    "duration": 209,
    "start_time": "2022-01-04T06:20:14.620Z"
   },
   {
    "duration": 35,
    "start_time": "2022-01-04T06:21:53.089Z"
   },
   {
    "duration": 151,
    "start_time": "2022-01-04T06:22:49.382Z"
   },
   {
    "duration": 17,
    "start_time": "2022-01-04T06:22:59.543Z"
   },
   {
    "duration": 67,
    "start_time": "2022-01-04T06:24:08.642Z"
   },
   {
    "duration": 35,
    "start_time": "2022-01-04T06:24:17.732Z"
   },
   {
    "duration": 5,
    "start_time": "2022-01-04T07:06:40.220Z"
   },
   {
    "duration": 5,
    "start_time": "2022-01-04T07:06:59.733Z"
   },
   {
    "duration": 4,
    "start_time": "2022-01-04T07:13:26.514Z"
   },
   {
    "duration": 4,
    "start_time": "2022-01-04T07:13:27.403Z"
   },
   {
    "duration": 39,
    "start_time": "2022-01-04T07:21:22.914Z"
   },
   {
    "duration": 1212,
    "start_time": "2022-01-05T07:41:53.187Z"
   },
   {
    "duration": 6533,
    "start_time": "2022-01-05T07:41:54.401Z"
   },
   {
    "duration": 12,
    "start_time": "2022-01-05T07:42:00.936Z"
   },
   {
    "duration": 20,
    "start_time": "2022-01-05T07:42:00.950Z"
   },
   {
    "duration": 5,
    "start_time": "2022-01-05T07:42:00.972Z"
   },
   {
    "duration": 19,
    "start_time": "2022-01-05T07:42:00.978Z"
   },
   {
    "duration": 14,
    "start_time": "2022-01-05T07:42:00.999Z"
   },
   {
    "duration": 19,
    "start_time": "2022-01-05T07:42:01.016Z"
   },
   {
    "duration": 43,
    "start_time": "2022-01-05T07:42:01.037Z"
   },
   {
    "duration": 43,
    "start_time": "2022-01-05T07:42:01.081Z"
   },
   {
    "duration": 64,
    "start_time": "2022-01-05T07:42:01.125Z"
   },
   {
    "duration": 12,
    "start_time": "2022-01-05T07:59:20.325Z"
   },
   {
    "duration": 12,
    "start_time": "2022-01-05T08:00:15.962Z"
   },
   {
    "duration": 15,
    "start_time": "2022-01-05T08:00:38.052Z"
   },
   {
    "duration": 530,
    "start_time": "2022-01-05T08:01:23.062Z"
   },
   {
    "duration": 14,
    "start_time": "2022-01-05T08:08:46.940Z"
   },
   {
    "duration": 14,
    "start_time": "2022-01-05T08:09:10.123Z"
   },
   {
    "duration": 14,
    "start_time": "2022-01-05T08:10:22.990Z"
   },
   {
    "duration": 13,
    "start_time": "2022-01-05T08:10:38.952Z"
   },
   {
    "duration": 10,
    "start_time": "2022-01-05T08:16:31.602Z"
   },
   {
    "duration": 21,
    "start_time": "2022-01-05T08:16:44.449Z"
   },
   {
    "duration": 23,
    "start_time": "2022-01-05T08:17:49.082Z"
   },
   {
    "duration": 531,
    "start_time": "2022-01-05T14:52:07.088Z"
   },
   {
    "duration": 2151,
    "start_time": "2022-01-05T14:52:29.253Z"
   },
   {
    "duration": 10857,
    "start_time": "2022-01-05T14:52:31.407Z"
   },
   {
    "duration": 16,
    "start_time": "2022-01-05T14:52:42.267Z"
   },
   {
    "duration": 17,
    "start_time": "2022-01-05T14:52:42.286Z"
   },
   {
    "duration": 6,
    "start_time": "2022-01-05T14:52:42.305Z"
   },
   {
    "duration": 5,
    "start_time": "2022-01-05T14:52:42.313Z"
   },
   {
    "duration": 5,
    "start_time": "2022-01-05T14:52:42.360Z"
   },
   {
    "duration": 5,
    "start_time": "2022-01-05T14:52:42.367Z"
   },
   {
    "duration": 42,
    "start_time": "2022-01-05T14:52:42.376Z"
   },
   {
    "duration": 79,
    "start_time": "2022-01-05T14:52:42.420Z"
   },
   {
    "duration": 75,
    "start_time": "2022-01-05T14:52:42.501Z"
   },
   {
    "duration": 19,
    "start_time": "2022-01-05T14:52:42.579Z"
   },
   {
    "duration": 33,
    "start_time": "2022-01-05T14:52:42.601Z"
   },
   {
    "duration": 49,
    "start_time": "2022-01-05T14:52:42.636Z"
   },
   {
    "duration": 2,
    "start_time": "2022-01-05T14:52:42.688Z"
   },
   {
    "duration": 41,
    "start_time": "2022-01-05T14:53:30.633Z"
   },
   {
    "duration": 40,
    "start_time": "2022-01-05T14:55:07.114Z"
   },
   {
    "duration": 41,
    "start_time": "2022-01-05T14:56:21.230Z"
   },
   {
    "duration": 15,
    "start_time": "2022-01-05T15:13:21.824Z"
   },
   {
    "duration": 1390,
    "start_time": "2022-01-05T15:26:17.512Z"
   },
   {
    "duration": 1369,
    "start_time": "2022-01-05T15:39:01.486Z"
   },
   {
    "duration": 23,
    "start_time": "2022-01-05T15:41:25.769Z"
   },
   {
    "duration": 37,
    "start_time": "2022-01-05T15:42:13.843Z"
   },
   {
    "duration": 1462,
    "start_time": "2022-01-06T06:11:06.973Z"
   },
   {
    "duration": 9689,
    "start_time": "2022-01-06T06:11:08.437Z"
   },
   {
    "duration": 16,
    "start_time": "2022-01-06T06:11:18.129Z"
   },
   {
    "duration": 20,
    "start_time": "2022-01-06T06:11:18.148Z"
   },
   {
    "duration": 17,
    "start_time": "2022-01-06T06:11:18.171Z"
   },
   {
    "duration": 6,
    "start_time": "2022-01-06T06:11:18.224Z"
   },
   {
    "duration": 8,
    "start_time": "2022-01-06T06:11:18.233Z"
   },
   {
    "duration": 52,
    "start_time": "2022-01-06T06:11:18.246Z"
   },
   {
    "duration": 78,
    "start_time": "2022-01-06T06:11:18.301Z"
   },
   {
    "duration": 73,
    "start_time": "2022-01-06T06:11:18.381Z"
   },
   {
    "duration": 19,
    "start_time": "2022-01-06T06:11:18.456Z"
   },
   {
    "duration": 57,
    "start_time": "2022-01-06T06:11:18.477Z"
   },
   {
    "duration": 20,
    "start_time": "2022-01-06T06:11:18.537Z"
   },
   {
    "duration": 33,
    "start_time": "2022-01-06T06:11:18.560Z"
   },
   {
    "duration": 62,
    "start_time": "2022-01-06T06:11:18.596Z"
   },
   {
    "duration": 3,
    "start_time": "2022-01-06T06:11:18.660Z"
   },
   {
    "duration": 45,
    "start_time": "2022-01-06T06:18:58.962Z"
   },
   {
    "duration": 22,
    "start_time": "2022-01-06T06:20:29.661Z"
   },
   {
    "duration": 20,
    "start_time": "2022-01-06T06:20:46.471Z"
   },
   {
    "duration": 45,
    "start_time": "2022-01-06T06:36:07.661Z"
   },
   {
    "duration": 49,
    "start_time": "2022-01-06T06:37:23.029Z"
   },
   {
    "duration": 22,
    "start_time": "2022-01-06T06:42:53.281Z"
   },
   {
    "duration": 25,
    "start_time": "2022-01-06T06:43:13.492Z"
   },
   {
    "duration": 21,
    "start_time": "2022-01-06T06:43:32.081Z"
   },
   {
    "duration": 412,
    "start_time": "2022-01-07T03:19:31.442Z"
   },
   {
    "duration": 1496,
    "start_time": "2022-01-07T03:19:42.029Z"
   },
   {
    "duration": 10456,
    "start_time": "2022-01-07T03:19:43.528Z"
   },
   {
    "duration": 16,
    "start_time": "2022-01-07T03:19:53.987Z"
   },
   {
    "duration": 13,
    "start_time": "2022-01-07T03:19:54.006Z"
   },
   {
    "duration": 13,
    "start_time": "2022-01-07T03:19:54.021Z"
   },
   {
    "duration": 4,
    "start_time": "2022-01-07T03:19:54.036Z"
   },
   {
    "duration": 17,
    "start_time": "2022-01-07T03:19:54.042Z"
   },
   {
    "duration": 40,
    "start_time": "2022-01-07T03:19:54.063Z"
   },
   {
    "duration": 55,
    "start_time": "2022-01-07T03:19:54.105Z"
   },
   {
    "duration": 59,
    "start_time": "2022-01-07T03:19:54.162Z"
   },
   {
    "duration": 19,
    "start_time": "2022-01-07T03:19:54.224Z"
   },
   {
    "duration": 43,
    "start_time": "2022-01-07T03:19:54.245Z"
   },
   {
    "duration": 22,
    "start_time": "2022-01-07T03:19:54.290Z"
   },
   {
    "duration": 55,
    "start_time": "2022-01-07T03:19:54.315Z"
   },
   {
    "duration": 902,
    "start_time": "2022-01-07T03:19:54.372Z"
   },
   {
    "duration": -1184,
    "start_time": "2022-01-07T03:19:56.460Z"
   },
   {
    "duration": -1188,
    "start_time": "2022-01-07T03:19:56.466Z"
   },
   {
    "duration": -1189,
    "start_time": "2022-01-07T03:19:56.468Z"
   },
   {
    "duration": 20,
    "start_time": "2022-01-07T03:20:46.653Z"
   },
   {
    "duration": 48,
    "start_time": "2022-01-07T03:20:50.150Z"
   },
   {
    "duration": 22,
    "start_time": "2022-01-07T03:20:53.511Z"
   },
   {
    "duration": 17,
    "start_time": "2022-01-07T03:20:54.785Z"
   },
   {
    "duration": 21,
    "start_time": "2022-01-07T03:21:17.601Z"
   },
   {
    "duration": 17,
    "start_time": "2022-01-07T03:21:28.311Z"
   },
   {
    "duration": 29,
    "start_time": "2022-01-07T03:26:55.612Z"
   },
   {
    "duration": 1493,
    "start_time": "2022-01-07T03:27:14.068Z"
   },
   {
    "duration": 10475,
    "start_time": "2022-01-07T03:27:15.564Z"
   },
   {
    "duration": 29,
    "start_time": "2022-01-07T03:27:26.045Z"
   },
   {
    "duration": 15,
    "start_time": "2022-01-07T03:27:26.076Z"
   },
   {
    "duration": 14,
    "start_time": "2022-01-07T03:27:26.093Z"
   },
   {
    "duration": 5,
    "start_time": "2022-01-07T03:27:26.109Z"
   },
   {
    "duration": 46,
    "start_time": "2022-01-07T03:27:26.116Z"
   },
   {
    "duration": 42,
    "start_time": "2022-01-07T03:27:26.166Z"
   },
   {
    "duration": 88,
    "start_time": "2022-01-07T03:27:26.212Z"
   },
   {
    "duration": 77,
    "start_time": "2022-01-07T03:27:26.304Z"
   },
   {
    "duration": 21,
    "start_time": "2022-01-07T03:27:26.384Z"
   },
   {
    "duration": 54,
    "start_time": "2022-01-07T03:27:26.408Z"
   },
   {
    "duration": 22,
    "start_time": "2022-01-07T03:27:26.464Z"
   },
   {
    "duration": 71,
    "start_time": "2022-01-07T03:27:26.488Z"
   },
   {
    "duration": 20,
    "start_time": "2022-01-07T03:27:26.562Z"
   },
   {
    "duration": 46,
    "start_time": "2022-01-07T03:27:26.584Z"
   },
   {
    "duration": 51,
    "start_time": "2022-01-07T03:27:26.633Z"
   },
   {
    "duration": 17,
    "start_time": "2022-01-07T03:27:26.686Z"
   },
   {
    "duration": 6,
    "start_time": "2022-01-07T03:27:26.705Z"
   },
   {
    "duration": 8581,
    "start_time": "2022-01-07T03:27:26.713Z"
   },
   {
    "duration": 20,
    "start_time": "2022-01-07T03:28:37.372Z"
   },
   {
    "duration": 33,
    "start_time": "2022-01-07T03:30:17.776Z"
   },
   {
    "duration": 20,
    "start_time": "2022-01-07T03:30:25.632Z"
   },
   {
    "duration": 19,
    "start_time": "2022-01-07T03:30:33.031Z"
   },
   {
    "duration": 20,
    "start_time": "2022-01-07T03:30:52.100Z"
   },
   {
    "duration": 334,
    "start_time": "2022-01-07T03:31:55.222Z"
   },
   {
    "duration": 47,
    "start_time": "2022-01-07T03:32:18.102Z"
   },
   {
    "duration": 21,
    "start_time": "2022-01-07T03:32:44.051Z"
   },
   {
    "duration": 45,
    "start_time": "2022-01-07T03:32:48.612Z"
   },
   {
    "duration": 22,
    "start_time": "2022-01-07T03:33:15.408Z"
   },
   {
    "duration": 45,
    "start_time": "2022-01-07T03:33:22.162Z"
   },
   {
    "duration": 20,
    "start_time": "2022-01-07T03:33:40.932Z"
   },
   {
    "duration": 47,
    "start_time": "2022-01-07T03:33:44.128Z"
   },
   {
    "duration": 19,
    "start_time": "2022-01-07T03:34:05.633Z"
   },
   {
    "duration": 47,
    "start_time": "2022-01-07T03:34:08.395Z"
   },
   {
    "duration": 7,
    "start_time": "2022-01-07T03:36:09.081Z"
   },
   {
    "duration": 355,
    "start_time": "2022-01-07T03:40:53.631Z"
   },
   {
    "duration": 439,
    "start_time": "2022-01-07T03:41:26.293Z"
   },
   {
    "duration": 360,
    "start_time": "2022-01-07T03:42:46.262Z"
   },
   {
    "duration": 389,
    "start_time": "2022-01-07T13:02:30.442Z"
   },
   {
    "duration": 1502,
    "start_time": "2022-01-07T13:02:41.808Z"
   },
   {
    "duration": 10608,
    "start_time": "2022-01-07T13:02:43.313Z"
   },
   {
    "duration": 17,
    "start_time": "2022-01-07T13:02:53.924Z"
   },
   {
    "duration": 19,
    "start_time": "2022-01-07T13:02:53.944Z"
   },
   {
    "duration": 14,
    "start_time": "2022-01-07T13:02:53.966Z"
   },
   {
    "duration": 4,
    "start_time": "2022-01-07T13:02:53.982Z"
   },
   {
    "duration": 30,
    "start_time": "2022-01-07T13:02:53.989Z"
   },
   {
    "duration": 41,
    "start_time": "2022-01-07T13:02:54.023Z"
   },
   {
    "duration": 80,
    "start_time": "2022-01-07T13:02:54.066Z"
   },
   {
    "duration": 68,
    "start_time": "2022-01-07T13:02:54.148Z"
   },
   {
    "duration": 19,
    "start_time": "2022-01-07T13:02:54.218Z"
   },
   {
    "duration": 27,
    "start_time": "2022-01-07T13:02:54.239Z"
   },
   {
    "duration": 49,
    "start_time": "2022-01-07T13:02:54.269Z"
   },
   {
    "duration": 46,
    "start_time": "2022-01-07T13:02:54.321Z"
   },
   {
    "duration": 19,
    "start_time": "2022-01-07T13:02:54.369Z"
   },
   {
    "duration": 47,
    "start_time": "2022-01-07T13:02:54.417Z"
   },
   {
    "duration": 26,
    "start_time": "2022-01-07T13:02:54.466Z"
   },
   {
    "duration": 38,
    "start_time": "2022-01-07T13:02:54.495Z"
   },
   {
    "duration": 2,
    "start_time": "2022-01-07T13:02:54.535Z"
   },
   {
    "duration": 22,
    "start_time": "2022-01-07T13:02:54.540Z"
   },
   {
    "duration": 79,
    "start_time": "2022-01-07T13:02:54.564Z"
   },
   {
    "duration": 7,
    "start_time": "2022-01-07T13:02:54.645Z"
   },
   {
    "duration": 8564,
    "start_time": "2022-01-07T13:02:54.656Z"
   },
   {
    "duration": 8552,
    "start_time": "2022-01-07T13:04:52.316Z"
   },
   {
    "duration": 8808,
    "start_time": "2022-01-07T13:05:02.021Z"
   },
   {
    "duration": 5,
    "start_time": "2022-01-07T13:06:14.359Z"
   },
   {
    "duration": 25,
    "start_time": "2022-01-07T13:12:07.944Z"
   },
   {
    "duration": 17,
    "start_time": "2022-01-07T13:12:12.906Z"
   },
   {
    "duration": 37,
    "start_time": "2022-01-07T13:12:16.273Z"
   },
   {
    "duration": 25,
    "start_time": "2022-01-07T13:12:18.808Z"
   },
   {
    "duration": 18,
    "start_time": "2022-01-07T13:12:23.339Z"
   },
   {
    "duration": 3,
    "start_time": "2022-01-07T13:12:28.494Z"
   },
   {
    "duration": 20,
    "start_time": "2022-01-07T13:12:32.513Z"
   },
   {
    "duration": 44,
    "start_time": "2022-01-07T13:12:36.944Z"
   },
   {
    "duration": 8,
    "start_time": "2022-01-07T13:12:46.082Z"
   },
   {
    "duration": 5,
    "start_time": "2022-01-07T13:12:49.234Z"
   },
   {
    "duration": 8195,
    "start_time": "2022-01-07T13:13:24.686Z"
   },
   {
    "duration": 5,
    "start_time": "2022-01-07T13:13:59.346Z"
   },
   {
    "duration": 22,
    "start_time": "2022-01-07T13:14:49.272Z"
   },
   {
    "duration": 4,
    "start_time": "2022-01-07T13:18:13.367Z"
   },
   {
    "duration": 377,
    "start_time": "2022-01-07T13:18:49.350Z"
   },
   {
    "duration": 330,
    "start_time": "2022-01-07T13:19:05.041Z"
   },
   {
    "duration": 5,
    "start_time": "2022-01-07T13:19:47.083Z"
   },
   {
    "duration": 166,
    "start_time": "2022-01-07T13:20:41.604Z"
   },
   {
    "duration": 6,
    "start_time": "2022-01-07T13:20:54.016Z"
   },
   {
    "duration": 391,
    "start_time": "2022-01-07T13:24:57.159Z"
   },
   {
    "duration": 340,
    "start_time": "2022-01-07T13:25:29.972Z"
   },
   {
    "duration": 7179,
    "start_time": "2022-01-07T13:26:08.488Z"
   },
   {
    "duration": 1677,
    "start_time": "2022-01-07T13:26:52.676Z"
   },
   {
    "duration": 3251,
    "start_time": "2022-01-07T13:26:54.356Z"
   },
   {
    "duration": 10251,
    "start_time": "2022-01-07T13:26:57.611Z"
   },
   {
    "duration": 19,
    "start_time": "2022-01-07T13:27:07.864Z"
   },
   {
    "duration": 32,
    "start_time": "2022-01-07T13:27:07.885Z"
   },
   {
    "duration": 17,
    "start_time": "2022-01-07T13:27:07.919Z"
   },
   {
    "duration": 5,
    "start_time": "2022-01-07T13:27:07.938Z"
   },
   {
    "duration": 9,
    "start_time": "2022-01-07T13:27:07.945Z"
   },
   {
    "duration": 83,
    "start_time": "2022-01-07T13:27:07.958Z"
   },
   {
    "duration": 74,
    "start_time": "2022-01-07T13:27:08.044Z"
   },
   {
    "duration": 63,
    "start_time": "2022-01-07T13:27:08.121Z"
   },
   {
    "duration": 44,
    "start_time": "2022-01-07T13:27:08.187Z"
   },
   {
    "duration": 30,
    "start_time": "2022-01-07T13:27:08.233Z"
   },
   {
    "duration": 23,
    "start_time": "2022-01-07T13:27:08.265Z"
   },
   {
    "duration": 28,
    "start_time": "2022-01-07T13:27:08.317Z"
   },
   {
    "duration": 16,
    "start_time": "2022-01-07T13:27:08.347Z"
   },
   {
    "duration": 66,
    "start_time": "2022-01-07T13:27:08.366Z"
   },
   {
    "duration": 28,
    "start_time": "2022-01-07T13:27:08.434Z"
   },
   {
    "duration": 17,
    "start_time": "2022-01-07T13:27:08.465Z"
   },
   {
    "duration": 3,
    "start_time": "2022-01-07T13:27:08.484Z"
   },
   {
    "duration": 22,
    "start_time": "2022-01-07T13:27:08.517Z"
   },
   {
    "duration": 77,
    "start_time": "2022-01-07T13:27:08.542Z"
   },
   {
    "duration": 8,
    "start_time": "2022-01-07T13:27:08.621Z"
   },
   {
    "duration": 9,
    "start_time": "2022-01-07T13:27:08.631Z"
   },
   {
    "duration": 1038,
    "start_time": "2022-01-07T13:28:14.979Z"
   },
   {
    "duration": 750,
    "start_time": "2022-01-07T13:37:01.691Z"
   },
   {
    "duration": 3222,
    "start_time": "2022-01-07T13:37:36.755Z"
   },
   {
    "duration": 376,
    "start_time": "2022-01-07T13:38:48.694Z"
   },
   {
    "duration": 1661,
    "start_time": "2022-01-07T13:40:11.670Z"
   },
   {
    "duration": 4243,
    "start_time": "2022-01-07T13:40:13.333Z"
   },
   {
    "duration": 11369,
    "start_time": "2022-01-07T13:40:17.580Z"
   },
   {
    "duration": 16,
    "start_time": "2022-01-07T13:40:28.951Z"
   },
   {
    "duration": 16,
    "start_time": "2022-01-07T13:40:28.970Z"
   },
   {
    "duration": 39,
    "start_time": "2022-01-07T13:40:28.988Z"
   },
   {
    "duration": 7,
    "start_time": "2022-01-07T13:40:29.029Z"
   },
   {
    "duration": 6,
    "start_time": "2022-01-07T13:40:29.041Z"
   },
   {
    "duration": 80,
    "start_time": "2022-01-07T13:40:29.050Z"
   },
   {
    "duration": 56,
    "start_time": "2022-01-07T13:40:29.133Z"
   },
   {
    "duration": 79,
    "start_time": "2022-01-07T13:40:29.192Z"
   },
   {
    "duration": 47,
    "start_time": "2022-01-07T13:40:29.274Z"
   },
   {
    "duration": 32,
    "start_time": "2022-01-07T13:40:29.324Z"
   },
   {
    "duration": 21,
    "start_time": "2022-01-07T13:40:29.360Z"
   },
   {
    "duration": 56,
    "start_time": "2022-01-07T13:40:29.383Z"
   },
   {
    "duration": 17,
    "start_time": "2022-01-07T13:40:29.442Z"
   },
   {
    "duration": 74,
    "start_time": "2022-01-07T13:40:29.461Z"
   },
   {
    "duration": 27,
    "start_time": "2022-01-07T13:40:29.537Z"
   },
   {
    "duration": 16,
    "start_time": "2022-01-07T13:40:29.567Z"
   },
   {
    "duration": 33,
    "start_time": "2022-01-07T13:40:29.586Z"
   },
   {
    "duration": 26,
    "start_time": "2022-01-07T13:40:29.621Z"
   },
   {
    "duration": 77,
    "start_time": "2022-01-07T13:40:29.650Z"
   },
   {
    "duration": 970,
    "start_time": "2022-01-07T13:40:29.731Z"
   },
   {
    "duration": 7,
    "start_time": "2022-01-07T13:40:30.703Z"
   },
   {
    "duration": 15,
    "start_time": "2022-01-07T13:40:30.717Z"
   },
   {
    "duration": 718,
    "start_time": "2022-01-07T13:40:30.734Z"
   },
   {
    "duration": 1376,
    "start_time": "2022-01-07T13:53:06.924Z"
   },
   {
    "duration": 2042,
    "start_time": "2022-01-07T13:53:17.749Z"
   },
   {
    "duration": 3586,
    "start_time": "2022-01-07T13:53:19.794Z"
   },
   {
    "duration": 40,
    "start_time": "2022-01-07T13:53:23.383Z"
   },
   {
    "duration": 17610,
    "start_time": "2022-01-07T13:53:23.426Z"
   },
   {
    "duration": 41,
    "start_time": "2022-01-07T13:53:41.039Z"
   },
   {
    "duration": 42,
    "start_time": "2022-01-07T13:53:41.084Z"
   },
   {
    "duration": 18,
    "start_time": "2022-01-07T13:53:41.129Z"
   },
   {
    "duration": 7,
    "start_time": "2022-01-07T13:53:41.150Z"
   },
   {
    "duration": 6,
    "start_time": "2022-01-07T13:53:41.163Z"
   },
   {
    "duration": 93,
    "start_time": "2022-01-07T13:53:41.173Z"
   },
   {
    "duration": 90,
    "start_time": "2022-01-07T13:53:41.269Z"
   },
   {
    "duration": 93,
    "start_time": "2022-01-07T13:53:41.361Z"
   },
   {
    "duration": 29,
    "start_time": "2022-01-07T13:53:41.457Z"
   },
   {
    "duration": 61,
    "start_time": "2022-01-07T13:53:41.489Z"
   },
   {
    "duration": 32,
    "start_time": "2022-01-07T13:53:41.553Z"
   },
   {
    "duration": 71,
    "start_time": "2022-01-07T13:53:41.588Z"
   },
   {
    "duration": 18,
    "start_time": "2022-01-07T13:53:41.663Z"
   },
   {
    "duration": 61,
    "start_time": "2022-01-07T13:53:41.684Z"
   },
   {
    "duration": 29,
    "start_time": "2022-01-07T13:53:41.747Z"
   },
   {
    "duration": 41,
    "start_time": "2022-01-07T13:53:41.779Z"
   },
   {
    "duration": 5,
    "start_time": "2022-01-07T13:53:41.824Z"
   },
   {
    "duration": 33,
    "start_time": "2022-01-07T13:53:41.832Z"
   },
   {
    "duration": 92,
    "start_time": "2022-01-07T13:53:41.868Z"
   },
   {
    "duration": 962,
    "start_time": "2022-01-07T13:53:41.963Z"
   },
   {
    "duration": 8,
    "start_time": "2022-01-07T13:53:42.927Z"
   },
   {
    "duration": 7,
    "start_time": "2022-01-07T13:53:42.938Z"
   },
   {
    "duration": 616,
    "start_time": "2022-01-07T13:53:42.951Z"
   },
   {
    "duration": 1462,
    "start_time": "2022-01-07T13:59:51.351Z"
   },
   {
    "duration": 3409,
    "start_time": "2022-01-07T13:59:52.816Z"
   },
   {
    "duration": 39,
    "start_time": "2022-01-07T13:59:56.228Z"
   },
   {
    "duration": 10614,
    "start_time": "2022-01-07T13:59:56.270Z"
   },
   {
    "duration": 33,
    "start_time": "2022-01-07T14:00:06.886Z"
   },
   {
    "duration": 15,
    "start_time": "2022-01-07T14:00:06.922Z"
   },
   {
    "duration": 13,
    "start_time": "2022-01-07T14:00:06.940Z"
   },
   {
    "duration": 5,
    "start_time": "2022-01-07T14:00:06.956Z"
   },
   {
    "duration": 5,
    "start_time": "2022-01-07T14:00:06.964Z"
   },
   {
    "duration": 81,
    "start_time": "2022-01-07T14:00:06.972Z"
   },
   {
    "duration": 73,
    "start_time": "2022-01-07T14:00:07.055Z"
   },
   {
    "duration": 56,
    "start_time": "2022-01-07T14:00:07.130Z"
   },
   {
    "duration": 38,
    "start_time": "2022-01-07T14:00:07.188Z"
   },
   {
    "duration": 28,
    "start_time": "2022-01-07T14:00:07.229Z"
   },
   {
    "duration": 22,
    "start_time": "2022-01-07T14:00:07.259Z"
   },
   {
    "duration": 56,
    "start_time": "2022-01-07T14:00:07.283Z"
   },
   {
    "duration": 17,
    "start_time": "2022-01-07T14:00:07.342Z"
   },
   {
    "duration": 66,
    "start_time": "2022-01-07T14:00:07.362Z"
   },
   {
    "duration": 27,
    "start_time": "2022-01-07T14:00:07.430Z"
   },
   {
    "duration": 17,
    "start_time": "2022-01-07T14:00:07.460Z"
   },
   {
    "duration": 7,
    "start_time": "2022-01-07T14:00:07.479Z"
   },
   {
    "duration": 50,
    "start_time": "2022-01-07T14:00:07.488Z"
   },
   {
    "duration": 45,
    "start_time": "2022-01-07T14:00:07.542Z"
   },
   {
    "duration": 924,
    "start_time": "2022-01-07T14:00:07.589Z"
   },
   {
    "duration": 6,
    "start_time": "2022-01-07T14:00:08.516Z"
   },
   {
    "duration": 7,
    "start_time": "2022-01-07T14:00:08.524Z"
   },
   {
    "duration": 473,
    "start_time": "2022-01-07T14:00:08.533Z"
   },
   {
    "duration": 134,
    "start_time": "2022-01-07T14:06:29.121Z"
   },
   {
    "duration": 153,
    "start_time": "2022-01-07T15:08:28.218Z"
   },
   {
    "duration": 143,
    "start_time": "2022-01-07T15:09:30.168Z"
   },
   {
    "duration": 407,
    "start_time": "2022-01-07T15:46:29.328Z"
   },
   {
    "duration": 389,
    "start_time": "2022-01-07T15:46:58.347Z"
   },
   {
    "duration": 848,
    "start_time": "2022-01-07T16:02:48.307Z"
   },
   {
    "duration": 325,
    "start_time": "2022-01-07T16:03:17.496Z"
   },
   {
    "duration": 305,
    "start_time": "2022-01-07T16:03:29.676Z"
   },
   {
    "duration": 305,
    "start_time": "2022-01-07T16:03:43.255Z"
   },
   {
    "duration": 316,
    "start_time": "2022-01-07T16:07:10.258Z"
   },
   {
    "duration": 597,
    "start_time": "2022-01-07T17:00:25.765Z"
   },
   {
    "duration": 325,
    "start_time": "2022-01-07T17:01:05.696Z"
   },
   {
    "duration": 15,
    "start_time": "2022-01-07T17:01:22.775Z"
   },
   {
    "duration": 32,
    "start_time": "2022-01-07T17:12:40.194Z"
   },
   {
    "duration": 21,
    "start_time": "2022-01-07T17:21:58.380Z"
   },
   {
    "duration": 25,
    "start_time": "2022-01-07T17:23:01.533Z"
   },
   {
    "duration": 365,
    "start_time": "2022-01-07T17:31:52.583Z"
   },
   {
    "duration": 28,
    "start_time": "2022-01-07T17:33:19.772Z"
   },
   {
    "duration": 47,
    "start_time": "2022-01-07T17:36:11.630Z"
   },
   {
    "duration": 44,
    "start_time": "2022-01-07T17:36:31.967Z"
   },
   {
    "duration": 1455,
    "start_time": "2022-01-08T04:57:38.008Z"
   },
   {
    "duration": 6950,
    "start_time": "2022-01-08T04:57:39.465Z"
   },
   {
    "duration": 55,
    "start_time": "2022-01-08T04:57:46.418Z"
   },
   {
    "duration": 10255,
    "start_time": "2022-01-08T04:57:46.475Z"
   },
   {
    "duration": 34,
    "start_time": "2022-01-08T04:57:56.733Z"
   },
   {
    "duration": 17,
    "start_time": "2022-01-08T04:57:56.770Z"
   },
   {
    "duration": 14,
    "start_time": "2022-01-08T04:57:56.790Z"
   },
   {
    "duration": 5,
    "start_time": "2022-01-08T04:57:56.808Z"
   },
   {
    "duration": 47,
    "start_time": "2022-01-08T04:57:56.816Z"
   },
   {
    "duration": 40,
    "start_time": "2022-01-08T04:57:56.865Z"
   },
   {
    "duration": 78,
    "start_time": "2022-01-08T04:57:56.908Z"
   },
   {
    "duration": 56,
    "start_time": "2022-01-08T04:57:56.988Z"
   },
   {
    "duration": 33,
    "start_time": "2022-01-08T04:57:57.046Z"
   },
   {
    "duration": 27,
    "start_time": "2022-01-08T04:57:57.081Z"
   },
   {
    "duration": 55,
    "start_time": "2022-01-08T04:57:57.111Z"
   },
   {
    "duration": 26,
    "start_time": "2022-01-08T04:57:57.168Z"
   },
   {
    "duration": 16,
    "start_time": "2022-01-08T04:57:57.197Z"
   },
   {
    "duration": 65,
    "start_time": "2022-01-08T04:57:57.216Z"
   },
   {
    "duration": 28,
    "start_time": "2022-01-08T04:57:57.283Z"
   },
   {
    "duration": 17,
    "start_time": "2022-01-08T04:57:57.313Z"
   },
   {
    "duration": 33,
    "start_time": "2022-01-08T04:57:57.332Z"
   },
   {
    "duration": 25,
    "start_time": "2022-01-08T04:57:57.368Z"
   },
   {
    "duration": 83,
    "start_time": "2022-01-08T04:57:57.400Z"
   },
   {
    "duration": 963,
    "start_time": "2022-01-08T04:57:57.486Z"
   },
   {
    "duration": 16,
    "start_time": "2022-01-08T04:57:58.452Z"
   },
   {
    "duration": 7,
    "start_time": "2022-01-08T04:57:58.471Z"
   },
   {
    "duration": 185,
    "start_time": "2022-01-08T04:57:58.481Z"
   },
   {
    "duration": 342,
    "start_time": "2022-01-08T04:57:58.669Z"
   },
   {
    "duration": 574,
    "start_time": "2022-01-08T04:57:59.013Z"
   },
   {
    "duration": 83,
    "start_time": "2022-01-08T04:57:59.591Z"
   },
   {
    "duration": 99,
    "start_time": "2022-01-08T04:57:59.678Z"
   },
   {
    "duration": 49,
    "start_time": "2022-01-08T04:57:59.780Z"
   },
   {
    "duration": 407,
    "start_time": "2022-01-08T05:04:38.108Z"
   },
   {
    "duration": 26,
    "start_time": "2022-01-08T05:05:03.635Z"
   },
   {
    "duration": 12,
    "start_time": "2022-01-08T05:06:32.248Z"
   },
   {
    "duration": 130,
    "start_time": "2022-01-08T05:12:40.315Z"
   },
   {
    "duration": 15,
    "start_time": "2022-01-08T05:14:24.688Z"
   },
   {
    "duration": 23,
    "start_time": "2022-01-08T05:32:26.647Z"
   },
   {
    "duration": 1138,
    "start_time": "2022-01-08T14:32:36.972Z"
   },
   {
    "duration": 4505,
    "start_time": "2022-01-08T14:32:38.113Z"
   },
   {
    "duration": 37,
    "start_time": "2022-01-08T14:32:42.620Z"
   },
   {
    "duration": 7312,
    "start_time": "2022-01-08T14:32:42.659Z"
   },
   {
    "duration": 20,
    "start_time": "2022-01-08T14:32:49.972Z"
   },
   {
    "duration": 38,
    "start_time": "2022-01-08T14:32:49.993Z"
   },
   {
    "duration": 15,
    "start_time": "2022-01-08T14:32:50.033Z"
   },
   {
    "duration": 5,
    "start_time": "2022-01-08T14:32:50.050Z"
   },
   {
    "duration": 23,
    "start_time": "2022-01-08T14:32:50.057Z"
   },
   {
    "duration": 47,
    "start_time": "2022-01-08T14:32:50.082Z"
   },
   {
    "duration": 32,
    "start_time": "2022-01-08T14:32:50.131Z"
   },
   {
    "duration": 37,
    "start_time": "2022-01-08T14:32:50.165Z"
   },
   {
    "duration": 12,
    "start_time": "2022-01-08T14:32:50.204Z"
   },
   {
    "duration": 43,
    "start_time": "2022-01-08T14:32:50.217Z"
   },
   {
    "duration": 16,
    "start_time": "2022-01-08T14:32:50.263Z"
   },
   {
    "duration": 17,
    "start_time": "2022-01-08T14:32:50.281Z"
   },
   {
    "duration": 11,
    "start_time": "2022-01-08T14:32:50.300Z"
   },
   {
    "duration": 50,
    "start_time": "2022-01-08T14:32:50.312Z"
   },
   {
    "duration": 20,
    "start_time": "2022-01-08T14:32:50.363Z"
   },
   {
    "duration": 11,
    "start_time": "2022-01-08T14:32:50.385Z"
   },
   {
    "duration": 3,
    "start_time": "2022-01-08T14:32:50.398Z"
   },
   {
    "duration": 16,
    "start_time": "2022-01-08T14:32:50.403Z"
   },
   {
    "duration": 58,
    "start_time": "2022-01-08T14:32:50.423Z"
   },
   {
    "duration": 594,
    "start_time": "2022-01-08T14:32:50.483Z"
   },
   {
    "duration": 4,
    "start_time": "2022-01-08T14:32:51.079Z"
   },
   {
    "duration": 8,
    "start_time": "2022-01-08T14:32:51.084Z"
   },
   {
    "duration": 108,
    "start_time": "2022-01-08T14:32:51.094Z"
   },
   {
    "duration": 198,
    "start_time": "2022-01-08T14:32:51.204Z"
   },
   {
    "duration": 378,
    "start_time": "2022-01-08T14:32:51.404Z"
   },
   {
    "duration": 85,
    "start_time": "2022-01-08T14:32:51.784Z"
   },
   {
    "duration": 91,
    "start_time": "2022-01-08T14:32:51.871Z"
   },
   {
    "duration": 32,
    "start_time": "2022-01-08T14:32:51.964Z"
   },
   {
    "duration": 13,
    "start_time": "2022-01-08T14:32:51.998Z"
   },
   {
    "duration": 8,
    "start_time": "2022-01-08T14:32:52.013Z"
   },
   {
    "duration": 121,
    "start_time": "2022-01-08T14:32:52.023Z"
   },
   {
    "duration": 14,
    "start_time": "2022-01-08T14:32:52.162Z"
   },
   {
    "duration": 84,
    "start_time": "2022-01-08T14:32:52.178Z"
   },
   {
    "duration": 118,
    "start_time": "2022-01-08T15:06:13.156Z"
   },
   {
    "duration": 5,
    "start_time": "2022-01-08T15:06:50.365Z"
   },
   {
    "duration": 5,
    "start_time": "2022-01-08T15:07:05.917Z"
   },
   {
    "duration": 7,
    "start_time": "2022-01-08T15:07:34.875Z"
   },
   {
    "duration": 326,
    "start_time": "2022-01-09T03:57:43.157Z"
   },
   {
    "duration": 1053,
    "start_time": "2022-01-09T03:57:55.156Z"
   },
   {
    "duration": 4794,
    "start_time": "2022-01-09T03:57:56.211Z"
   },
   {
    "duration": 41,
    "start_time": "2022-01-09T03:58:01.007Z"
   },
   {
    "duration": 5833,
    "start_time": "2022-01-09T03:58:01.049Z"
   },
   {
    "duration": 16,
    "start_time": "2022-01-09T03:58:06.884Z"
   },
   {
    "duration": 10,
    "start_time": "2022-01-09T03:58:06.901Z"
   },
   {
    "duration": 17,
    "start_time": "2022-01-09T03:58:06.912Z"
   },
   {
    "duration": 4,
    "start_time": "2022-01-09T03:58:06.932Z"
   },
   {
    "duration": 3,
    "start_time": "2022-01-09T03:58:06.938Z"
   },
   {
    "duration": 26,
    "start_time": "2022-01-09T03:58:06.943Z"
   },
   {
    "duration": 58,
    "start_time": "2022-01-09T03:58:06.971Z"
   },
   {
    "duration": 31,
    "start_time": "2022-01-09T03:58:07.031Z"
   },
   {
    "duration": 11,
    "start_time": "2022-01-09T03:58:07.063Z"
   },
   {
    "duration": 16,
    "start_time": "2022-01-09T03:58:07.076Z"
   },
   {
    "duration": 37,
    "start_time": "2022-01-09T03:58:07.093Z"
   },
   {
    "duration": 16,
    "start_time": "2022-01-09T03:58:07.131Z"
   },
   {
    "duration": 10,
    "start_time": "2022-01-09T03:58:07.148Z"
   },
   {
    "duration": 19,
    "start_time": "2022-01-09T03:58:07.159Z"
   },
   {
    "duration": 16,
    "start_time": "2022-01-09T03:58:07.180Z"
   },
   {
    "duration": 36,
    "start_time": "2022-01-09T03:58:07.197Z"
   },
   {
    "duration": 3,
    "start_time": "2022-01-09T03:58:07.234Z"
   },
   {
    "duration": 14,
    "start_time": "2022-01-09T03:58:07.239Z"
   },
   {
    "duration": 27,
    "start_time": "2022-01-09T03:58:07.255Z"
   },
   {
    "duration": 605,
    "start_time": "2022-01-09T03:58:07.283Z"
   },
   {
    "duration": 4,
    "start_time": "2022-01-09T03:58:07.889Z"
   },
   {
    "duration": 4,
    "start_time": "2022-01-09T03:58:07.895Z"
   },
   {
    "duration": 98,
    "start_time": "2022-01-09T03:58:07.900Z"
   },
   {
    "duration": 172,
    "start_time": "2022-01-09T03:58:08.000Z"
   },
   {
    "duration": 323,
    "start_time": "2022-01-09T03:58:08.173Z"
   },
   {
    "duration": 38,
    "start_time": "2022-01-09T03:58:08.497Z"
   },
   {
    "duration": 94,
    "start_time": "2022-01-09T03:58:08.537Z"
   },
   {
    "duration": 27,
    "start_time": "2022-01-09T03:58:08.633Z"
   },
   {
    "duration": 10,
    "start_time": "2022-01-09T03:58:08.662Z"
   },
   {
    "duration": 6,
    "start_time": "2022-01-09T03:58:08.674Z"
   },
   {
    "duration": 104,
    "start_time": "2022-01-09T03:58:08.681Z"
   },
   {
    "duration": 42,
    "start_time": "2022-01-09T03:58:08.786Z"
   },
   {
    "duration": 13,
    "start_time": "2022-01-09T03:58:08.830Z"
   },
   {
    "duration": 5,
    "start_time": "2022-01-09T03:58:08.844Z"
   },
   {
    "duration": 182,
    "start_time": "2022-01-09T03:58:08.850Z"
   },
   {
    "duration": 128,
    "start_time": "2022-01-09T04:14:08.201Z"
   },
   {
    "duration": 4,
    "start_time": "2022-01-09T04:17:09.871Z"
   },
   {
    "duration": 7908,
    "start_time": "2022-01-09T04:27:17.439Z"
   },
   {
    "duration": 11,
    "start_time": "2022-01-09T04:27:36.181Z"
   },
   {
    "duration": 33,
    "start_time": "2022-01-09T04:28:42.710Z"
   },
   {
    "duration": 5,
    "start_time": "2022-01-09T04:35:14.041Z"
   },
   {
    "duration": 4,
    "start_time": "2022-01-09T04:35:56.090Z"
   },
   {
    "duration": 7130,
    "start_time": "2022-01-09T04:36:14.060Z"
   },
   {
    "duration": 4,
    "start_time": "2022-01-09T04:36:33.111Z"
   },
   {
    "duration": 1027,
    "start_time": "2022-01-09T04:37:12.189Z"
   },
   {
    "duration": 1983,
    "start_time": "2022-01-09T04:37:13.217Z"
   },
   {
    "duration": 24,
    "start_time": "2022-01-09T04:37:15.204Z"
   },
   {
    "duration": 6029,
    "start_time": "2022-01-09T04:37:15.229Z"
   },
   {
    "duration": 17,
    "start_time": "2022-01-09T04:37:21.259Z"
   },
   {
    "duration": 11,
    "start_time": "2022-01-09T04:37:21.278Z"
   },
   {
    "duration": 8,
    "start_time": "2022-01-09T04:37:21.291Z"
   },
   {
    "duration": 2,
    "start_time": "2022-01-09T04:37:21.301Z"
   },
   {
    "duration": 22,
    "start_time": "2022-01-09T04:37:21.305Z"
   },
   {
    "duration": 25,
    "start_time": "2022-01-09T04:37:21.328Z"
   },
   {
    "duration": 28,
    "start_time": "2022-01-09T04:37:21.354Z"
   },
   {
    "duration": 46,
    "start_time": "2022-01-09T04:37:21.384Z"
   },
   {
    "duration": 10,
    "start_time": "2022-01-09T04:37:21.432Z"
   },
   {
    "duration": 16,
    "start_time": "2022-01-09T04:37:21.444Z"
   },
   {
    "duration": 12,
    "start_time": "2022-01-09T04:37:21.461Z"
   },
   {
    "duration": 14,
    "start_time": "2022-01-09T04:37:21.475Z"
   },
   {
    "duration": 38,
    "start_time": "2022-01-09T04:37:21.491Z"
   },
   {
    "duration": 20,
    "start_time": "2022-01-09T04:37:21.531Z"
   },
   {
    "duration": 17,
    "start_time": "2022-01-09T04:37:21.553Z"
   },
   {
    "duration": 10,
    "start_time": "2022-01-09T04:37:21.571Z"
   },
   {
    "duration": 5,
    "start_time": "2022-01-09T04:37:21.582Z"
   },
   {
    "duration": 41,
    "start_time": "2022-01-09T04:37:21.589Z"
   },
   {
    "duration": 26,
    "start_time": "2022-01-09T04:37:21.632Z"
   },
   {
    "duration": 532,
    "start_time": "2022-01-09T04:37:21.659Z"
   },
   {
    "duration": 4,
    "start_time": "2022-01-09T04:37:22.193Z"
   },
   {
    "duration": 6,
    "start_time": "2022-01-09T04:37:22.198Z"
   },
   {
    "duration": 95,
    "start_time": "2022-01-09T04:37:22.205Z"
   },
   {
    "duration": 178,
    "start_time": "2022-01-09T04:37:22.302Z"
   },
   {
    "duration": 346,
    "start_time": "2022-01-09T04:37:22.482Z"
   },
   {
    "duration": 9,
    "start_time": "2022-01-09T04:37:22.830Z"
   },
   {
    "duration": 98,
    "start_time": "2022-01-09T04:37:22.840Z"
   },
   {
    "duration": 96,
    "start_time": "2022-01-09T04:37:22.939Z"
   },
   {
    "duration": 11,
    "start_time": "2022-01-09T04:37:23.037Z"
   },
   {
    "duration": 7,
    "start_time": "2022-01-09T04:37:23.050Z"
   },
   {
    "duration": 93,
    "start_time": "2022-01-09T04:37:23.058Z"
   },
   {
    "duration": 8,
    "start_time": "2022-01-09T04:37:23.152Z"
   },
   {
    "duration": 277,
    "start_time": "2022-01-09T04:37:23.162Z"
   },
   {
    "duration": 10,
    "start_time": "2022-01-09T04:37:23.441Z"
   },
   {
    "duration": 7,
    "start_time": "2022-01-09T04:37:23.453Z"
   },
   {
    "duration": 36,
    "start_time": "2022-01-09T04:37:23.461Z"
   },
   {
    "duration": 1113,
    "start_time": "2022-01-09T08:41:11.178Z"
   },
   {
    "duration": 4781,
    "start_time": "2022-01-09T08:41:12.292Z"
   },
   {
    "duration": 30,
    "start_time": "2022-01-09T08:41:17.076Z"
   },
   {
    "duration": 6278,
    "start_time": "2022-01-09T08:41:17.108Z"
   },
   {
    "duration": 20,
    "start_time": "2022-01-09T08:41:23.388Z"
   },
   {
    "duration": 25,
    "start_time": "2022-01-09T08:41:23.409Z"
   },
   {
    "duration": 12,
    "start_time": "2022-01-09T08:41:23.435Z"
   },
   {
    "duration": 12,
    "start_time": "2022-01-09T08:41:23.448Z"
   },
   {
    "duration": 15,
    "start_time": "2022-01-09T08:41:23.463Z"
   },
   {
    "duration": 41,
    "start_time": "2022-01-09T08:41:23.480Z"
   },
   {
    "duration": 35,
    "start_time": "2022-01-09T08:41:23.522Z"
   },
   {
    "duration": 35,
    "start_time": "2022-01-09T08:41:23.559Z"
   },
   {
    "duration": 13,
    "start_time": "2022-01-09T08:41:23.595Z"
   },
   {
    "duration": 26,
    "start_time": "2022-01-09T08:41:23.609Z"
   },
   {
    "duration": 30,
    "start_time": "2022-01-09T08:41:23.637Z"
   },
   {
    "duration": 26,
    "start_time": "2022-01-09T08:41:23.669Z"
   },
   {
    "duration": 15,
    "start_time": "2022-01-09T08:41:23.697Z"
   },
   {
    "duration": 24,
    "start_time": "2022-01-09T08:41:23.714Z"
   },
   {
    "duration": 36,
    "start_time": "2022-01-09T08:41:23.740Z"
   },
   {
    "duration": 11,
    "start_time": "2022-01-09T08:41:23.778Z"
   },
   {
    "duration": 13,
    "start_time": "2022-01-09T08:41:23.791Z"
   },
   {
    "duration": 39,
    "start_time": "2022-01-09T08:41:23.806Z"
   },
   {
    "duration": 27,
    "start_time": "2022-01-09T08:41:23.846Z"
   },
   {
    "duration": 595,
    "start_time": "2022-01-09T08:41:23.874Z"
   },
   {
    "duration": 4,
    "start_time": "2022-01-09T08:41:24.470Z"
   },
   {
    "duration": 25,
    "start_time": "2022-01-09T08:41:24.476Z"
   },
   {
    "duration": 121,
    "start_time": "2022-01-09T08:41:24.504Z"
   },
   {
    "duration": 212,
    "start_time": "2022-01-09T08:41:24.627Z"
   },
   {
    "duration": 362,
    "start_time": "2022-01-09T08:41:24.841Z"
   },
   {
    "duration": 66,
    "start_time": "2022-01-09T08:41:25.206Z"
   },
   {
    "duration": 99,
    "start_time": "2022-01-09T08:41:25.274Z"
   },
   {
    "duration": 34,
    "start_time": "2022-01-09T08:41:25.375Z"
   },
   {
    "duration": 11,
    "start_time": "2022-01-09T08:41:25.411Z"
   },
   {
    "duration": 24,
    "start_time": "2022-01-09T08:41:25.424Z"
   },
   {
    "duration": 89,
    "start_time": "2022-01-09T08:41:25.449Z"
   },
   {
    "duration": 26,
    "start_time": "2022-01-09T08:41:25.540Z"
   },
   {
    "duration": 256,
    "start_time": "2022-01-09T08:41:25.568Z"
   },
   {
    "duration": 12,
    "start_time": "2022-01-09T08:41:25.825Z"
   },
   {
    "duration": 15,
    "start_time": "2022-01-09T08:41:25.838Z"
   },
   {
    "duration": 80,
    "start_time": "2022-01-09T08:41:25.854Z"
   },
   {
    "duration": 731,
    "start_time": "2022-01-09T08:41:55.563Z"
   },
   {
    "duration": 1177,
    "start_time": "2022-01-09T08:42:48.167Z"
   },
   {
    "duration": 499,
    "start_time": "2022-01-09T09:03:27.070Z"
   },
   {
    "duration": 4,
    "start_time": "2022-01-09T09:05:03.286Z"
   },
   {
    "duration": 4430,
    "start_time": "2022-01-09T09:05:12.874Z"
   },
   {
    "duration": 1570,
    "start_time": "2022-01-10T07:10:09.401Z"
   },
   {
    "duration": 7510,
    "start_time": "2022-01-10T07:10:10.974Z"
   },
   {
    "duration": 43,
    "start_time": "2022-01-10T07:10:18.487Z"
   },
   {
    "duration": 11385,
    "start_time": "2022-01-10T07:10:18.533Z"
   },
   {
    "duration": 46,
    "start_time": "2022-01-10T07:10:29.921Z"
   },
   {
    "duration": 16,
    "start_time": "2022-01-10T07:10:29.970Z"
   },
   {
    "duration": 16,
    "start_time": "2022-01-10T07:10:29.990Z"
   },
   {
    "duration": 6,
    "start_time": "2022-01-10T07:10:30.009Z"
   },
   {
    "duration": 44,
    "start_time": "2022-01-10T07:10:30.019Z"
   },
   {
    "duration": 71,
    "start_time": "2022-01-10T07:10:30.067Z"
   },
   {
    "duration": 85,
    "start_time": "2022-01-10T07:10:30.141Z"
   },
   {
    "duration": 79,
    "start_time": "2022-01-10T07:10:30.229Z"
   },
   {
    "duration": 20,
    "start_time": "2022-01-10T07:10:30.311Z"
   },
   {
    "duration": 50,
    "start_time": "2022-01-10T07:10:30.333Z"
   },
   {
    "duration": 21,
    "start_time": "2022-01-10T07:10:30.385Z"
   },
   {
    "duration": 62,
    "start_time": "2022-01-10T07:10:30.409Z"
   },
   {
    "duration": 17,
    "start_time": "2022-01-10T07:10:30.473Z"
   },
   {
    "duration": 45,
    "start_time": "2022-01-10T07:10:30.492Z"
   },
   {
    "duration": 50,
    "start_time": "2022-01-10T07:10:30.539Z"
   },
   {
    "duration": 19,
    "start_time": "2022-01-10T07:10:30.592Z"
   },
   {
    "duration": 10,
    "start_time": "2022-01-10T07:10:30.614Z"
   },
   {
    "duration": 50,
    "start_time": "2022-01-10T07:10:30.626Z"
   },
   {
    "duration": 48,
    "start_time": "2022-01-10T07:10:30.681Z"
   },
   {
    "duration": 1038,
    "start_time": "2022-01-10T07:10:30.731Z"
   },
   {
    "duration": 6,
    "start_time": "2022-01-10T07:10:31.772Z"
   },
   {
    "duration": 7,
    "start_time": "2022-01-10T07:10:31.780Z"
   },
   {
    "duration": 175,
    "start_time": "2022-01-10T07:10:31.790Z"
   },
   {
    "duration": 343,
    "start_time": "2022-01-10T07:10:31.967Z"
   },
   {
    "duration": 661,
    "start_time": "2022-01-10T07:10:32.314Z"
   },
   {
    "duration": 100,
    "start_time": "2022-01-10T07:10:32.978Z"
   },
   {
    "duration": 105,
    "start_time": "2022-01-10T07:10:33.082Z"
   },
   {
    "duration": 81,
    "start_time": "2022-01-10T07:10:33.189Z"
   },
   {
    "duration": 20,
    "start_time": "2022-01-10T07:10:33.273Z"
   },
   {
    "duration": 11,
    "start_time": "2022-01-10T07:10:33.296Z"
   },
   {
    "duration": 182,
    "start_time": "2022-01-10T07:10:33.310Z"
   },
   {
    "duration": 73,
    "start_time": "2022-01-10T07:10:33.496Z"
   },
   {
    "duration": 332,
    "start_time": "2022-01-10T07:10:33.572Z"
   },
   {
    "duration": 25,
    "start_time": "2022-01-10T07:10:33.907Z"
   },
   {
    "duration": 9073,
    "start_time": "2022-01-10T07:10:33.935Z"
   },
   {
    "duration": 2097,
    "start_time": "2022-01-10T07:10:43.011Z"
   },
   {
    "duration": 1112,
    "start_time": "2022-01-10T07:10:45.111Z"
   },
   {
    "duration": 6,
    "start_time": "2022-01-10T07:10:46.225Z"
   },
   {
    "duration": 107,
    "start_time": "2022-01-10T07:10:46.234Z"
   },
   {
    "duration": 474,
    "start_time": "2022-01-10T08:18:03.011Z"
   },
   {
    "duration": 368,
    "start_time": "2022-01-10T08:20:41.620Z"
   },
   {
    "duration": 4,
    "start_time": "2022-01-10T08:21:46.181Z"
   },
   {
    "duration": 401,
    "start_time": "2022-01-10T08:22:32.498Z"
   },
   {
    "duration": 244,
    "start_time": "2022-01-10T08:23:12.818Z"
   },
   {
    "duration": 251,
    "start_time": "2022-01-10T08:23:34.040Z"
   },
   {
    "duration": 252,
    "start_time": "2022-01-10T08:33:06.640Z"
   },
   {
    "duration": 4,
    "start_time": "2022-01-10T08:41:34.448Z"
   },
   {
    "duration": 562,
    "start_time": "2022-01-10T08:42:32.480Z"
   },
   {
    "duration": 656,
    "start_time": "2022-01-10T08:44:54.910Z"
   },
   {
    "duration": 11528,
    "start_time": "2022-01-10T08:45:06.380Z"
   },
   {
    "duration": 6926,
    "start_time": "2022-01-10T08:45:38.791Z"
   },
   {
    "duration": 3,
    "start_time": "2022-01-10T08:48:22.348Z"
   },
   {
    "duration": 6,
    "start_time": "2022-01-10T09:05:17.128Z"
   },
   {
    "duration": 23,
    "start_time": "2022-01-10T09:06:03.529Z"
   },
   {
    "duration": 17,
    "start_time": "2022-01-10T09:10:26.838Z"
   },
   {
    "duration": 1827,
    "start_time": "2022-01-10T11:43:18.706Z"
   },
   {
    "duration": 7570,
    "start_time": "2022-01-10T11:43:20.536Z"
   },
   {
    "duration": 56,
    "start_time": "2022-01-10T11:43:28.109Z"
   },
   {
    "duration": 12951,
    "start_time": "2022-01-10T11:43:28.168Z"
   },
   {
    "duration": 33,
    "start_time": "2022-01-10T11:43:41.124Z"
   },
   {
    "duration": 26,
    "start_time": "2022-01-10T11:43:41.159Z"
   },
   {
    "duration": 36,
    "start_time": "2022-01-10T11:43:41.187Z"
   },
   {
    "duration": 5,
    "start_time": "2022-01-10T11:43:41.228Z"
   },
   {
    "duration": 8,
    "start_time": "2022-01-10T11:43:41.236Z"
   },
   {
    "duration": 49,
    "start_time": "2022-01-10T11:43:41.247Z"
   },
   {
    "duration": 64,
    "start_time": "2022-01-10T11:43:41.324Z"
   },
   {
    "duration": 82,
    "start_time": "2022-01-10T11:43:41.391Z"
   },
   {
    "duration": 19,
    "start_time": "2022-01-10T11:43:41.476Z"
   },
   {
    "duration": 49,
    "start_time": "2022-01-10T11:43:41.498Z"
   },
   {
    "duration": 23,
    "start_time": "2022-01-10T11:43:41.550Z"
   },
   {
    "duration": 60,
    "start_time": "2022-01-10T11:43:41.576Z"
   },
   {
    "duration": 17,
    "start_time": "2022-01-10T11:43:41.639Z"
   },
   {
    "duration": 37,
    "start_time": "2022-01-10T11:43:41.659Z"
   },
   {
    "duration": 29,
    "start_time": "2022-01-10T11:43:41.724Z"
   },
   {
    "duration": 22,
    "start_time": "2022-01-10T11:43:41.755Z"
   },
   {
    "duration": 10,
    "start_time": "2022-01-10T11:43:41.780Z"
   },
   {
    "duration": 54,
    "start_time": "2022-01-10T11:43:41.792Z"
   },
   {
    "duration": 76,
    "start_time": "2022-01-10T11:43:41.853Z"
   },
   {
    "duration": 986,
    "start_time": "2022-01-10T11:43:41.933Z"
   },
   {
    "duration": 7,
    "start_time": "2022-01-10T11:43:42.923Z"
   },
   {
    "duration": 7,
    "start_time": "2022-01-10T11:43:42.933Z"
   },
   {
    "duration": 185,
    "start_time": "2022-01-10T11:43:42.943Z"
   },
   {
    "duration": 463,
    "start_time": "2022-01-10T11:43:43.131Z"
   },
   {
    "duration": 589,
    "start_time": "2022-01-10T11:43:43.597Z"
   },
   {
    "duration": 17,
    "start_time": "2022-01-10T11:43:44.224Z"
   },
   {
    "duration": 108,
    "start_time": "2022-01-10T11:43:44.243Z"
   },
   {
    "duration": 591,
    "start_time": "2022-01-10T11:43:44.354Z"
   },
   {
    "duration": 49,
    "start_time": "2022-01-10T11:43:44.948Z"
   },
   {
    "duration": 42,
    "start_time": "2022-01-10T11:43:45.000Z"
   },
   {
    "duration": 14,
    "start_time": "2022-01-10T11:43:45.044Z"
   },
   {
    "duration": 192,
    "start_time": "2022-01-10T11:43:45.061Z"
   },
   {
    "duration": 69,
    "start_time": "2022-01-10T11:43:45.256Z"
   },
   {
    "duration": 320,
    "start_time": "2022-01-10T11:43:45.328Z"
   },
   {
    "duration": 23,
    "start_time": "2022-01-10T11:43:45.651Z"
   },
   {
    "duration": 2072,
    "start_time": "2022-01-10T11:43:45.677Z"
   },
   {
    "duration": 1207,
    "start_time": "2022-01-10T11:43:47.752Z"
   },
   {
    "duration": 6,
    "start_time": "2022-01-10T11:43:48.962Z"
   },
   {
    "duration": 116,
    "start_time": "2022-01-10T11:43:48.971Z"
   },
   {
    "duration": -307,
    "start_time": "2022-01-10T11:43:49.397Z"
   },
   {
    "duration": -307,
    "start_time": "2022-01-10T11:43:49.399Z"
   },
   {
    "duration": 10254,
    "start_time": "2022-01-10T12:14:49.915Z"
   },
   {
    "duration": 16,
    "start_time": "2022-01-10T12:15:00.172Z"
   },
   {
    "duration": 20,
    "start_time": "2022-01-10T12:15:14.020Z"
   },
   {
    "duration": 18,
    "start_time": "2022-01-10T12:24:17.039Z"
   },
   {
    "duration": 19,
    "start_time": "2022-01-10T12:24:29.102Z"
   },
   {
    "duration": 20,
    "start_time": "2022-01-10T12:27:37.270Z"
   },
   {
    "duration": 45,
    "start_time": "2022-01-10T12:27:48.484Z"
   },
   {
    "duration": 49,
    "start_time": "2022-01-10T12:28:16.001Z"
   },
   {
    "duration": 42,
    "start_time": "2022-01-10T12:28:28.460Z"
   },
   {
    "duration": 67,
    "start_time": "2022-01-10T12:29:28.300Z"
   },
   {
    "duration": 44,
    "start_time": "2022-01-10T12:30:01.094Z"
   },
   {
    "duration": 1541,
    "start_time": "2022-01-10T12:30:48.903Z"
   },
   {
    "duration": 3472,
    "start_time": "2022-01-10T12:30:50.448Z"
   },
   {
    "duration": 42,
    "start_time": "2022-01-10T12:30:53.924Z"
   },
   {
    "duration": 11666,
    "start_time": "2022-01-10T12:30:53.969Z"
   },
   {
    "duration": 38,
    "start_time": "2022-01-10T12:31:05.638Z"
   },
   {
    "duration": 16,
    "start_time": "2022-01-10T12:31:05.678Z"
   },
   {
    "duration": 18,
    "start_time": "2022-01-10T12:31:05.724Z"
   },
   {
    "duration": 5,
    "start_time": "2022-01-10T12:31:05.745Z"
   },
   {
    "duration": 6,
    "start_time": "2022-01-10T12:31:05.754Z"
   },
   {
    "duration": 90,
    "start_time": "2022-01-10T12:31:05.763Z"
   },
   {
    "duration": 70,
    "start_time": "2022-01-10T12:31:05.855Z"
   },
   {
    "duration": 58,
    "start_time": "2022-01-10T12:31:05.928Z"
   },
   {
    "duration": 40,
    "start_time": "2022-01-10T12:31:05.988Z"
   },
   {
    "duration": 31,
    "start_time": "2022-01-10T12:31:06.031Z"
   },
   {
    "duration": 27,
    "start_time": "2022-01-10T12:31:06.065Z"
   },
   {
    "duration": 52,
    "start_time": "2022-01-10T12:31:06.095Z"
   },
   {
    "duration": 20,
    "start_time": "2022-01-10T12:31:06.150Z"
   },
   {
    "duration": 73,
    "start_time": "2022-01-10T12:31:06.173Z"
   },
   {
    "duration": 28,
    "start_time": "2022-01-10T12:31:06.249Z"
   },
   {
    "duration": 17,
    "start_time": "2022-01-10T12:31:06.279Z"
   },
   {
    "duration": 3,
    "start_time": "2022-01-10T12:31:06.323Z"
   },
   {
    "duration": 31,
    "start_time": "2022-01-10T12:31:06.328Z"
   },
   {
    "duration": 77,
    "start_time": "2022-01-10T12:31:06.362Z"
   },
   {
    "duration": 1005,
    "start_time": "2022-01-10T12:31:06.441Z"
   },
   {
    "duration": 8,
    "start_time": "2022-01-10T12:31:07.449Z"
   },
   {
    "duration": 14,
    "start_time": "2022-01-10T12:31:07.460Z"
   },
   {
    "duration": 224,
    "start_time": "2022-01-10T12:31:07.483Z"
   },
   {
    "duration": 395,
    "start_time": "2022-01-10T12:31:07.712Z"
   },
   {
    "duration": 602,
    "start_time": "2022-01-10T12:31:08.123Z"
   },
   {
    "duration": 94,
    "start_time": "2022-01-10T12:31:08.728Z"
   },
   {
    "duration": 117,
    "start_time": "2022-01-10T12:31:08.825Z"
   },
   {
    "duration": 665,
    "start_time": "2022-01-10T12:31:08.945Z"
   },
   {
    "duration": 58,
    "start_time": "2022-01-10T12:31:09.612Z"
   },
   {
    "duration": 24,
    "start_time": "2022-01-10T12:31:09.672Z"
   },
   {
    "duration": 12,
    "start_time": "2022-01-10T12:31:09.722Z"
   },
   {
    "duration": 188,
    "start_time": "2022-01-10T12:31:09.737Z"
   },
   {
    "duration": 15,
    "start_time": "2022-01-10T12:31:09.928Z"
   },
   {
    "duration": 411,
    "start_time": "2022-01-10T12:31:09.945Z"
   },
   {
    "duration": 28,
    "start_time": "2022-01-10T12:31:10.359Z"
   },
   {
    "duration": 2362,
    "start_time": "2022-01-10T12:31:10.390Z"
   },
   {
    "duration": 1192,
    "start_time": "2022-01-10T12:31:12.756Z"
   },
   {
    "duration": 6,
    "start_time": "2022-01-10T12:31:13.951Z"
   },
   {
    "duration": 10782,
    "start_time": "2022-01-10T12:31:13.959Z"
   },
   {
    "duration": 20,
    "start_time": "2022-01-10T12:31:24.744Z"
   },
   {
    "duration": 74,
    "start_time": "2022-01-10T12:31:24.766Z"
   },
   {
    "duration": 33,
    "start_time": "2022-01-10T12:35:18.612Z"
   },
   {
    "duration": 21,
    "start_time": "2022-01-10T12:35:38.330Z"
   },
   {
    "duration": 30,
    "start_time": "2022-01-10T12:36:02.338Z"
   },
   {
    "duration": 1072,
    "start_time": "2022-01-10T16:43:50.549Z"
   },
   {
    "duration": 4889,
    "start_time": "2022-01-10T16:43:51.623Z"
   },
   {
    "duration": 34,
    "start_time": "2022-01-10T16:43:56.514Z"
   },
   {
    "duration": 6484,
    "start_time": "2022-01-10T16:43:56.550Z"
   },
   {
    "duration": 18,
    "start_time": "2022-01-10T16:44:03.037Z"
   },
   {
    "duration": 11,
    "start_time": "2022-01-10T16:44:03.057Z"
   },
   {
    "duration": 9,
    "start_time": "2022-01-10T16:44:03.070Z"
   },
   {
    "duration": 4,
    "start_time": "2022-01-10T16:44:03.081Z"
   },
   {
    "duration": 4,
    "start_time": "2022-01-10T16:44:03.088Z"
   },
   {
    "duration": 64,
    "start_time": "2022-01-10T16:44:03.094Z"
   },
   {
    "duration": 32,
    "start_time": "2022-01-10T16:44:03.160Z"
   },
   {
    "duration": 52,
    "start_time": "2022-01-10T16:44:03.194Z"
   },
   {
    "duration": 11,
    "start_time": "2022-01-10T16:44:03.248Z"
   },
   {
    "duration": 18,
    "start_time": "2022-01-10T16:44:03.261Z"
   },
   {
    "duration": 14,
    "start_time": "2022-01-10T16:44:03.280Z"
   },
   {
    "duration": 41,
    "start_time": "2022-01-10T16:44:03.295Z"
   },
   {
    "duration": 11,
    "start_time": "2022-01-10T16:44:03.337Z"
   },
   {
    "duration": 21,
    "start_time": "2022-01-10T16:44:03.349Z"
   },
   {
    "duration": 18,
    "start_time": "2022-01-10T16:44:03.372Z"
   },
   {
    "duration": 36,
    "start_time": "2022-01-10T16:44:03.391Z"
   },
   {
    "duration": 2,
    "start_time": "2022-01-10T16:44:03.429Z"
   },
   {
    "duration": 15,
    "start_time": "2022-01-10T16:44:03.432Z"
   },
   {
    "duration": 27,
    "start_time": "2022-01-10T16:44:03.451Z"
   },
   {
    "duration": 635,
    "start_time": "2022-01-10T16:44:03.480Z"
   },
   {
    "duration": 4,
    "start_time": "2022-01-10T16:44:04.117Z"
   },
   {
    "duration": 4,
    "start_time": "2022-01-10T16:44:04.127Z"
   },
   {
    "duration": 108,
    "start_time": "2022-01-10T16:44:04.132Z"
   },
   {
    "duration": 188,
    "start_time": "2022-01-10T16:44:04.241Z"
   },
   {
    "duration": 358,
    "start_time": "2022-01-10T16:44:04.430Z"
   },
   {
    "duration": 44,
    "start_time": "2022-01-10T16:44:04.790Z"
   },
   {
    "duration": 95,
    "start_time": "2022-01-10T16:44:04.836Z"
   },
   {
    "duration": 322,
    "start_time": "2022-01-10T16:44:04.933Z"
   },
   {
    "duration": 29,
    "start_time": "2022-01-10T16:44:05.256Z"
   },
   {
    "duration": 11,
    "start_time": "2022-01-10T16:44:05.286Z"
   },
   {
    "duration": 7,
    "start_time": "2022-01-10T16:44:05.298Z"
   },
   {
    "duration": 96,
    "start_time": "2022-01-10T16:44:05.306Z"
   },
   {
    "duration": 13,
    "start_time": "2022-01-10T16:44:05.427Z"
   },
   {
    "duration": 234,
    "start_time": "2022-01-10T16:44:05.442Z"
   },
   {
    "duration": 11,
    "start_time": "2022-01-10T16:44:05.677Z"
   },
   {
    "duration": 1052,
    "start_time": "2022-01-10T16:44:05.689Z"
   },
   {
    "duration": 634,
    "start_time": "2022-01-10T16:44:06.742Z"
   },
   {
    "duration": 4,
    "start_time": "2022-01-10T16:44:07.377Z"
   },
   {
    "duration": 4370,
    "start_time": "2022-01-10T16:44:07.383Z"
   },
   {
    "duration": 11,
    "start_time": "2022-01-10T16:44:11.755Z"
   },
   {
    "duration": 26,
    "start_time": "2022-01-10T16:44:11.767Z"
   },
   {
    "duration": 96,
    "start_time": "2022-01-10T16:50:18.633Z"
   },
   {
    "duration": 1528,
    "start_time": "2022-01-11T02:45:58.135Z"
   },
   {
    "duration": 7645,
    "start_time": "2022-01-11T02:45:59.666Z"
   },
   {
    "duration": 44,
    "start_time": "2022-01-11T02:46:07.315Z"
   },
   {
    "duration": 10770,
    "start_time": "2022-01-11T02:46:07.362Z"
   },
   {
    "duration": 25,
    "start_time": "2022-01-11T02:46:18.147Z"
   },
   {
    "duration": 16,
    "start_time": "2022-01-11T02:46:18.175Z"
   },
   {
    "duration": 15,
    "start_time": "2022-01-11T02:46:18.193Z"
   },
   {
    "duration": 6,
    "start_time": "2022-01-11T02:46:18.211Z"
   },
   {
    "duration": 46,
    "start_time": "2022-01-11T02:46:18.220Z"
   },
   {
    "duration": 51,
    "start_time": "2022-01-11T02:46:18.268Z"
   },
   {
    "duration": 80,
    "start_time": "2022-01-11T02:46:18.321Z"
   },
   {
    "duration": 66,
    "start_time": "2022-01-11T02:46:18.404Z"
   },
   {
    "duration": 20,
    "start_time": "2022-01-11T02:46:18.472Z"
   },
   {
    "duration": 29,
    "start_time": "2022-01-11T02:46:18.495Z"
   },
   {
    "duration": 55,
    "start_time": "2022-01-11T02:46:18.527Z"
   },
   {
    "duration": 27,
    "start_time": "2022-01-11T02:46:18.584Z"
   },
   {
    "duration": 18,
    "start_time": "2022-01-11T02:46:18.614Z"
   },
   {
    "duration": 39,
    "start_time": "2022-01-11T02:46:18.663Z"
   },
   {
    "duration": 30,
    "start_time": "2022-01-11T02:46:18.705Z"
   },
   {
    "duration": 20,
    "start_time": "2022-01-11T02:46:18.762Z"
   },
   {
    "duration": 7,
    "start_time": "2022-01-11T02:46:18.784Z"
   },
   {
    "duration": 29,
    "start_time": "2022-01-11T02:46:18.793Z"
   },
   {
    "duration": 77,
    "start_time": "2022-01-11T02:46:18.828Z"
   },
   {
    "duration": 941,
    "start_time": "2022-01-11T02:46:18.909Z"
   },
   {
    "duration": 13,
    "start_time": "2022-01-11T02:46:19.852Z"
   },
   {
    "duration": 5,
    "start_time": "2022-01-11T02:46:19.868Z"
   },
   {
    "duration": 178,
    "start_time": "2022-01-11T02:46:19.876Z"
   },
   {
    "duration": 321,
    "start_time": "2022-01-11T02:46:20.062Z"
   },
   {
    "duration": 580,
    "start_time": "2022-01-11T02:46:20.385Z"
   },
   {
    "duration": 100,
    "start_time": "2022-01-11T02:46:20.968Z"
   },
   {
    "duration": 94,
    "start_time": "2022-01-11T02:46:21.071Z"
   },
   {
    "duration": 605,
    "start_time": "2022-01-11T02:46:21.167Z"
   },
   {
    "duration": 49,
    "start_time": "2022-01-11T02:46:21.774Z"
   },
   {
    "duration": 45,
    "start_time": "2022-01-11T02:46:21.825Z"
   },
   {
    "duration": 12,
    "start_time": "2022-01-11T02:46:21.873Z"
   },
   {
    "duration": 155,
    "start_time": "2022-01-11T02:46:21.888Z"
   },
   {
    "duration": 14,
    "start_time": "2022-01-11T02:46:22.062Z"
   },
   {
    "duration": 338,
    "start_time": "2022-01-11T02:46:22.079Z"
   },
   {
    "duration": 18,
    "start_time": "2022-01-11T02:46:22.419Z"
   },
   {
    "duration": 1876,
    "start_time": "2022-01-11T02:46:22.439Z"
   },
   {
    "duration": 1100,
    "start_time": "2022-01-11T02:46:24.317Z"
   },
   {
    "duration": 5,
    "start_time": "2022-01-11T02:46:25.420Z"
   },
   {
    "duration": 8367,
    "start_time": "2022-01-11T02:46:25.427Z"
   },
   {
    "duration": 18,
    "start_time": "2022-01-11T02:46:33.796Z"
   },
   {
    "duration": 62,
    "start_time": "2022-01-11T02:46:33.817Z"
   },
   {
    "duration": 8,
    "start_time": "2022-01-11T03:42:04.805Z"
   },
   {
    "duration": 146,
    "start_time": "2022-01-11T03:44:40.154Z"
   },
   {
    "duration": 46,
    "start_time": "2022-01-11T03:52:53.011Z"
   },
   {
    "duration": 50,
    "start_time": "2022-01-11T03:53:20.447Z"
   },
   {
    "duration": 41,
    "start_time": "2022-01-11T03:53:38.783Z"
   },
   {
    "duration": 49,
    "start_time": "2022-01-11T03:53:59.179Z"
   },
   {
    "duration": 19,
    "start_time": "2022-01-11T08:45:10.094Z"
   },
   {
    "duration": 51,
    "start_time": "2022-01-11T08:45:22.777Z"
   },
   {
    "duration": 11,
    "start_time": "2022-01-11T08:45:26.409Z"
   },
   {
    "duration": 5,
    "start_time": "2022-01-11T08:57:01.053Z"
   },
   {
    "duration": 450,
    "start_time": "2022-01-11T08:57:04.236Z"
   },
   {
    "duration": 33,
    "start_time": "2022-01-11T08:57:21.153Z"
   },
   {
    "duration": 45,
    "start_time": "2022-01-11T08:57:46.672Z"
   },
   {
    "duration": 4,
    "start_time": "2022-01-11T09:00:28.356Z"
   },
   {
    "duration": 8,
    "start_time": "2022-01-11T09:02:07.296Z"
   },
   {
    "duration": 52,
    "start_time": "2022-01-11T09:03:08.656Z"
   },
   {
    "duration": 655,
    "start_time": "2022-01-11T09:05:32.749Z"
   },
   {
    "duration": 1471,
    "start_time": "2022-01-11T09:06:33.784Z"
   },
   {
    "duration": 3926,
    "start_time": "2022-01-11T09:06:35.258Z"
   },
   {
    "duration": 58,
    "start_time": "2022-01-11T09:06:39.192Z"
   },
   {
    "duration": 10968,
    "start_time": "2022-01-11T09:06:39.254Z"
   },
   {
    "duration": 42,
    "start_time": "2022-01-11T09:06:50.225Z"
   },
   {
    "duration": 19,
    "start_time": "2022-01-11T09:06:50.270Z"
   },
   {
    "duration": 14,
    "start_time": "2022-01-11T09:06:50.291Z"
   },
   {
    "duration": 5,
    "start_time": "2022-01-11T09:06:50.309Z"
   },
   {
    "duration": 7,
    "start_time": "2022-01-11T09:06:50.317Z"
   },
   {
    "duration": 43,
    "start_time": "2022-01-11T09:06:50.363Z"
   },
   {
    "duration": 86,
    "start_time": "2022-01-11T09:06:50.408Z"
   },
   {
    "duration": 75,
    "start_time": "2022-01-11T09:06:50.497Z"
   },
   {
    "duration": 20,
    "start_time": "2022-01-11T09:06:50.575Z"
   },
   {
    "duration": 65,
    "start_time": "2022-01-11T09:06:50.598Z"
   },
   {
    "duration": 28,
    "start_time": "2022-01-11T09:06:50.666Z"
   },
   {
    "duration": 29,
    "start_time": "2022-01-11T09:06:50.696Z"
   },
   {
    "duration": 48,
    "start_time": "2022-01-11T09:06:50.727Z"
   },
   {
    "duration": 41,
    "start_time": "2022-01-11T09:06:50.778Z"
   },
   {
    "duration": 46,
    "start_time": "2022-01-11T09:06:50.822Z"
   },
   {
    "duration": 50,
    "start_time": "2022-01-11T09:06:50.872Z"
   },
   {
    "duration": 4,
    "start_time": "2022-01-11T09:06:50.924Z"
   },
   {
    "duration": 33,
    "start_time": "2022-01-11T09:06:50.930Z"
   },
   {
    "duration": 934,
    "start_time": "2022-01-11T09:06:50.968Z"
   },
   {
    "duration": -620,
    "start_time": "2022-01-11T09:06:52.525Z"
   },
   {
    "duration": -623,
    "start_time": "2022-01-11T09:06:52.529Z"
   },
   {
    "duration": -623,
    "start_time": "2022-01-11T09:06:52.531Z"
   },
   {
    "duration": -623,
    "start_time": "2022-01-11T09:06:52.533Z"
   },
   {
    "duration": -622,
    "start_time": "2022-01-11T09:06:52.534Z"
   },
   {
    "duration": -622,
    "start_time": "2022-01-11T09:06:52.536Z"
   },
   {
    "duration": -622,
    "start_time": "2022-01-11T09:06:52.537Z"
   },
   {
    "duration": -628,
    "start_time": "2022-01-11T09:06:52.545Z"
   },
   {
    "duration": -646,
    "start_time": "2022-01-11T09:06:52.564Z"
   },
   {
    "duration": -646,
    "start_time": "2022-01-11T09:06:52.566Z"
   },
   {
    "duration": -646,
    "start_time": "2022-01-11T09:06:52.568Z"
   },
   {
    "duration": -647,
    "start_time": "2022-01-11T09:06:52.570Z"
   },
   {
    "duration": -646,
    "start_time": "2022-01-11T09:06:52.571Z"
   },
   {
    "duration": -611,
    "start_time": "2022-01-11T09:06:52.574Z"
   },
   {
    "duration": -617,
    "start_time": "2022-01-11T09:06:52.581Z"
   },
   {
    "duration": -617,
    "start_time": "2022-01-11T09:06:52.583Z"
   },
   {
    "duration": -617,
    "start_time": "2022-01-11T09:06:52.585Z"
   },
   {
    "duration": -617,
    "start_time": "2022-01-11T09:06:52.586Z"
   },
   {
    "duration": -617,
    "start_time": "2022-01-11T09:06:52.588Z"
   },
   {
    "duration": -618,
    "start_time": "2022-01-11T09:06:52.590Z"
   },
   {
    "duration": -618,
    "start_time": "2022-01-11T09:06:52.592Z"
   },
   {
    "duration": -619,
    "start_time": "2022-01-11T09:06:52.594Z"
   },
   {
    "duration": -624,
    "start_time": "2022-01-11T09:06:52.601Z"
   },
   {
    "duration": -624,
    "start_time": "2022-01-11T09:06:52.603Z"
   },
   {
    "duration": -624,
    "start_time": "2022-01-11T09:06:52.604Z"
   },
   {
    "duration": -625,
    "start_time": "2022-01-11T09:06:52.606Z"
   },
   {
    "duration": -625,
    "start_time": "2022-01-11T09:06:52.608Z"
   },
   {
    "duration": -626,
    "start_time": "2022-01-11T09:06:52.610Z"
   },
   {
    "duration": 799,
    "start_time": "2022-01-11T09:10:06.525Z"
   },
   {
    "duration": 736,
    "start_time": "2022-01-11T09:11:01.596Z"
   },
   {
    "duration": 13,
    "start_time": "2022-01-11T09:16:47.639Z"
   },
   {
    "duration": 270,
    "start_time": "2022-01-11T09:17:08.563Z"
   },
   {
    "duration": 269,
    "start_time": "2022-01-11T09:20:21.990Z"
   },
   {
    "duration": 11,
    "start_time": "2022-01-11T09:20:29.506Z"
   },
   {
    "duration": 14,
    "start_time": "2022-01-11T09:20:42.631Z"
   },
   {
    "duration": 251,
    "start_time": "2022-01-11T09:23:50.375Z"
   },
   {
    "duration": 6516,
    "start_time": "2022-01-11T09:24:05.503Z"
   },
   {
    "duration": 442,
    "start_time": "2022-01-11T09:24:34.914Z"
   },
   {
    "duration": 1302,
    "start_time": "2022-01-11T09:24:50.446Z"
   },
   {
    "duration": 17,
    "start_time": "2022-01-11T09:26:16.699Z"
   },
   {
    "duration": 281,
    "start_time": "2022-01-11T09:26:54.581Z"
   },
   {
    "duration": 21,
    "start_time": "2022-01-11T09:27:27.898Z"
   },
   {
    "duration": 24,
    "start_time": "2022-01-11T09:28:00.466Z"
   },
   {
    "duration": 290,
    "start_time": "2022-01-11T09:28:25.194Z"
   },
   {
    "duration": 287,
    "start_time": "2022-01-11T09:30:28.134Z"
   },
   {
    "duration": 284,
    "start_time": "2022-01-11T09:33:02.649Z"
   },
   {
    "duration": 1075,
    "start_time": "2022-01-11T09:33:24.701Z"
   },
   {
    "duration": 1132,
    "start_time": "2022-01-11T09:34:44.431Z"
   },
   {
    "duration": 783,
    "start_time": "2022-01-11T09:35:37.746Z"
   },
   {
    "duration": 908,
    "start_time": "2022-01-11T09:36:07.672Z"
   },
   {
    "duration": 988,
    "start_time": "2022-01-11T09:36:40.670Z"
   },
   {
    "duration": 383,
    "start_time": "2022-01-11T09:48:20.881Z"
   },
   {
    "duration": 989,
    "start_time": "2022-01-11T09:48:42.513Z"
   },
   {
    "duration": 593,
    "start_time": "2022-01-11T09:50:43.216Z"
   },
   {
    "duration": 490,
    "start_time": "2022-01-11T09:51:04.220Z"
   },
   {
    "duration": 979,
    "start_time": "2022-01-11T09:51:28.633Z"
   },
   {
    "duration": 1080,
    "start_time": "2022-01-11T09:51:52.557Z"
   },
   {
    "duration": 1764,
    "start_time": "2022-01-11T09:52:05.580Z"
   },
   {
    "duration": 1454,
    "start_time": "2022-01-11T09:52:14.000Z"
   },
   {
    "duration": 1081,
    "start_time": "2022-01-11T09:52:31.988Z"
   },
   {
    "duration": 1078,
    "start_time": "2022-01-11T09:52:40.336Z"
   },
   {
    "duration": 1110,
    "start_time": "2022-01-11T09:59:32.803Z"
   },
   {
    "duration": 1090,
    "start_time": "2022-01-11T09:59:48.551Z"
   },
   {
    "duration": 1018,
    "start_time": "2022-01-11T10:00:01.840Z"
   },
   {
    "duration": 1179,
    "start_time": "2022-01-11T10:01:08.511Z"
   },
   {
    "duration": 1083,
    "start_time": "2022-01-11T10:02:17.896Z"
   },
   {
    "duration": 1034,
    "start_time": "2022-01-11T10:04:49.463Z"
   },
   {
    "duration": 1390,
    "start_time": "2022-01-11T10:09:53.782Z"
   },
   {
    "duration": 22,
    "start_time": "2022-01-11T10:10:47.938Z"
   },
   {
    "duration": 1567,
    "start_time": "2022-01-11T10:11:09.754Z"
   },
   {
    "duration": 1306,
    "start_time": "2022-01-11T10:11:58.540Z"
   },
   {
    "duration": 1479,
    "start_time": "2022-01-11T10:12:15.676Z"
   },
   {
    "duration": 1172,
    "start_time": "2022-01-11T10:14:03.774Z"
   },
   {
    "duration": 1296,
    "start_time": "2022-01-11T10:15:22.154Z"
   },
   {
    "duration": 136,
    "start_time": "2022-01-11T10:27:25.443Z"
   },
   {
    "duration": 106,
    "start_time": "2022-01-11T10:27:51.278Z"
   },
   {
    "duration": 1538,
    "start_time": "2022-01-11T10:28:13.833Z"
   },
   {
    "duration": 1625,
    "start_time": "2022-01-11T10:28:44.693Z"
   },
   {
    "duration": 4881,
    "start_time": "2022-01-11T10:28:46.321Z"
   },
   {
    "duration": 43,
    "start_time": "2022-01-11T10:28:51.206Z"
   },
   {
    "duration": 12872,
    "start_time": "2022-01-11T10:28:51.252Z"
   },
   {
    "duration": 47,
    "start_time": "2022-01-11T10:29:04.127Z"
   },
   {
    "duration": 20,
    "start_time": "2022-01-11T10:29:04.177Z"
   },
   {
    "duration": 16,
    "start_time": "2022-01-11T10:29:04.200Z"
   },
   {
    "duration": 50,
    "start_time": "2022-01-11T10:29:04.221Z"
   },
   {
    "duration": 11,
    "start_time": "2022-01-11T10:29:04.275Z"
   },
   {
    "duration": 42,
    "start_time": "2022-01-11T10:29:04.289Z"
   },
   {
    "duration": 90,
    "start_time": "2022-01-11T10:29:04.334Z"
   },
   {
    "duration": 77,
    "start_time": "2022-01-11T10:29:04.426Z"
   },
   {
    "duration": 25,
    "start_time": "2022-01-11T10:29:04.506Z"
   },
   {
    "duration": 53,
    "start_time": "2022-01-11T10:29:04.534Z"
   },
   {
    "duration": 26,
    "start_time": "2022-01-11T10:29:04.590Z"
   },
   {
    "duration": 60,
    "start_time": "2022-01-11T10:29:04.619Z"
   },
   {
    "duration": 20,
    "start_time": "2022-01-11T10:29:04.682Z"
   },
   {
    "duration": 70,
    "start_time": "2022-01-11T10:29:04.704Z"
   },
   {
    "duration": 10,
    "start_time": "2022-01-11T10:29:04.777Z"
   },
   {
    "duration": 80,
    "start_time": "2022-01-11T10:29:04.790Z"
   },
   {
    "duration": 1356,
    "start_time": "2022-01-11T10:29:04.873Z"
   },
   {
    "duration": 45,
    "start_time": "2022-01-11T10:29:06.232Z"
   },
   {
    "duration": 24,
    "start_time": "2022-01-11T10:29:06.284Z"
   },
   {
    "duration": 4,
    "start_time": "2022-01-11T10:29:06.312Z"
   },
   {
    "duration": 70,
    "start_time": "2022-01-11T10:29:06.319Z"
   },
   {
    "duration": 48,
    "start_time": "2022-01-11T10:29:06.392Z"
   },
   {
    "duration": 1048,
    "start_time": "2022-01-11T10:29:06.443Z"
   },
   {
    "duration": 7,
    "start_time": "2022-01-11T10:29:07.495Z"
   },
   {
    "duration": 6,
    "start_time": "2022-01-11T10:29:07.505Z"
   },
   {
    "duration": 203,
    "start_time": "2022-01-11T10:29:07.514Z"
   },
   {
    "duration": 388,
    "start_time": "2022-01-11T10:29:07.721Z"
   },
   {
    "duration": 664,
    "start_time": "2022-01-11T10:29:08.112Z"
   },
   {
    "duration": 89,
    "start_time": "2022-01-11T10:29:08.779Z"
   },
   {
    "duration": 112,
    "start_time": "2022-01-11T10:29:08.870Z"
   },
   {
    "duration": 702,
    "start_time": "2022-01-11T10:29:08.985Z"
   },
   {
    "duration": 86,
    "start_time": "2022-01-11T10:29:09.690Z"
   },
   {
    "duration": 21,
    "start_time": "2022-01-11T10:29:09.778Z"
   },
   {
    "duration": 12,
    "start_time": "2022-01-11T10:29:09.802Z"
   },
   {
    "duration": 179,
    "start_time": "2022-01-11T10:29:09.816Z"
   },
   {
    "duration": 78,
    "start_time": "2022-01-11T10:29:09.998Z"
   },
   {
    "duration": 381,
    "start_time": "2022-01-11T10:29:10.081Z"
   },
   {
    "duration": 25,
    "start_time": "2022-01-11T10:29:10.465Z"
   },
   {
    "duration": 2003,
    "start_time": "2022-01-11T10:29:10.493Z"
   },
   {
    "duration": 1271,
    "start_time": "2022-01-11T10:29:12.499Z"
   },
   {
    "duration": 7,
    "start_time": "2022-01-11T10:29:13.789Z"
   },
   {
    "duration": 9539,
    "start_time": "2022-01-11T10:29:13.799Z"
   },
   {
    "duration": 28,
    "start_time": "2022-01-11T10:29:23.340Z"
   },
   {
    "duration": 59,
    "start_time": "2022-01-11T10:29:23.373Z"
   },
   {
    "duration": 28,
    "start_time": "2022-01-11T10:29:23.435Z"
   },
   {
    "duration": 1542,
    "start_time": "2022-01-11T10:33:15.352Z"
   },
   {
    "duration": 1968,
    "start_time": "2022-01-11T10:34:09.580Z"
   },
   {
    "duration": 1975,
    "start_time": "2022-01-11T10:35:34.016Z"
   },
   {
    "duration": 207,
    "start_time": "2022-01-11T10:49:26.191Z"
   },
   {
    "duration": 119,
    "start_time": "2022-01-11T10:50:13.460Z"
   },
   {
    "duration": 11,
    "start_time": "2022-01-11T10:53:54.993Z"
   },
   {
    "duration": 8,
    "start_time": "2022-01-11T10:56:38.019Z"
   },
   {
    "duration": 406,
    "start_time": "2022-01-11T10:57:49.566Z"
   },
   {
    "duration": 15,
    "start_time": "2022-01-11T11:06:52.025Z"
   },
   {
    "duration": 7,
    "start_time": "2022-01-11T11:06:58.854Z"
   },
   {
    "duration": 7,
    "start_time": "2022-01-11T11:07:08.843Z"
   },
   {
    "duration": 29,
    "start_time": "2022-01-11T11:09:30.210Z"
   },
   {
    "duration": 1670,
    "start_time": "2022-01-11T11:11:20.142Z"
   },
   {
    "duration": 4063,
    "start_time": "2022-01-11T11:11:21.816Z"
   },
   {
    "duration": 49,
    "start_time": "2022-01-11T11:11:25.882Z"
   },
   {
    "duration": 10949,
    "start_time": "2022-01-11T11:11:25.934Z"
   },
   {
    "duration": 29,
    "start_time": "2022-01-11T11:11:36.886Z"
   },
   {
    "duration": 16,
    "start_time": "2022-01-11T11:11:36.917Z"
   },
   {
    "duration": 39,
    "start_time": "2022-01-11T11:11:36.935Z"
   },
   {
    "duration": 6,
    "start_time": "2022-01-11T11:11:36.976Z"
   },
   {
    "duration": 5,
    "start_time": "2022-01-11T11:11:36.987Z"
   },
   {
    "duration": 82,
    "start_time": "2022-01-11T11:11:36.995Z"
   },
   {
    "duration": 58,
    "start_time": "2022-01-11T11:11:37.080Z"
   },
   {
    "duration": 76,
    "start_time": "2022-01-11T11:11:37.140Z"
   },
   {
    "duration": 21,
    "start_time": "2022-01-11T11:11:37.218Z"
   },
   {
    "duration": 51,
    "start_time": "2022-01-11T11:11:37.241Z"
   },
   {
    "duration": 25,
    "start_time": "2022-01-11T11:11:37.295Z"
   },
   {
    "duration": 60,
    "start_time": "2022-01-11T11:11:37.323Z"
   },
   {
    "duration": 16,
    "start_time": "2022-01-11T11:11:37.386Z"
   },
   {
    "duration": 66,
    "start_time": "2022-01-11T11:11:37.405Z"
   },
   {
    "duration": 8,
    "start_time": "2022-01-11T11:11:37.474Z"
   },
   {
    "duration": 1893,
    "start_time": "2022-01-11T11:11:37.484Z"
   },
   {
    "duration": 14,
    "start_time": "2022-01-11T11:11:39.380Z"
   },
   {
    "duration": 28,
    "start_time": "2022-01-11T11:11:39.398Z"
   },
   {
    "duration": 52,
    "start_time": "2022-01-11T11:11:39.429Z"
   },
   {
    "duration": 4,
    "start_time": "2022-01-11T11:11:39.483Z"
   },
   {
    "duration": 31,
    "start_time": "2022-01-11T11:11:39.490Z"
   },
   {
    "duration": 74,
    "start_time": "2022-01-11T11:11:39.524Z"
   },
   {
    "duration": 808,
    "start_time": "2022-01-11T11:11:39.604Z"
   },
   {
    "duration": 6,
    "start_time": "2022-01-11T11:11:40.415Z"
   },
   {
    "duration": 14,
    "start_time": "2022-01-11T11:11:40.424Z"
   },
   {
    "duration": 183,
    "start_time": "2022-01-11T11:11:40.440Z"
   },
   {
    "duration": 338,
    "start_time": "2022-01-11T11:11:40.625Z"
   },
   {
    "duration": 1000,
    "start_time": "2022-01-11T11:11:40.966Z"
   },
   {
    "duration": 94,
    "start_time": "2022-01-11T11:11:41.970Z"
   },
   {
    "duration": 26,
    "start_time": "2022-01-11T11:11:42.067Z"
   },
   {
    "duration": 585,
    "start_time": "2022-01-11T11:11:42.096Z"
   },
   {
    "duration": 48,
    "start_time": "2022-01-11T11:11:42.684Z"
   },
   {
    "duration": 41,
    "start_time": "2022-01-11T11:11:42.735Z"
   },
   {
    "duration": 12,
    "start_time": "2022-01-11T11:11:42.779Z"
   },
   {
    "duration": 170,
    "start_time": "2022-01-11T11:11:42.793Z"
   },
   {
    "duration": 15,
    "start_time": "2022-01-11T11:11:42.965Z"
   },
   {
    "duration": 555,
    "start_time": "2022-01-11T11:11:42.983Z"
   },
   {
    "duration": 29,
    "start_time": "2022-01-11T11:11:43.541Z"
   },
   {
    "duration": 1846,
    "start_time": "2022-01-11T11:11:43.573Z"
   },
   {
    "duration": 1012,
    "start_time": "2022-01-11T11:11:45.422Z"
   },
   {
    "duration": 7,
    "start_time": "2022-01-11T11:11:46.437Z"
   },
   {
    "duration": 9762,
    "start_time": "2022-01-11T11:11:46.447Z"
   },
   {
    "duration": 19,
    "start_time": "2022-01-11T11:11:56.212Z"
   },
   {
    "duration": 67,
    "start_time": "2022-01-11T11:11:56.234Z"
   },
   {
    "duration": 12,
    "start_time": "2022-01-11T11:11:56.304Z"
   },
   {
    "duration": 22,
    "start_time": "2022-01-11T11:14:21.231Z"
   },
   {
    "duration": 396,
    "start_time": "2022-01-11T11:19:15.502Z"
   },
   {
    "duration": 262,
    "start_time": "2022-01-11T11:21:13.374Z"
   },
   {
    "duration": 52,
    "start_time": "2022-01-11T11:23:06.082Z"
   },
   {
    "duration": 323,
    "start_time": "2022-01-11T11:23:58.818Z"
   },
   {
    "duration": 613,
    "start_time": "2022-01-11T11:24:26.313Z"
   },
   {
    "duration": 1730,
    "start_time": "2022-01-11T11:25:30.960Z"
   },
   {
    "duration": 1532,
    "start_time": "2022-01-11T11:26:06.926Z"
   },
   {
    "duration": 3275,
    "start_time": "2022-01-11T11:26:08.460Z"
   },
   {
    "duration": 42,
    "start_time": "2022-01-11T11:26:11.740Z"
   },
   {
    "duration": 10762,
    "start_time": "2022-01-11T11:26:11.785Z"
   },
   {
    "duration": 32,
    "start_time": "2022-01-11T11:26:22.550Z"
   },
   {
    "duration": 16,
    "start_time": "2022-01-11T11:26:22.585Z"
   },
   {
    "duration": 15,
    "start_time": "2022-01-11T11:26:22.604Z"
   },
   {
    "duration": 46,
    "start_time": "2022-01-11T11:26:22.622Z"
   },
   {
    "duration": 5,
    "start_time": "2022-01-11T11:26:22.673Z"
   },
   {
    "duration": 44,
    "start_time": "2022-01-11T11:26:22.682Z"
   },
   {
    "duration": 88,
    "start_time": "2022-01-11T11:26:22.729Z"
   },
   {
    "duration": 86,
    "start_time": "2022-01-11T11:26:22.820Z"
   },
   {
    "duration": 19,
    "start_time": "2022-01-11T11:26:22.908Z"
   },
   {
    "duration": 51,
    "start_time": "2022-01-11T11:26:22.930Z"
   },
   {
    "duration": 21,
    "start_time": "2022-01-11T11:26:22.983Z"
   },
   {
    "duration": 56,
    "start_time": "2022-01-11T11:26:23.006Z"
   },
   {
    "duration": 17,
    "start_time": "2022-01-11T11:26:23.064Z"
   },
   {
    "duration": 38,
    "start_time": "2022-01-11T11:26:23.084Z"
   },
   {
    "duration": 8,
    "start_time": "2022-01-11T11:26:23.126Z"
   },
   {
    "duration": 2147,
    "start_time": "2022-01-11T11:26:23.164Z"
   },
   {
    "duration": 12,
    "start_time": "2022-01-11T11:26:25.313Z"
   },
   {
    "duration": 53,
    "start_time": "2022-01-11T11:26:25.327Z"
   },
   {
    "duration": 21,
    "start_time": "2022-01-11T11:26:25.384Z"
   },
   {
    "duration": 7,
    "start_time": "2022-01-11T11:26:25.409Z"
   },
   {
    "duration": 57,
    "start_time": "2022-01-11T11:26:25.418Z"
   },
   {
    "duration": 61,
    "start_time": "2022-01-11T11:26:25.478Z"
   },
   {
    "duration": 780,
    "start_time": "2022-01-11T11:26:25.565Z"
   },
   {
    "duration": 17,
    "start_time": "2022-01-11T11:26:26.348Z"
   },
   {
    "duration": 6,
    "start_time": "2022-01-11T11:26:26.368Z"
   },
   {
    "duration": 179,
    "start_time": "2022-01-11T11:26:26.376Z"
   },
   {
    "duration": 362,
    "start_time": "2022-01-11T11:26:26.562Z"
   },
   {
    "duration": 579,
    "start_time": "2022-01-11T11:26:26.926Z"
   },
   {
    "duration": 72,
    "start_time": "2022-01-11T11:26:27.508Z"
   },
   {
    "duration": 100,
    "start_time": "2022-01-11T11:26:27.583Z"
   },
   {
    "duration": 616,
    "start_time": "2022-01-11T11:26:27.686Z"
   },
   {
    "duration": 66,
    "start_time": "2022-01-11T11:26:28.305Z"
   },
   {
    "duration": 20,
    "start_time": "2022-01-11T11:26:28.373Z"
   },
   {
    "duration": 12,
    "start_time": "2022-01-11T11:26:28.396Z"
   },
   {
    "duration": 173,
    "start_time": "2022-01-11T11:26:28.410Z"
   },
   {
    "duration": 15,
    "start_time": "2022-01-11T11:26:28.585Z"
   },
   {
    "duration": 336,
    "start_time": "2022-01-11T11:26:28.663Z"
   },
   {
    "duration": 20,
    "start_time": "2022-01-11T11:26:29.002Z"
   },
   {
    "duration": 2054,
    "start_time": "2022-01-11T11:26:29.024Z"
   },
   {
    "duration": 1226,
    "start_time": "2022-01-11T11:26:31.080Z"
   },
   {
    "duration": 6,
    "start_time": "2022-01-11T11:26:32.308Z"
   },
   {
    "duration": 9567,
    "start_time": "2022-01-11T11:26:32.317Z"
   },
   {
    "duration": 18,
    "start_time": "2022-01-11T11:26:41.887Z"
   },
   {
    "duration": 70,
    "start_time": "2022-01-11T11:26:41.908Z"
   },
   {
    "duration": 7,
    "start_time": "2022-01-11T11:26:41.980Z"
   },
   {
    "duration": 21,
    "start_time": "2022-01-11T11:26:41.990Z"
   },
   {
    "duration": 82,
    "start_time": "2022-01-11T11:26:42.014Z"
   },
   {
    "duration": 7,
    "start_time": "2022-01-11T11:31:35.104Z"
   },
   {
    "duration": 19,
    "start_time": "2022-01-11T11:32:13.944Z"
   },
   {
    "duration": 7,
    "start_time": "2022-01-11T11:32:16.585Z"
   },
   {
    "duration": 6,
    "start_time": "2022-01-11T11:32:29.962Z"
   },
   {
    "duration": 9420,
    "start_time": "2022-01-11T11:33:58.586Z"
   },
   {
    "duration": -1801,
    "start_time": "2022-01-11T11:34:09.811Z"
   },
   {
    "duration": 7,
    "start_time": "2022-01-11T11:35:04.830Z"
   },
   {
    "duration": 7,
    "start_time": "2022-01-11T11:35:07.611Z"
   },
   {
    "duration": 6,
    "start_time": "2022-01-11T11:35:42.315Z"
   },
   {
    "duration": 7,
    "start_time": "2022-01-11T11:36:13.604Z"
   },
   {
    "duration": 7,
    "start_time": "2022-01-11T11:36:15.126Z"
   },
   {
    "duration": 3,
    "start_time": "2022-01-11T11:37:23.798Z"
   },
   {
    "duration": 23,
    "start_time": "2022-01-11T11:41:13.334Z"
   },
   {
    "duration": 345,
    "start_time": "2022-01-11T11:41:34.922Z"
   },
   {
    "duration": 308,
    "start_time": "2022-01-11T11:42:20.794Z"
   },
   {
    "duration": 1486,
    "start_time": "2022-01-11T11:43:03.488Z"
   },
   {
    "duration": 3653,
    "start_time": "2022-01-11T11:43:04.977Z"
   },
   {
    "duration": 41,
    "start_time": "2022-01-11T11:43:08.633Z"
   },
   {
    "duration": 10651,
    "start_time": "2022-01-11T11:43:08.677Z"
   },
   {
    "duration": 53,
    "start_time": "2022-01-11T11:43:19.332Z"
   },
   {
    "duration": 30,
    "start_time": "2022-01-11T11:43:19.388Z"
   },
   {
    "duration": 17,
    "start_time": "2022-01-11T11:43:19.421Z"
   },
   {
    "duration": 6,
    "start_time": "2022-01-11T11:43:19.463Z"
   },
   {
    "duration": 4,
    "start_time": "2022-01-11T11:43:19.473Z"
   },
   {
    "duration": 42,
    "start_time": "2022-01-11T11:43:19.480Z"
   },
   {
    "duration": 90,
    "start_time": "2022-01-11T11:43:19.524Z"
   },
   {
    "duration": 77,
    "start_time": "2022-01-11T11:43:19.616Z"
   },
   {
    "duration": 20,
    "start_time": "2022-01-11T11:43:19.695Z"
   },
   {
    "duration": 49,
    "start_time": "2022-01-11T11:43:19.718Z"
   },
   {
    "duration": 22,
    "start_time": "2022-01-11T11:43:19.769Z"
   },
   {
    "duration": 26,
    "start_time": "2022-01-11T11:43:19.795Z"
   },
   {
    "duration": 44,
    "start_time": "2022-01-11T11:43:19.824Z"
   },
   {
    "duration": 37,
    "start_time": "2022-01-11T11:43:19.871Z"
   },
   {
    "duration": 9,
    "start_time": "2022-01-11T11:43:19.910Z"
   },
   {
    "duration": 2058,
    "start_time": "2022-01-11T11:43:19.921Z"
   },
   {
    "duration": 28,
    "start_time": "2022-01-11T11:43:21.982Z"
   },
   {
    "duration": 18,
    "start_time": "2022-01-11T11:43:22.012Z"
   },
   {
    "duration": 32,
    "start_time": "2022-01-11T11:43:22.033Z"
   },
   {
    "duration": 31,
    "start_time": "2022-01-11T11:43:22.067Z"
   },
   {
    "duration": 70,
    "start_time": "2022-01-11T11:43:22.101Z"
   },
   {
    "duration": 878,
    "start_time": "2022-01-11T11:43:22.174Z"
   },
   {
    "duration": 6,
    "start_time": "2022-01-11T11:43:23.062Z"
   },
   {
    "duration": 7,
    "start_time": "2022-01-11T11:43:23.071Z"
   },
   {
    "duration": 174,
    "start_time": "2022-01-11T11:43:23.081Z"
   },
   {
    "duration": 341,
    "start_time": "2022-01-11T11:43:23.262Z"
   },
   {
    "duration": 586,
    "start_time": "2022-01-11T11:43:23.605Z"
   },
   {
    "duration": 83,
    "start_time": "2022-01-11T11:43:24.195Z"
   },
   {
    "duration": 102,
    "start_time": "2022-01-11T11:43:24.282Z"
   },
   {
    "duration": 602,
    "start_time": "2022-01-11T11:43:24.386Z"
   },
   {
    "duration": 49,
    "start_time": "2022-01-11T11:43:24.991Z"
   },
   {
    "duration": 19,
    "start_time": "2022-01-11T11:43:25.062Z"
   },
   {
    "duration": 11,
    "start_time": "2022-01-11T11:43:25.084Z"
   },
   {
    "duration": 167,
    "start_time": "2022-01-11T11:43:25.097Z"
   },
   {
    "duration": 14,
    "start_time": "2022-01-11T11:43:25.267Z"
   },
   {
    "duration": 388,
    "start_time": "2022-01-11T11:43:25.283Z"
   },
   {
    "duration": 19,
    "start_time": "2022-01-11T11:43:25.674Z"
   },
   {
    "duration": 1868,
    "start_time": "2022-01-11T11:43:25.695Z"
   },
   {
    "duration": 1137,
    "start_time": "2022-01-11T11:43:27.566Z"
   },
   {
    "duration": 7,
    "start_time": "2022-01-11T11:43:28.705Z"
   },
   {
    "duration": 8851,
    "start_time": "2022-01-11T11:43:28.715Z"
   },
   {
    "duration": 19,
    "start_time": "2022-01-11T11:43:37.568Z"
   },
   {
    "duration": 74,
    "start_time": "2022-01-11T11:43:37.590Z"
   },
   {
    "duration": 7,
    "start_time": "2022-01-11T11:43:37.667Z"
   },
   {
    "duration": 25,
    "start_time": "2022-01-11T11:43:37.677Z"
   },
   {
    "duration": 73,
    "start_time": "2022-01-11T11:43:37.705Z"
   },
   {
    "duration": 43,
    "start_time": "2022-01-11T11:43:37.780Z"
   },
   {
    "duration": 8,
    "start_time": "2022-01-11T11:50:38.480Z"
   },
   {
    "duration": 8,
    "start_time": "2022-01-11T11:52:37.650Z"
   },
   {
    "duration": 20,
    "start_time": "2022-01-11T11:56:03.321Z"
   },
   {
    "duration": 44,
    "start_time": "2022-01-11T11:56:08.048Z"
   },
   {
    "duration": 9,
    "start_time": "2022-01-11T11:56:11.332Z"
   },
   {
    "duration": 22,
    "start_time": "2022-01-11T11:56:55.660Z"
   },
   {
    "duration": 7,
    "start_time": "2022-01-11T11:57:28.890Z"
   },
   {
    "duration": 5,
    "start_time": "2022-01-11T11:57:43.150Z"
   },
   {
    "duration": 1520,
    "start_time": "2022-01-11T16:25:17.643Z"
   },
   {
    "duration": 6784,
    "start_time": "2022-01-11T16:25:19.165Z"
   },
   {
    "duration": 43,
    "start_time": "2022-01-11T16:25:25.952Z"
   },
   {
    "duration": 11247,
    "start_time": "2022-01-11T16:25:25.997Z"
   },
   {
    "duration": 32,
    "start_time": "2022-01-11T16:25:37.247Z"
   },
   {
    "duration": 18,
    "start_time": "2022-01-11T16:25:37.282Z"
   },
   {
    "duration": 13,
    "start_time": "2022-01-11T16:25:37.302Z"
   },
   {
    "duration": 6,
    "start_time": "2022-01-11T16:25:37.319Z"
   },
   {
    "duration": 40,
    "start_time": "2022-01-11T16:25:37.327Z"
   },
   {
    "duration": 44,
    "start_time": "2022-01-11T16:25:37.369Z"
   },
   {
    "duration": 84,
    "start_time": "2022-01-11T16:25:37.415Z"
   },
   {
    "duration": 70,
    "start_time": "2022-01-11T16:25:37.502Z"
   },
   {
    "duration": 15,
    "start_time": "2022-01-11T16:25:37.575Z"
   },
   {
    "duration": 82,
    "start_time": "2022-01-11T16:25:37.593Z"
   },
   {
    "duration": -441,
    "start_time": "2022-01-11T16:25:38.120Z"
   },
   {
    "duration": -441,
    "start_time": "2022-01-11T16:25:38.122Z"
   },
   {
    "duration": -440,
    "start_time": "2022-01-11T16:25:38.123Z"
   },
   {
    "duration": -441,
    "start_time": "2022-01-11T16:25:38.125Z"
   },
   {
    "duration": -440,
    "start_time": "2022-01-11T16:25:38.126Z"
   },
   {
    "duration": -482,
    "start_time": "2022-01-11T16:25:38.170Z"
   },
   {
    "duration": -487,
    "start_time": "2022-01-11T16:25:38.176Z"
   },
   {
    "duration": -487,
    "start_time": "2022-01-11T16:25:38.178Z"
   },
   {
    "duration": -491,
    "start_time": "2022-01-11T16:25:38.183Z"
   },
   {
    "duration": -491,
    "start_time": "2022-01-11T16:25:38.185Z"
   },
   {
    "duration": -492,
    "start_time": "2022-01-11T16:25:38.187Z"
   },
   {
    "duration": -494,
    "start_time": "2022-01-11T16:25:38.190Z"
   },
   {
    "duration": -494,
    "start_time": "2022-01-11T16:25:38.192Z"
   },
   {
    "duration": -496,
    "start_time": "2022-01-11T16:25:38.195Z"
   },
   {
    "duration": -497,
    "start_time": "2022-01-11T16:25:38.198Z"
   },
   {
    "duration": -499,
    "start_time": "2022-01-11T16:25:38.201Z"
   },
   {
    "duration": -630,
    "start_time": "2022-01-11T16:25:38.334Z"
   },
   {
    "duration": -654,
    "start_time": "2022-01-11T16:25:38.359Z"
   },
   {
    "duration": -655,
    "start_time": "2022-01-11T16:25:38.361Z"
   },
   {
    "duration": -654,
    "start_time": "2022-01-11T16:25:38.362Z"
   },
   {
    "duration": -653,
    "start_time": "2022-01-11T16:25:38.363Z"
   },
   {
    "duration": -655,
    "start_time": "2022-01-11T16:25:38.366Z"
   },
   {
    "duration": -654,
    "start_time": "2022-01-11T16:25:38.367Z"
   },
   {
    "duration": -654,
    "start_time": "2022-01-11T16:25:38.368Z"
   },
   {
    "duration": -654,
    "start_time": "2022-01-11T16:25:38.370Z"
   },
   {
    "duration": -654,
    "start_time": "2022-01-11T16:25:38.371Z"
   },
   {
    "duration": -656,
    "start_time": "2022-01-11T16:25:38.374Z"
   },
   {
    "duration": -657,
    "start_time": "2022-01-11T16:25:38.376Z"
   },
   {
    "duration": -658,
    "start_time": "2022-01-11T16:25:38.378Z"
   },
   {
    "duration": -618,
    "start_time": "2022-01-11T16:25:38.380Z"
   },
   {
    "duration": -619,
    "start_time": "2022-01-11T16:25:38.383Z"
   },
   {
    "duration": -620,
    "start_time": "2022-01-11T16:25:38.385Z"
   },
   {
    "duration": -620,
    "start_time": "2022-01-11T16:25:38.386Z"
   },
   {
    "duration": -620,
    "start_time": "2022-01-11T16:25:38.387Z"
   },
   {
    "duration": -620,
    "start_time": "2022-01-11T16:25:38.389Z"
   },
   {
    "duration": -620,
    "start_time": "2022-01-11T16:25:38.390Z"
   },
   {
    "duration": -619,
    "start_time": "2022-01-11T16:25:38.391Z"
   },
   {
    "duration": -620,
    "start_time": "2022-01-11T16:25:38.393Z"
   },
   {
    "duration": -621,
    "start_time": "2022-01-11T16:25:38.395Z"
   },
   {
    "duration": -622,
    "start_time": "2022-01-11T16:25:38.398Z"
   },
   {
    "duration": 1445,
    "start_time": "2022-01-11T16:26:02.789Z"
   },
   {
    "duration": 3157,
    "start_time": "2022-01-11T16:26:04.236Z"
   },
   {
    "duration": 42,
    "start_time": "2022-01-11T16:26:07.396Z"
   },
   {
    "duration": 10904,
    "start_time": "2022-01-11T16:26:07.441Z"
   },
   {
    "duration": 31,
    "start_time": "2022-01-11T16:26:18.347Z"
   },
   {
    "duration": 16,
    "start_time": "2022-01-11T16:26:18.381Z"
   },
   {
    "duration": 19,
    "start_time": "2022-01-11T16:26:18.401Z"
   },
   {
    "duration": 37,
    "start_time": "2022-01-11T16:26:18.426Z"
   },
   {
    "duration": 7,
    "start_time": "2022-01-11T16:26:18.466Z"
   },
   {
    "duration": 50,
    "start_time": "2022-01-11T16:26:18.476Z"
   },
   {
    "duration": 78,
    "start_time": "2022-01-11T16:26:18.528Z"
   },
   {
    "duration": 74,
    "start_time": "2022-01-11T16:26:18.608Z"
   },
   {
    "duration": 16,
    "start_time": "2022-01-11T16:26:18.684Z"
   },
   {
    "duration": 20,
    "start_time": "2022-01-11T16:26:18.703Z"
   },
   {
    "duration": 61,
    "start_time": "2022-01-11T16:26:18.725Z"
   },
   {
    "duration": 23,
    "start_time": "2022-01-11T16:26:18.789Z"
   },
   {
    "duration": 52,
    "start_time": "2022-01-11T16:26:18.815Z"
   },
   {
    "duration": 17,
    "start_time": "2022-01-11T16:26:18.870Z"
   },
   {
    "duration": 38,
    "start_time": "2022-01-11T16:26:18.890Z"
   },
   {
    "duration": 7,
    "start_time": "2022-01-11T16:26:18.963Z"
   },
   {
    "duration": 2165,
    "start_time": "2022-01-11T16:26:18.973Z"
   },
   {
    "duration": 40,
    "start_time": "2022-01-11T16:26:21.141Z"
   },
   {
    "duration": 19,
    "start_time": "2022-01-11T16:26:21.186Z"
   },
   {
    "duration": 3,
    "start_time": "2022-01-11T16:26:21.208Z"
   },
   {
    "duration": 52,
    "start_time": "2022-01-11T16:26:21.213Z"
   },
   {
    "duration": 57,
    "start_time": "2022-01-11T16:26:21.268Z"
   },
   {
    "duration": 906,
    "start_time": "2022-01-11T16:26:21.327Z"
   },
   {
    "duration": 7,
    "start_time": "2022-01-11T16:26:22.236Z"
   },
   {
    "duration": 20,
    "start_time": "2022-01-11T16:26:22.245Z"
   },
   {
    "duration": 165,
    "start_time": "2022-01-11T16:26:22.268Z"
   },
   {
    "duration": 337,
    "start_time": "2022-01-11T16:26:22.436Z"
   },
   {
    "duration": 588,
    "start_time": "2022-01-11T16:26:22.776Z"
   },
   {
    "duration": 96,
    "start_time": "2022-01-11T16:26:23.367Z"
   },
   {
    "duration": 99,
    "start_time": "2022-01-11T16:26:23.466Z"
   },
   {
    "duration": 575,
    "start_time": "2022-01-11T16:26:23.567Z"
   },
   {
    "duration": 58,
    "start_time": "2022-01-11T16:26:24.145Z"
   },
   {
    "duration": 19,
    "start_time": "2022-01-11T16:26:24.206Z"
   },
   {
    "duration": 46,
    "start_time": "2022-01-11T16:26:24.228Z"
   },
   {
    "duration": 218,
    "start_time": "2022-01-11T16:26:24.276Z"
   },
   {
    "duration": 13,
    "start_time": "2022-01-11T16:26:24.497Z"
   },
   {
    "duration": 324,
    "start_time": "2022-01-11T16:26:24.564Z"
   },
   {
    "duration": 19,
    "start_time": "2022-01-11T16:26:24.891Z"
   },
   {
    "duration": 1877,
    "start_time": "2022-01-11T16:26:24.913Z"
   },
   {
    "duration": 1182,
    "start_time": "2022-01-11T16:26:26.792Z"
   },
   {
    "duration": 6,
    "start_time": "2022-01-11T16:26:27.977Z"
   },
   {
    "duration": 8676,
    "start_time": "2022-01-11T16:26:27.986Z"
   },
   {
    "duration": 19,
    "start_time": "2022-01-11T16:26:36.665Z"
   },
   {
    "duration": 58,
    "start_time": "2022-01-11T16:26:36.686Z"
   },
   {
    "duration": 20,
    "start_time": "2022-01-11T16:26:36.746Z"
   },
   {
    "duration": 25,
    "start_time": "2022-01-11T16:26:36.768Z"
   },
   {
    "duration": 77,
    "start_time": "2022-01-11T16:26:36.795Z"
   },
   {
    "duration": 43,
    "start_time": "2022-01-11T16:26:36.874Z"
   },
   {
    "duration": 5,
    "start_time": "2022-01-11T16:26:36.920Z"
   }
  ],
  "kernelspec": {
   "display_name": "Python 3",
   "language": "python",
   "name": "python3"
  },
  "language_info": {
   "codemirror_mode": {
    "name": "ipython",
    "version": 3
   },
   "file_extension": ".py",
   "mimetype": "text/x-python",
   "name": "python",
   "nbconvert_exporter": "python",
   "pygments_lexer": "ipython3",
   "version": "3.7.8"
  },
  "toc": {
   "base_numbering": 1,
   "nav_menu": {},
   "number_sections": true,
   "sideBar": true,
   "skip_h1_title": true,
   "title_cell": "Table of Contents",
   "title_sidebar": "Contents",
   "toc_cell": false,
   "toc_position": {
    "height": "calc(100% - 180px)",
    "left": "10px",
    "top": "150px",
    "width": "303.825px"
   },
   "toc_section_display": true,
   "toc_window_display": true
  }
 },
 "nbformat": 4,
 "nbformat_minor": 2
}
