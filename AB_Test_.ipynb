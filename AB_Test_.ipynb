{
  "nbformat": 4,
  "nbformat_minor": 0,
  "metadata": {
    "kernelspec": {
      "display_name": "Python 3",
      "language": "python",
      "name": "python3"
    },
    "language_info": {
      "codemirror_mode": {
        "name": "ipython",
        "version": 3
      },
      "file_extension": ".py",
      "mimetype": "text/x-python",
      "name": "python",
      "nbconvert_exporter": "python",
      "pygments_lexer": "ipython3",
      "version": "3.7.8"
    },
    "toc": {
      "base_numbering": 1,
      "nav_menu": {},
      "number_sections": true,
      "sideBar": true,
      "skip_h1_title": true,
      "title_cell": "Table of Contents",
      "title_sidebar": "Contents",
      "toc_cell": false,
      "toc_position": {
        "height": "calc(100% - 180px)",
        "left": "10px",
        "top": "150px",
        "width": "389.6px"
      },
      "toc_section_display": true,
      "toc_window_display": true
    },
    "colab": {
      "name": "b0ecfa39-aa26-4bcf-9c56-9ecbfef2d80d.ipynb",
      "provenance": [],
      "collapsed_sections": [],
      "toc_visible": true
    }
  },
  "cells": [
    {
      "cell_type": "markdown",
      "metadata": {
        "id": "XhPqpNd_fvfw"
      },
      "source": [
        "---"
      ]
    },
    {
      "cell_type": "markdown",
      "metadata": {
        "id": "_Tt8xWKxfvfw"
      },
      "source": [
        "## Введение"
      ]
    },
    {
      "cell_type": "markdown",
      "metadata": {
        "id": "bbAy08Crfvfw"
      },
      "source": [
        "**Цель проекта:** Необходимо проверить гипотезы для увеличения выручки.\n",
        "\n",
        "**Задачи проекта:**\n",
        "\n",
        "- Приоритизировать гипотезы, \n",
        "- Запустить A/B-тест \n",
        "- Проанализировать результаты.\n",
        "\n",
        "**Для выполнения работы будут использованы следующие библиотеки:**\n",
        "\n",
        "pandas\n",
        "numpy\n",
        "seaborn\n",
        "matplotlib.pyplot\n",
        "pymystem3\n",
        "stats"
      ]
    },
    {
      "cell_type": "code",
      "metadata": {
        "id": "J3AXTAYvfvfx"
      },
      "source": [
        "import pandas as pd\n",
        "pd.set_option('max_colwidth', 400)\n",
        "import numpy as np\n",
        "import seaborn as sns\n",
        "import matplotlib.pyplot as plt\n",
        "import datetime as dt\n",
        "import math\n",
        "import scipy.stats as stats\n",
        "\n",
        "\n",
        "from pymystem3 import Mystem\n",
        "from IPython.display import display"
      ],
      "execution_count": 2,
      "outputs": []
    },
    {
      "cell_type": "code",
      "metadata": {
        "id": "kHt5FGybfvfz"
      },
      "source": [
        "from pandas.plotting import register_matplotlib_converters\n",
        "register_matplotlib_converters() "
      ],
      "execution_count": 3,
      "outputs": []
    },
    {
      "cell_type": "markdown",
      "metadata": {
        "id": "P32fUEh1fvf0"
      },
      "source": [
        "## Открытие и подготовка данных"
      ]
    },
    {
      "cell_type": "code",
      "metadata": {
        "colab": {
          "base_uri": "https://localhost:8080/",
          "height": 203
        },
        "id": "C9WNgjWtwSa_",
        "outputId": "b31ab757-157e-48e0-f738-804926ff8620"
      },
      "source": [
        "try:\n",
        "    hypothesis = pd.read_csv('https://code.s3.yandex.net/datasets/hypothesis.csv', sep=',') \n",
        "except Exception:\n",
        "        hypothesis = pd.read_csv('/datasets/hypothesis.csv')\n",
        "display(hypothesis.sample(5))  "
      ],
      "execution_count": 8,
      "outputs": [
        {
          "output_type": "display_data",
          "data": {
            "text/html": [
              "<div>\n",
              "<style scoped>\n",
              "    .dataframe tbody tr th:only-of-type {\n",
              "        vertical-align: middle;\n",
              "    }\n",
              "\n",
              "    .dataframe tbody tr th {\n",
              "        vertical-align: top;\n",
              "    }\n",
              "\n",
              "    .dataframe thead th {\n",
              "        text-align: right;\n",
              "    }\n",
              "</style>\n",
              "<table border=\"1\" class=\"dataframe\">\n",
              "  <thead>\n",
              "    <tr style=\"text-align: right;\">\n",
              "      <th></th>\n",
              "      <th>Hypothesis</th>\n",
              "      <th>Reach</th>\n",
              "      <th>Impact</th>\n",
              "      <th>Confidence</th>\n",
              "      <th>Efforts</th>\n",
              "    </tr>\n",
              "  </thead>\n",
              "  <tbody>\n",
              "    <tr>\n",
              "      <th>5</th>\n",
              "      <td>Добавить страницу отзывов клиентов о магазине, что позволит увеличить количество заказов</td>\n",
              "      <td>3</td>\n",
              "      <td>2</td>\n",
              "      <td>2</td>\n",
              "      <td>3</td>\n",
              "    </tr>\n",
              "    <tr>\n",
              "      <th>6</th>\n",
              "      <td>Показать на главной странице баннеры с актуальными акциями и распродажами, чтобы увеличить конверсию</td>\n",
              "      <td>5</td>\n",
              "      <td>3</td>\n",
              "      <td>8</td>\n",
              "      <td>3</td>\n",
              "    </tr>\n",
              "    <tr>\n",
              "      <th>1</th>\n",
              "      <td>Запустить собственную службу доставки, что сократит срок доставки заказов</td>\n",
              "      <td>2</td>\n",
              "      <td>5</td>\n",
              "      <td>4</td>\n",
              "      <td>10</td>\n",
              "    </tr>\n",
              "    <tr>\n",
              "      <th>7</th>\n",
              "      <td>Добавить форму подписки на все основные страницы, чтобы собрать базу клиентов для email-рассылок</td>\n",
              "      <td>10</td>\n",
              "      <td>7</td>\n",
              "      <td>8</td>\n",
              "      <td>5</td>\n",
              "    </tr>\n",
              "    <tr>\n",
              "      <th>0</th>\n",
              "      <td>Добавить два новых канала привлечения трафика, что позволит привлекать на 30% больше пользователей</td>\n",
              "      <td>3</td>\n",
              "      <td>10</td>\n",
              "      <td>8</td>\n",
              "      <td>6</td>\n",
              "    </tr>\n",
              "  </tbody>\n",
              "</table>\n",
              "</div>"
            ],
            "text/plain": [
              "                                                                                             Hypothesis  ...  Efforts\n",
              "5              Добавить страницу отзывов клиентов о магазине, что позволит увеличить количество заказов  ...        3\n",
              "6  Показать на главной странице баннеры с актуальными акциями и распродажами, чтобы увеличить конверсию  ...        3\n",
              "1                             Запустить собственную службу доставки, что сократит срок доставки заказов  ...       10\n",
              "7      Добавить форму подписки на все основные страницы, чтобы собрать базу клиентов для email-рассылок  ...        5\n",
              "0    Добавить два новых канала привлечения трафика, что позволит привлекать на 30% больше пользователей  ...        6\n",
              "\n",
              "[5 rows x 5 columns]"
            ]
          },
          "metadata": {}
        }
      ]
    },
    {
      "cell_type": "code",
      "metadata": {
        "id": "3_YgeLHUfvf2",
        "colab": {
          "base_uri": "https://localhost:8080/"
        },
        "outputId": "6d3e94cb-ec57-47fc-ccca-f31da1ff185d"
      },
      "source": [
        "hypothesis.info()"
      ],
      "execution_count": 9,
      "outputs": [
        {
          "output_type": "stream",
          "name": "stdout",
          "text": [
            "<class 'pandas.core.frame.DataFrame'>\n",
            "RangeIndex: 9 entries, 0 to 8\n",
            "Data columns (total 5 columns):\n",
            " #   Column      Non-Null Count  Dtype \n",
            "---  ------      --------------  ----- \n",
            " 0   Hypothesis  9 non-null      object\n",
            " 1   Reach       9 non-null      int64 \n",
            " 2   Impact      9 non-null      int64 \n",
            " 3   Confidence  9 non-null      int64 \n",
            " 4   Efforts     9 non-null      int64 \n",
            "dtypes: int64(4), object(1)\n",
            "memory usage: 488.0+ bytes\n"
          ]
        }
      ]
    },
    {
      "cell_type": "code",
      "metadata": {
        "colab": {
          "base_uri": "https://localhost:8080/",
          "height": 203
        },
        "id": "X989QopXwlwa",
        "outputId": "f788f5ae-a5be-4145-8f2a-62b6cb62b1d6"
      },
      "source": [
        "try:\n",
        "    orders = pd.read_csv('https://code.s3.yandex.net/datasets/orders.csv', sep=',') \n",
        "except Exception:\n",
        "        orders = pd.read_csv('/datasets/orders.csv')\n",
        "display(orders.sample(5))  "
      ],
      "execution_count": 10,
      "outputs": [
        {
          "output_type": "display_data",
          "data": {
            "text/html": [
              "<div>\n",
              "<style scoped>\n",
              "    .dataframe tbody tr th:only-of-type {\n",
              "        vertical-align: middle;\n",
              "    }\n",
              "\n",
              "    .dataframe tbody tr th {\n",
              "        vertical-align: top;\n",
              "    }\n",
              "\n",
              "    .dataframe thead th {\n",
              "        text-align: right;\n",
              "    }\n",
              "</style>\n",
              "<table border=\"1\" class=\"dataframe\">\n",
              "  <thead>\n",
              "    <tr style=\"text-align: right;\">\n",
              "      <th></th>\n",
              "      <th>transactionId</th>\n",
              "      <th>visitorId</th>\n",
              "      <th>date</th>\n",
              "      <th>revenue</th>\n",
              "      <th>group</th>\n",
              "    </tr>\n",
              "  </thead>\n",
              "  <tbody>\n",
              "    <tr>\n",
              "      <th>398</th>\n",
              "      <td>2084190534</td>\n",
              "      <td>3673190339</td>\n",
              "      <td>2019-08-28</td>\n",
              "      <td>3890</td>\n",
              "      <td>A</td>\n",
              "    </tr>\n",
              "    <tr>\n",
              "      <th>558</th>\n",
              "      <td>3621273697</td>\n",
              "      <td>3941503500</td>\n",
              "      <td>2019-08-06</td>\n",
              "      <td>4990</td>\n",
              "      <td>B</td>\n",
              "    </tr>\n",
              "    <tr>\n",
              "      <th>1019</th>\n",
              "      <td>453824282</td>\n",
              "      <td>4256040402</td>\n",
              "      <td>2019-08-31</td>\n",
              "      <td>1850</td>\n",
              "      <td>B</td>\n",
              "    </tr>\n",
              "    <tr>\n",
              "      <th>628</th>\n",
              "      <td>1483298733</td>\n",
              "      <td>2201480904</td>\n",
              "      <td>2019-08-29</td>\n",
              "      <td>400</td>\n",
              "      <td>B</td>\n",
              "    </tr>\n",
              "    <tr>\n",
              "      <th>482</th>\n",
              "      <td>1715714627</td>\n",
              "      <td>495712671</td>\n",
              "      <td>2019-08-06</td>\n",
              "      <td>1790</td>\n",
              "      <td>A</td>\n",
              "    </tr>\n",
              "  </tbody>\n",
              "</table>\n",
              "</div>"
            ],
            "text/plain": [
              "      transactionId   visitorId        date  revenue group\n",
              "398      2084190534  3673190339  2019-08-28     3890     A\n",
              "558      3621273697  3941503500  2019-08-06     4990     B\n",
              "1019      453824282  4256040402  2019-08-31     1850     B\n",
              "628      1483298733  2201480904  2019-08-29      400     B\n",
              "482      1715714627   495712671  2019-08-06     1790     A"
            ]
          },
          "metadata": {}
        }
      ]
    },
    {
      "cell_type": "code",
      "metadata": {
        "id": "eiVuEWC4fvf2",
        "outputId": "63091638-8d95-44c1-e9ba-f967f42a2fef"
      },
      "source": [
        "orders.info()"
      ],
      "execution_count": null,
      "outputs": [
        {
          "name": "stdout",
          "output_type": "stream",
          "text": [
            "<class 'pandas.core.frame.DataFrame'>\n",
            "RangeIndex: 1197 entries, 0 to 1196\n",
            "Data columns (total 5 columns):\n",
            "transactionId    1197 non-null int64\n",
            "visitorId        1197 non-null int64\n",
            "date             1197 non-null object\n",
            "revenue          1197 non-null int64\n",
            "group            1197 non-null object\n",
            "dtypes: int64(3), object(2)\n",
            "memory usage: 46.9+ KB\n"
          ]
        }
      ]
    },
    {
      "cell_type": "code",
      "metadata": {
        "colab": {
          "base_uri": "https://localhost:8080/",
          "height": 203
        },
        "id": "jjOscAt7xF1X",
        "outputId": "bc78b241-eb8e-40f5-f497-9e48c9f8516e"
      },
      "source": [
        "try:\n",
        "    visitors = pd.read_csv('https://code.s3.yandex.net/datasets/visitors.csv', sep=',') \n",
        "except Exception:\n",
        "        visitors = pd.read_csv('/datasets/visitors.csv')\n",
        "display(visitors.sample(5))  "
      ],
      "execution_count": 11,
      "outputs": [
        {
          "output_type": "display_data",
          "data": {
            "text/html": [
              "<div>\n",
              "<style scoped>\n",
              "    .dataframe tbody tr th:only-of-type {\n",
              "        vertical-align: middle;\n",
              "    }\n",
              "\n",
              "    .dataframe tbody tr th {\n",
              "        vertical-align: top;\n",
              "    }\n",
              "\n",
              "    .dataframe thead th {\n",
              "        text-align: right;\n",
              "    }\n",
              "</style>\n",
              "<table border=\"1\" class=\"dataframe\">\n",
              "  <thead>\n",
              "    <tr style=\"text-align: right;\">\n",
              "      <th></th>\n",
              "      <th>date</th>\n",
              "      <th>group</th>\n",
              "      <th>visitors</th>\n",
              "    </tr>\n",
              "  </thead>\n",
              "  <tbody>\n",
              "    <tr>\n",
              "      <th>11</th>\n",
              "      <td>2019-08-12</td>\n",
              "      <td>A</td>\n",
              "      <td>595</td>\n",
              "    </tr>\n",
              "    <tr>\n",
              "      <th>6</th>\n",
              "      <td>2019-08-07</td>\n",
              "      <td>A</td>\n",
              "      <td>644</td>\n",
              "    </tr>\n",
              "    <tr>\n",
              "      <th>55</th>\n",
              "      <td>2019-08-25</td>\n",
              "      <td>B</td>\n",
              "      <td>679</td>\n",
              "    </tr>\n",
              "    <tr>\n",
              "      <th>17</th>\n",
              "      <td>2019-08-18</td>\n",
              "      <td>A</td>\n",
              "      <td>668</td>\n",
              "    </tr>\n",
              "    <tr>\n",
              "      <th>0</th>\n",
              "      <td>2019-08-01</td>\n",
              "      <td>A</td>\n",
              "      <td>719</td>\n",
              "    </tr>\n",
              "  </tbody>\n",
              "</table>\n",
              "</div>"
            ],
            "text/plain": [
              "          date group  visitors\n",
              "11  2019-08-12     A       595\n",
              "6   2019-08-07     A       644\n",
              "55  2019-08-25     B       679\n",
              "17  2019-08-18     A       668\n",
              "0   2019-08-01     A       719"
            ]
          },
          "metadata": {}
        }
      ]
    },
    {
      "cell_type": "code",
      "metadata": {
        "id": "nGnFvueCfvf3",
        "outputId": "a141cd4b-84eb-4e2e-edec-95fcc10693a5"
      },
      "source": [
        "visitors.info()"
      ],
      "execution_count": null,
      "outputs": [
        {
          "name": "stdout",
          "output_type": "stream",
          "text": [
            "<class 'pandas.core.frame.DataFrame'>\n",
            "RangeIndex: 62 entries, 0 to 61\n",
            "Data columns (total 3 columns):\n",
            "date        62 non-null object\n",
            "group       62 non-null object\n",
            "visitors    62 non-null int64\n",
            "dtypes: int64(1), object(2)\n",
            "memory usage: 1.6+ KB\n"
          ]
        }
      ]
    },
    {
      "cell_type": "markdown",
      "metadata": {
        "id": "4I4JkCZ7fvf3"
      },
      "source": [
        "**Вывод:** Нам передали три файла: hypothesis содержащий гипотезы и критерии её значимости и трудоемкости. А так же данные с результатами A/B теста - количеством визитов и заказов на площадке. \n",
        "\n",
        "Необходимые изменения в данных: \n",
        "\n",
        "hypothesis\n",
        "\n",
        "- Изменение типа данных с int64 до int32 для всех столбцов, кроме Hypothesis\n",
        "- Написание названия столбцов со строчной буквы\n",
        "\n",
        "orders и visitors\n",
        "\n",
        "- Перевод дат в формат даты\n",
        "- Перевод столбцов revenue и visitors в int32"
      ]
    },
    {
      "cell_type": "markdown",
      "metadata": {
        "id": "BojIe8lhfvf4"
      },
      "source": [
        "### Первичная обработка данных"
      ]
    },
    {
      "cell_type": "markdown",
      "metadata": {
        "id": "GTpyOYnSfvf4"
      },
      "source": [
        "Приведем в порядок данные файла hypothesis."
      ]
    },
    {
      "cell_type": "code",
      "metadata": {
        "id": "5_ZjIn-Mfvf4"
      },
      "source": [
        "hypothesis.columns = ['hypothesis', 'reach', 'impact', 'confidence', 'efforts'] #Приведем столбцы к нижнему регистру"
      ],
      "execution_count": null,
      "outputs": []
    },
    {
      "cell_type": "code",
      "metadata": {
        "id": "Mup5nfZifvf4",
        "outputId": "4ffd1676-3e0d-4eb3-d3ab-eee11c86202d"
      },
      "source": [
        "hypothesis.info()"
      ],
      "execution_count": null,
      "outputs": [
        {
          "name": "stdout",
          "output_type": "stream",
          "text": [
            "<class 'pandas.core.frame.DataFrame'>\n",
            "RangeIndex: 9 entries, 0 to 8\n",
            "Data columns (total 5 columns):\n",
            "hypothesis    9 non-null object\n",
            "reach         9 non-null int64\n",
            "impact        9 non-null int64\n",
            "confidence    9 non-null int64\n",
            "efforts       9 non-null int64\n",
            "dtypes: int64(4), object(1)\n",
            "memory usage: 488.0+ bytes\n"
          ]
        }
      ]
    },
    {
      "cell_type": "code",
      "metadata": {
        "id": "M3G-Imryfvf5"
      },
      "source": [
        "hypothesis['reach'] = hypothesis['reach'].astype('int16')\n",
        "hypothesis['impact'] = hypothesis['impact'].astype('int16')\n",
        "hypothesis['confidence'] = hypothesis['confidence'].astype('int16')\n",
        "hypothesis['efforts'] = hypothesis['efforts'].astype('int16')"
      ],
      "execution_count": null,
      "outputs": []
    },
    {
      "cell_type": "markdown",
      "metadata": {
        "id": "KymazMwJfvf6"
      },
      "source": [
        "Наведем порядок в данных orders и visitors"
      ]
    },
    {
      "cell_type": "code",
      "metadata": {
        "id": "71rK1cWgfvf6"
      },
      "source": [
        "orders['date'] = orders['date'].map(\n",
        "    lambda x: dt.datetime.strptime(x, '%Y-%m-%d')\n",
        ")\n",
        "visitors['date'] = visitors['date'].map(\n",
        "    lambda x: dt.datetime.strptime(x, '%Y-%m-%d')\n",
        ")\n",
        "\n",
        "# Поменяем формат на даты"
      ],
      "execution_count": null,
      "outputs": []
    },
    {
      "cell_type": "code",
      "metadata": {
        "id": "hjOAw_Fdfvf6"
      },
      "source": [
        "orders['revenue'] = orders['revenue'].astype('int32')\n",
        "visitors['visitors'] = visitors['visitors'].astype('int32')"
      ],
      "execution_count": null,
      "outputs": []
    },
    {
      "cell_type": "markdown",
      "metadata": {
        "id": "RfG4z3wufvf6"
      },
      "source": [
        "Проверим базы данных на дубликаты."
      ]
    },
    {
      "cell_type": "code",
      "metadata": {
        "id": "dg7QjyR4fvf6",
        "outputId": "908c66d6-cba0-47f8-83a9-56fbed98241f"
      },
      "source": [
        "orders[orders.duplicated()] "
      ],
      "execution_count": null,
      "outputs": [
        {
          "data": {
            "text/html": [
              "<div>\n",
              "<style scoped>\n",
              "    .dataframe tbody tr th:only-of-type {\n",
              "        vertical-align: middle;\n",
              "    }\n",
              "\n",
              "    .dataframe tbody tr th {\n",
              "        vertical-align: top;\n",
              "    }\n",
              "\n",
              "    .dataframe thead th {\n",
              "        text-align: right;\n",
              "    }\n",
              "</style>\n",
              "<table border=\"1\" class=\"dataframe\">\n",
              "  <thead>\n",
              "    <tr style=\"text-align: right;\">\n",
              "      <th></th>\n",
              "      <th>transactionId</th>\n",
              "      <th>visitorId</th>\n",
              "      <th>date</th>\n",
              "      <th>revenue</th>\n",
              "      <th>group</th>\n",
              "    </tr>\n",
              "  </thead>\n",
              "  <tbody>\n",
              "  </tbody>\n",
              "</table>\n",
              "</div>"
            ],
            "text/plain": [
              "Empty DataFrame\n",
              "Columns: [transactionId, visitorId, date, revenue, group]\n",
              "Index: []"
            ]
          },
          "execution_count": 14,
          "metadata": {},
          "output_type": "execute_result"
        }
      ]
    },
    {
      "cell_type": "code",
      "metadata": {
        "id": "G6vwOWa-fvf7",
        "outputId": "4f8c0004-d829-4013-faa8-e2366685f0b4"
      },
      "source": [
        "visitors[visitors.duplicated()] "
      ],
      "execution_count": null,
      "outputs": [
        {
          "data": {
            "text/html": [
              "<div>\n",
              "<style scoped>\n",
              "    .dataframe tbody tr th:only-of-type {\n",
              "        vertical-align: middle;\n",
              "    }\n",
              "\n",
              "    .dataframe tbody tr th {\n",
              "        vertical-align: top;\n",
              "    }\n",
              "\n",
              "    .dataframe thead th {\n",
              "        text-align: right;\n",
              "    }\n",
              "</style>\n",
              "<table border=\"1\" class=\"dataframe\">\n",
              "  <thead>\n",
              "    <tr style=\"text-align: right;\">\n",
              "      <th></th>\n",
              "      <th>date</th>\n",
              "      <th>group</th>\n",
              "      <th>visitors</th>\n",
              "    </tr>\n",
              "  </thead>\n",
              "  <tbody>\n",
              "  </tbody>\n",
              "</table>\n",
              "</div>"
            ],
            "text/plain": [
              "Empty DataFrame\n",
              "Columns: [date, group, visitors]\n",
              "Index: []"
            ]
          },
          "execution_count": 15,
          "metadata": {},
          "output_type": "execute_result"
        }
      ]
    },
    {
      "cell_type": "markdown",
      "metadata": {
        "id": "b_H9UWZsfvf7"
      },
      "source": [
        "**Вывод** Все данные полные, т.е. не содержат пропусков. Названия столбцов упорядочены. Типы данных приведены к верным. Там, где это оправдано сокращена разрядность типов данных. Базы посетителей и покупок не содержат дублирующих записей. "
      ]
    },
    {
      "cell_type": "markdown",
      "metadata": {
        "id": "mPCKz2Dffvf7"
      },
      "source": [
        "## Приоритизация гипотез"
      ]
    },
    {
      "cell_type": "markdown",
      "metadata": {
        "id": "4kYErbYqfvf8"
      },
      "source": [
        "Проведем приоритезацию гипотез методом ICE и RICE:"
      ]
    },
    {
      "cell_type": "code",
      "metadata": {
        "id": "3tPqotftfvf8",
        "outputId": "7ecbaa22-09a9-4152-c456-858862eed9c4"
      },
      "source": [
        "hypothesis['ICE'] = (hypothesis['impact']*hypothesis['confidence'])/hypothesis['efforts']\n",
        "display(hypothesis[['hypothesis', 'ICE']].round().sort_values(by='ICE', ascending=False))"
      ],
      "execution_count": null,
      "outputs": [
        {
          "data": {
            "text/html": [
              "<div>\n",
              "<style scoped>\n",
              "    .dataframe tbody tr th:only-of-type {\n",
              "        vertical-align: middle;\n",
              "    }\n",
              "\n",
              "    .dataframe tbody tr th {\n",
              "        vertical-align: top;\n",
              "    }\n",
              "\n",
              "    .dataframe thead th {\n",
              "        text-align: right;\n",
              "    }\n",
              "</style>\n",
              "<table border=\"1\" class=\"dataframe\">\n",
              "  <thead>\n",
              "    <tr style=\"text-align: right;\">\n",
              "      <th></th>\n",
              "      <th>hypothesis</th>\n",
              "      <th>ICE</th>\n",
              "    </tr>\n",
              "  </thead>\n",
              "  <tbody>\n",
              "    <tr>\n",
              "      <td>8</td>\n",
              "      <td>Запустить акцию, дающую скидку на товар в день рождения</td>\n",
              "      <td>16.0</td>\n",
              "    </tr>\n",
              "    <tr>\n",
              "      <td>0</td>\n",
              "      <td>Добавить два новых канала привлечения трафика, что позволит привлекать на 30% больше пользователей</td>\n",
              "      <td>13.0</td>\n",
              "    </tr>\n",
              "    <tr>\n",
              "      <td>7</td>\n",
              "      <td>Добавить форму подписки на все основные страницы, чтобы собрать базу клиентов для email-рассылок</td>\n",
              "      <td>11.0</td>\n",
              "    </tr>\n",
              "    <tr>\n",
              "      <td>6</td>\n",
              "      <td>Показать на главной странице баннеры с актуальными акциями и распродажами, чтобы увеличить конверсию</td>\n",
              "      <td>8.0</td>\n",
              "    </tr>\n",
              "    <tr>\n",
              "      <td>2</td>\n",
              "      <td>Добавить блоки рекомендаций товаров на сайт интернет магазина, чтобы повысить конверсию и средний чек заказа</td>\n",
              "      <td>7.0</td>\n",
              "    </tr>\n",
              "    <tr>\n",
              "      <td>1</td>\n",
              "      <td>Запустить собственную службу доставки, что сократит срок доставки заказов</td>\n",
              "      <td>2.0</td>\n",
              "    </tr>\n",
              "    <tr>\n",
              "      <td>3</td>\n",
              "      <td>Изменить структура категорий, что увеличит конверсию, т.к. пользователи быстрее найдут нужный товар</td>\n",
              "      <td>1.0</td>\n",
              "    </tr>\n",
              "    <tr>\n",
              "      <td>4</td>\n",
              "      <td>Изменить цвет фона главной страницы, чтобы увеличить вовлеченность пользователей</td>\n",
              "      <td>1.0</td>\n",
              "    </tr>\n",
              "    <tr>\n",
              "      <td>5</td>\n",
              "      <td>Добавить страницу отзывов клиентов о магазине, что позволит увеличить количество заказов</td>\n",
              "      <td>1.0</td>\n",
              "    </tr>\n",
              "  </tbody>\n",
              "</table>\n",
              "</div>"
            ],
            "text/plain": [
              "                                                                                                     hypothesis  \\\n",
              "8                                                       Запустить акцию, дающую скидку на товар в день рождения   \n",
              "0            Добавить два новых канала привлечения трафика, что позволит привлекать на 30% больше пользователей   \n",
              "7              Добавить форму подписки на все основные страницы, чтобы собрать базу клиентов для email-рассылок   \n",
              "6          Показать на главной странице баннеры с актуальными акциями и распродажами, чтобы увеличить конверсию   \n",
              "2  Добавить блоки рекомендаций товаров на сайт интернет магазина, чтобы повысить конверсию и средний чек заказа   \n",
              "1                                     Запустить собственную службу доставки, что сократит срок доставки заказов   \n",
              "3           Изменить структура категорий, что увеличит конверсию, т.к. пользователи быстрее найдут нужный товар   \n",
              "4                              Изменить цвет фона главной страницы, чтобы увеличить вовлеченность пользователей   \n",
              "5                      Добавить страницу отзывов клиентов о магазине, что позволит увеличить количество заказов   \n",
              "\n",
              "    ICE  \n",
              "8  16.0  \n",
              "0  13.0  \n",
              "7  11.0  \n",
              "6   8.0  \n",
              "2   7.0  \n",
              "1   2.0  \n",
              "3   1.0  \n",
              "4   1.0  \n",
              "5   1.0  "
            ]
          },
          "metadata": {},
          "output_type": "display_data"
        }
      ]
    },
    {
      "cell_type": "code",
      "metadata": {
        "id": "qjF4l727fvf8",
        "outputId": "33390d86-3c1b-4d13-fb2d-923464f8c6c1"
      },
      "source": [
        "hypothesis['RICE'] = (hypothesis['reach']*hypothesis['impact']*hypothesis['confidence']) / hypothesis['efforts']\n",
        "\n",
        "display(hypothesis[['hypothesis', 'RICE']].round().sort_values(by='RICE', ascending=False))"
      ],
      "execution_count": null,
      "outputs": [
        {
          "data": {
            "text/html": [
              "<div>\n",
              "<style scoped>\n",
              "    .dataframe tbody tr th:only-of-type {\n",
              "        vertical-align: middle;\n",
              "    }\n",
              "\n",
              "    .dataframe tbody tr th {\n",
              "        vertical-align: top;\n",
              "    }\n",
              "\n",
              "    .dataframe thead th {\n",
              "        text-align: right;\n",
              "    }\n",
              "</style>\n",
              "<table border=\"1\" class=\"dataframe\">\n",
              "  <thead>\n",
              "    <tr style=\"text-align: right;\">\n",
              "      <th></th>\n",
              "      <th>hypothesis</th>\n",
              "      <th>RICE</th>\n",
              "    </tr>\n",
              "  </thead>\n",
              "  <tbody>\n",
              "    <tr>\n",
              "      <td>7</td>\n",
              "      <td>Добавить форму подписки на все основные страницы, чтобы собрать базу клиентов для email-рассылок</td>\n",
              "      <td>112.0</td>\n",
              "    </tr>\n",
              "    <tr>\n",
              "      <td>2</td>\n",
              "      <td>Добавить блоки рекомендаций товаров на сайт интернет магазина, чтобы повысить конверсию и средний чек заказа</td>\n",
              "      <td>56.0</td>\n",
              "    </tr>\n",
              "    <tr>\n",
              "      <td>0</td>\n",
              "      <td>Добавить два новых канала привлечения трафика, что позволит привлекать на 30% больше пользователей</td>\n",
              "      <td>40.0</td>\n",
              "    </tr>\n",
              "    <tr>\n",
              "      <td>6</td>\n",
              "      <td>Показать на главной странице баннеры с актуальными акциями и распродажами, чтобы увеличить конверсию</td>\n",
              "      <td>40.0</td>\n",
              "    </tr>\n",
              "    <tr>\n",
              "      <td>8</td>\n",
              "      <td>Запустить акцию, дающую скидку на товар в день рождения</td>\n",
              "      <td>16.0</td>\n",
              "    </tr>\n",
              "    <tr>\n",
              "      <td>3</td>\n",
              "      <td>Изменить структура категорий, что увеличит конверсию, т.к. пользователи быстрее найдут нужный товар</td>\n",
              "      <td>9.0</td>\n",
              "    </tr>\n",
              "    <tr>\n",
              "      <td>1</td>\n",
              "      <td>Запустить собственную службу доставки, что сократит срок доставки заказов</td>\n",
              "      <td>4.0</td>\n",
              "    </tr>\n",
              "    <tr>\n",
              "      <td>5</td>\n",
              "      <td>Добавить страницу отзывов клиентов о магазине, что позволит увеличить количество заказов</td>\n",
              "      <td>4.0</td>\n",
              "    </tr>\n",
              "    <tr>\n",
              "      <td>4</td>\n",
              "      <td>Изменить цвет фона главной страницы, чтобы увеличить вовлеченность пользователей</td>\n",
              "      <td>3.0</td>\n",
              "    </tr>\n",
              "  </tbody>\n",
              "</table>\n",
              "</div>"
            ],
            "text/plain": [
              "                                                                                                     hypothesis  \\\n",
              "7              Добавить форму подписки на все основные страницы, чтобы собрать базу клиентов для email-рассылок   \n",
              "2  Добавить блоки рекомендаций товаров на сайт интернет магазина, чтобы повысить конверсию и средний чек заказа   \n",
              "0            Добавить два новых канала привлечения трафика, что позволит привлекать на 30% больше пользователей   \n",
              "6          Показать на главной странице баннеры с актуальными акциями и распродажами, чтобы увеличить конверсию   \n",
              "8                                                       Запустить акцию, дающую скидку на товар в день рождения   \n",
              "3           Изменить структура категорий, что увеличит конверсию, т.к. пользователи быстрее найдут нужный товар   \n",
              "1                                     Запустить собственную службу доставки, что сократит срок доставки заказов   \n",
              "5                      Добавить страницу отзывов клиентов о магазине, что позволит увеличить количество заказов   \n",
              "4                              Изменить цвет фона главной страницы, чтобы увеличить вовлеченность пользователей   \n",
              "\n",
              "    RICE  \n",
              "7  112.0  \n",
              "2   56.0  \n",
              "0   40.0  \n",
              "6   40.0  \n",
              "8   16.0  \n",
              "3    9.0  \n",
              "1    4.0  \n",
              "5    4.0  \n",
              "4    3.0  "
            ]
          },
          "metadata": {},
          "output_type": "display_data"
        }
      ]
    },
    {
      "cell_type": "markdown",
      "metadata": {
        "id": "9ZqkKUUcfvf9"
      },
      "source": [
        "По критерию ICE ТОП 5 гипотез это: № 8,0,7,6 и 2. Приоритезация гипотиз в RICE изменилась из-за охвата. В RICE на первом месте гипотеза № 7. Затем - 2,0,6 и 8."
      ]
    },
    {
      "cell_type": "code",
      "metadata": {
        "id": "l7YL2xJefvf9",
        "outputId": "4fd5cd17-7abc-47e9-b171-050210e4c8b6"
      },
      "source": [
        "hypothesis_1 = hypothesis.reset_index()\n",
        "display(hypothesis_1.round())"
      ],
      "execution_count": null,
      "outputs": [
        {
          "data": {
            "text/html": [
              "<div>\n",
              "<style scoped>\n",
              "    .dataframe tbody tr th:only-of-type {\n",
              "        vertical-align: middle;\n",
              "    }\n",
              "\n",
              "    .dataframe tbody tr th {\n",
              "        vertical-align: top;\n",
              "    }\n",
              "\n",
              "    .dataframe thead th {\n",
              "        text-align: right;\n",
              "    }\n",
              "</style>\n",
              "<table border=\"1\" class=\"dataframe\">\n",
              "  <thead>\n",
              "    <tr style=\"text-align: right;\">\n",
              "      <th></th>\n",
              "      <th>index</th>\n",
              "      <th>hypothesis</th>\n",
              "      <th>reach</th>\n",
              "      <th>impact</th>\n",
              "      <th>confidence</th>\n",
              "      <th>efforts</th>\n",
              "      <th>ICE</th>\n",
              "      <th>RICE</th>\n",
              "    </tr>\n",
              "  </thead>\n",
              "  <tbody>\n",
              "    <tr>\n",
              "      <td>0</td>\n",
              "      <td>0</td>\n",
              "      <td>Добавить два новых канала привлечения трафика, что позволит привлекать на 30% больше пользователей</td>\n",
              "      <td>3</td>\n",
              "      <td>10</td>\n",
              "      <td>8</td>\n",
              "      <td>6</td>\n",
              "      <td>13.0</td>\n",
              "      <td>40.0</td>\n",
              "    </tr>\n",
              "    <tr>\n",
              "      <td>1</td>\n",
              "      <td>1</td>\n",
              "      <td>Запустить собственную службу доставки, что сократит срок доставки заказов</td>\n",
              "      <td>2</td>\n",
              "      <td>5</td>\n",
              "      <td>4</td>\n",
              "      <td>10</td>\n",
              "      <td>2.0</td>\n",
              "      <td>4.0</td>\n",
              "    </tr>\n",
              "    <tr>\n",
              "      <td>2</td>\n",
              "      <td>2</td>\n",
              "      <td>Добавить блоки рекомендаций товаров на сайт интернет магазина, чтобы повысить конверсию и средний чек заказа</td>\n",
              "      <td>8</td>\n",
              "      <td>3</td>\n",
              "      <td>7</td>\n",
              "      <td>3</td>\n",
              "      <td>7.0</td>\n",
              "      <td>56.0</td>\n",
              "    </tr>\n",
              "    <tr>\n",
              "      <td>3</td>\n",
              "      <td>3</td>\n",
              "      <td>Изменить структура категорий, что увеличит конверсию, т.к. пользователи быстрее найдут нужный товар</td>\n",
              "      <td>8</td>\n",
              "      <td>3</td>\n",
              "      <td>3</td>\n",
              "      <td>8</td>\n",
              "      <td>1.0</td>\n",
              "      <td>9.0</td>\n",
              "    </tr>\n",
              "    <tr>\n",
              "      <td>4</td>\n",
              "      <td>4</td>\n",
              "      <td>Изменить цвет фона главной страницы, чтобы увеличить вовлеченность пользователей</td>\n",
              "      <td>3</td>\n",
              "      <td>1</td>\n",
              "      <td>1</td>\n",
              "      <td>1</td>\n",
              "      <td>1.0</td>\n",
              "      <td>3.0</td>\n",
              "    </tr>\n",
              "    <tr>\n",
              "      <td>5</td>\n",
              "      <td>5</td>\n",
              "      <td>Добавить страницу отзывов клиентов о магазине, что позволит увеличить количество заказов</td>\n",
              "      <td>3</td>\n",
              "      <td>2</td>\n",
              "      <td>2</td>\n",
              "      <td>3</td>\n",
              "      <td>1.0</td>\n",
              "      <td>4.0</td>\n",
              "    </tr>\n",
              "    <tr>\n",
              "      <td>6</td>\n",
              "      <td>6</td>\n",
              "      <td>Показать на главной странице баннеры с актуальными акциями и распродажами, чтобы увеличить конверсию</td>\n",
              "      <td>5</td>\n",
              "      <td>3</td>\n",
              "      <td>8</td>\n",
              "      <td>3</td>\n",
              "      <td>8.0</td>\n",
              "      <td>40.0</td>\n",
              "    </tr>\n",
              "    <tr>\n",
              "      <td>7</td>\n",
              "      <td>7</td>\n",
              "      <td>Добавить форму подписки на все основные страницы, чтобы собрать базу клиентов для email-рассылок</td>\n",
              "      <td>10</td>\n",
              "      <td>7</td>\n",
              "      <td>8</td>\n",
              "      <td>5</td>\n",
              "      <td>11.0</td>\n",
              "      <td>112.0</td>\n",
              "    </tr>\n",
              "    <tr>\n",
              "      <td>8</td>\n",
              "      <td>8</td>\n",
              "      <td>Запустить акцию, дающую скидку на товар в день рождения</td>\n",
              "      <td>1</td>\n",
              "      <td>9</td>\n",
              "      <td>9</td>\n",
              "      <td>5</td>\n",
              "      <td>16.0</td>\n",
              "      <td>16.0</td>\n",
              "    </tr>\n",
              "  </tbody>\n",
              "</table>\n",
              "</div>"
            ],
            "text/plain": [
              "   index  \\\n",
              "0      0   \n",
              "1      1   \n",
              "2      2   \n",
              "3      3   \n",
              "4      4   \n",
              "5      5   \n",
              "6      6   \n",
              "7      7   \n",
              "8      8   \n",
              "\n",
              "                                                                                                     hypothesis  \\\n",
              "0            Добавить два новых канала привлечения трафика, что позволит привлекать на 30% больше пользователей   \n",
              "1                                     Запустить собственную службу доставки, что сократит срок доставки заказов   \n",
              "2  Добавить блоки рекомендаций товаров на сайт интернет магазина, чтобы повысить конверсию и средний чек заказа   \n",
              "3           Изменить структура категорий, что увеличит конверсию, т.к. пользователи быстрее найдут нужный товар   \n",
              "4                              Изменить цвет фона главной страницы, чтобы увеличить вовлеченность пользователей   \n",
              "5                      Добавить страницу отзывов клиентов о магазине, что позволит увеличить количество заказов   \n",
              "6          Показать на главной странице баннеры с актуальными акциями и распродажами, чтобы увеличить конверсию   \n",
              "7              Добавить форму подписки на все основные страницы, чтобы собрать базу клиентов для email-рассылок   \n",
              "8                                                       Запустить акцию, дающую скидку на товар в день рождения   \n",
              "\n",
              "   reach  impact  confidence  efforts   ICE   RICE  \n",
              "0      3      10           8        6  13.0   40.0  \n",
              "1      2       5           4       10   2.0    4.0  \n",
              "2      8       3           7        3   7.0   56.0  \n",
              "3      8       3           3        8   1.0    9.0  \n",
              "4      3       1           1        1   1.0    3.0  \n",
              "5      3       2           2        3   1.0    4.0  \n",
              "6      5       3           8        3   8.0   40.0  \n",
              "7     10       7           8        5  11.0  112.0  \n",
              "8      1       9           9        5  16.0   16.0  "
            ]
          },
          "metadata": {},
          "output_type": "display_data"
        }
      ]
    },
    {
      "cell_type": "code",
      "metadata": {
        "id": "M9jKdElofvf9",
        "outputId": "a7820cd8-df76-4899-fce8-f711c4229ece"
      },
      "source": [
        "x = hypothesis_1['ICE'].values\n",
        "y = hypothesis_1['RICE'].values\n",
        "types = hypothesis_1.reset_index()['index'].values\n",
        "\n",
        "fig, ax = plt.subplots(figsize=(10,10))\n",
        "ax.scatter(x, y)\n",
        "\n",
        "ax.set_xlabel('ICE', fontsize=14)\n",
        "ax.set_ylabel('RICE', fontsize=14)\n",
        "ax.set_title('ICE и RICE оценки', fontsize=18)\n",
        "\n",
        "for i, txt in enumerate(types):\n",
        "    ax.annotate(txt, (x[i], y[i]), xytext=(10,10), textcoords='offset points')\n",
        "    plt.scatter(x, y, marker='x', color='green')"
      ],
      "execution_count": null,
      "outputs": [
        {
          "data": {
            "image/png": "[encoded data removed]",
            "text/plain": [
              "<Figure size 720x720 with 1 Axes>"
            ]
          },
          "metadata": {
            "needs_background": "light"
          },
          "output_type": "display_data"
        }
      ]
    },
    {
      "cell_type": "markdown",
      "metadata": {
        "id": "ov4g9pe9fvf-"
      },
      "source": [
        "## Анализ A/B-теста"
      ]
    },
    {
      "cell_type": "markdown",
      "metadata": {
        "id": "lnAD13-afvf-"
      },
      "source": [
        "### График кумулятивной выручки по группам"
      ]
    },
    {
      "cell_type": "markdown",
      "metadata": {
        "id": "fk3RFGRcfvf-"
      },
      "source": [
        "Для разбора данных изучим датасет orders. "
      ]
    },
    {
      "cell_type": "code",
      "metadata": {
        "colab": {
          "base_uri": "https://localhost:8080/",
          "height": 110
        },
        "id": "Ylg7EPnufvf-",
        "outputId": "2697596e-35c5-468b-8734-57267eddb69b"
      },
      "source": [
        "df = orders.groupby([\"group\"]).agg({\"revenue\": [\"count\", \"sum\"]}).reset_index()\n",
        "df.columns = [\"group\", \"revenue_count\", \"revenue_sum\"]\n",
        "df[\"average\"] = (df[\"revenue_sum\"] / df[\"revenue_count\"]).round(1)\n",
        "display(df)"
      ],
      "execution_count": 68,
      "outputs": [
        {
          "output_type": "display_data",
          "data": {
            "text/html": [
              "<div>\n",
              "<style scoped>\n",
              "    .dataframe tbody tr th:only-of-type {\n",
              "        vertical-align: middle;\n",
              "    }\n",
              "\n",
              "    .dataframe tbody tr th {\n",
              "        vertical-align: top;\n",
              "    }\n",
              "\n",
              "    .dataframe thead th {\n",
              "        text-align: right;\n",
              "    }\n",
              "</style>\n",
              "<table border=\"1\" class=\"dataframe\">\n",
              "  <thead>\n",
              "    <tr style=\"text-align: right;\">\n",
              "      <th></th>\n",
              "      <th>group</th>\n",
              "      <th>revenue_count</th>\n",
              "      <th>revenue_sum</th>\n",
              "      <th>average</th>\n",
              "    </tr>\n",
              "  </thead>\n",
              "  <tbody>\n",
              "    <tr>\n",
              "      <th>0</th>\n",
              "      <td>A</td>\n",
              "      <td>557</td>\n",
              "      <td>4084803</td>\n",
              "      <td>7333.6</td>\n",
              "    </tr>\n",
              "    <tr>\n",
              "      <th>1</th>\n",
              "      <td>B</td>\n",
              "      <td>640</td>\n",
              "      <td>5907760</td>\n",
              "      <td>9230.9</td>\n",
              "    </tr>\n",
              "  </tbody>\n",
              "</table>\n",
              "</div>"
            ],
            "text/plain": [
              "  group  revenue_count  revenue_sum  average\n",
              "0     A            557      4084803   7333.6\n",
              "1     B            640      5907760   9230.9"
            ]
          },
          "metadata": {}
        }
      ]
    },
    {
      "cell_type": "markdown",
      "metadata": {
        "id": "VK2E2aRtfvf-"
      },
      "source": [
        "Чтобы построить графики, нужно собрать кумулятивные данные. Объявим датафрейм cumulativeData со столбцами:\n",
        "- date — дата;\n",
        "- group — группа A/B-теста (A или B);\n",
        "- orders — кумулятивное количество заказов на указанную дату в указанной группе;\n",
        "- buyers — кумулятивное количество пользователей, совершивших хотя бы один заказ, на указанную дату в указанной группе;\n",
        "- revenue — кумулятивная выручка на указанную дату в указанной группе (средний чек);\n",
        "- visitors — кумулятивное количество посетителей интернет-магазина на указанную дату в определённой группе.\n",
        "\n",
        "Создадим массив уникальных пар значений дат и групп теста методом drop_duplicates():"
      ]
    },
    {
      "cell_type": "code",
      "metadata": {
        "id": "3rFzz7Vjfvf-",
        "colab": {
          "base_uri": "https://localhost:8080/",
          "height": 142
        },
        "outputId": "183bc705-6f1f-42e7-b9b0-570ec8b4c7d6"
      },
      "source": [
        "# создаем массив уникальных пар значений дат и групп теста\n",
        "datesGroups = orders[['date','group']].drop_duplicates() \n",
        "display(datesGroups.sample(3))"
      ],
      "execution_count": 69,
      "outputs": [
        {
          "output_type": "display_data",
          "data": {
            "text/html": [
              "<div>\n",
              "<style scoped>\n",
              "    .dataframe tbody tr th:only-of-type {\n",
              "        vertical-align: middle;\n",
              "    }\n",
              "\n",
              "    .dataframe tbody tr th {\n",
              "        vertical-align: top;\n",
              "    }\n",
              "\n",
              "    .dataframe thead th {\n",
              "        text-align: right;\n",
              "    }\n",
              "</style>\n",
              "<table border=\"1\" class=\"dataframe\">\n",
              "  <thead>\n",
              "    <tr style=\"text-align: right;\">\n",
              "      <th></th>\n",
              "      <th>date</th>\n",
              "      <th>group</th>\n",
              "    </tr>\n",
              "  </thead>\n",
              "  <tbody>\n",
              "    <tr>\n",
              "      <th>1149</th>\n",
              "      <td>2019-08-14</td>\n",
              "      <td>B</td>\n",
              "    </tr>\n",
              "    <tr>\n",
              "      <th>698</th>\n",
              "      <td>2019-08-05</td>\n",
              "      <td>A</td>\n",
              "    </tr>\n",
              "    <tr>\n",
              "      <th>540</th>\n",
              "      <td>2019-08-20</td>\n",
              "      <td>A</td>\n",
              "    </tr>\n",
              "  </tbody>\n",
              "</table>\n",
              "</div>"
            ],
            "text/plain": [
              "            date group\n",
              "1149  2019-08-14     B\n",
              "698   2019-08-05     A\n",
              "540   2019-08-20     A"
            ]
          },
          "metadata": {}
        }
      ]
    },
    {
      "cell_type": "code",
      "metadata": {
        "id": "tkEXx891fvf-"
      },
      "source": [
        "ordersAggregated = datesGroups.apply(\n",
        "    lambda x: orders[\n",
        "        np.logical_and(orders[\"date\"] <= x[\"date\"], orders[\"group\"] == x[\"group\"])\n",
        "    ].agg(\n",
        "        {\n",
        "            \"date\": \"max\",\n",
        "            \"group\": \"max\",\n",
        "            \"transactionId\": pd.Series.nunique,\n",
        "            \"visitorId\": pd.Series.nunique,\n",
        "            \"revenue\": \"sum\",\n",
        "        }\n",
        "    ),\n",
        "    axis=1,\n",
        ").sort_values(by=[\"date\", \"group\"])"
      ],
      "execution_count": 70,
      "outputs": []
    },
    {
      "cell_type": "code",
      "metadata": {
        "id": "TsVNpypAfvf_"
      },
      "source": [
        "visitorsAggregated = datesGroups.apply(\n",
        "    lambda x: visitors[\n",
        "        np.logical_and(visitors[\"date\"] <= x[\"date\"], visitors[\"group\"] == x[\"group\"])\n",
        "    ].agg({\"date\": \"max\", \"group\": \"max\", \"visitors\": \"sum\"}),\n",
        "    axis=1,\n",
        ").sort_values(by=[\"date\", \"group\"])"
      ],
      "execution_count": 71,
      "outputs": []
    },
    {
      "cell_type": "code",
      "metadata": {
        "id": "maaPLLQCfvf_",
        "colab": {
          "base_uri": "https://localhost:8080/",
          "height": 203
        },
        "outputId": "0a2c1b76-54ce-4c4b-b4b9-5c033d5ea1ad"
      },
      "source": [
        "# объединяем кумулятивные данные в одной таблице и присваиваем ее столбцам понятные названия\n",
        "cumulativeData = ordersAggregated.merge(\n",
        "    visitorsAggregated, left_on=[\"date\", \"group\"], right_on=[\"date\", \"group\"]\n",
        ")\n",
        "cumulativeData.columns = [\"date\", \"group\", \"orders\", \"buyers\", \"revenue\", \"visitors\"]\n",
        "\n",
        "display(cumulativeData.head(5))"
      ],
      "execution_count": 72,
      "outputs": [
        {
          "output_type": "display_data",
          "data": {
            "text/html": [
              "<div>\n",
              "<style scoped>\n",
              "    .dataframe tbody tr th:only-of-type {\n",
              "        vertical-align: middle;\n",
              "    }\n",
              "\n",
              "    .dataframe tbody tr th {\n",
              "        vertical-align: top;\n",
              "    }\n",
              "\n",
              "    .dataframe thead th {\n",
              "        text-align: right;\n",
              "    }\n",
              "</style>\n",
              "<table border=\"1\" class=\"dataframe\">\n",
              "  <thead>\n",
              "    <tr style=\"text-align: right;\">\n",
              "      <th></th>\n",
              "      <th>date</th>\n",
              "      <th>group</th>\n",
              "      <th>orders</th>\n",
              "      <th>buyers</th>\n",
              "      <th>revenue</th>\n",
              "      <th>visitors</th>\n",
              "    </tr>\n",
              "  </thead>\n",
              "  <tbody>\n",
              "    <tr>\n",
              "      <th>0</th>\n",
              "      <td>2019-08-01</td>\n",
              "      <td>A</td>\n",
              "      <td>24</td>\n",
              "      <td>20</td>\n",
              "      <td>148579</td>\n",
              "      <td>719</td>\n",
              "    </tr>\n",
              "    <tr>\n",
              "      <th>1</th>\n",
              "      <td>2019-08-01</td>\n",
              "      <td>B</td>\n",
              "      <td>21</td>\n",
              "      <td>20</td>\n",
              "      <td>101217</td>\n",
              "      <td>713</td>\n",
              "    </tr>\n",
              "    <tr>\n",
              "      <th>2</th>\n",
              "      <td>2019-08-02</td>\n",
              "      <td>A</td>\n",
              "      <td>44</td>\n",
              "      <td>38</td>\n",
              "      <td>242401</td>\n",
              "      <td>1338</td>\n",
              "    </tr>\n",
              "    <tr>\n",
              "      <th>3</th>\n",
              "      <td>2019-08-02</td>\n",
              "      <td>B</td>\n",
              "      <td>45</td>\n",
              "      <td>43</td>\n",
              "      <td>266748</td>\n",
              "      <td>1294</td>\n",
              "    </tr>\n",
              "    <tr>\n",
              "      <th>4</th>\n",
              "      <td>2019-08-03</td>\n",
              "      <td>A</td>\n",
              "      <td>68</td>\n",
              "      <td>62</td>\n",
              "      <td>354874</td>\n",
              "      <td>1845</td>\n",
              "    </tr>\n",
              "  </tbody>\n",
              "</table>\n",
              "</div>"
            ],
            "text/plain": [
              "         date group  orders  buyers  revenue  visitors\n",
              "0  2019-08-01     A      24      20   148579       719\n",
              "1  2019-08-01     B      21      20   101217       713\n",
              "2  2019-08-02     A      44      38   242401      1338\n",
              "3  2019-08-02     B      45      43   266748      1294\n",
              "4  2019-08-03     A      68      62   354874      1845"
            ]
          },
          "metadata": {}
        }
      ]
    },
    {
      "cell_type": "code",
      "metadata": {
        "id": "TwIG8Cfafvf_",
        "colab": {
          "base_uri": "https://localhost:8080/",
          "height": 506
        },
        "outputId": "76b75c96-e9c5-413c-dd9a-9e5a2c1b6bf8"
      },
      "source": [
        "# датафрейм с кумулятивным количеством заказов и кумулятивной выручкой по дням в группе А\n",
        "cumulativeRevenueA = cumulativeData[cumulativeData['group']=='A'][['date','revenue', 'orders']]\n",
        "\n",
        "# датафрейм с кумулятивным количеством заказов и кумулятивной выручкой по дням в группе B\n",
        "cumulativeRevenueB = cumulativeData[cumulativeData['group']=='B'][['date','revenue', 'orders']]\n",
        "\n",
        "# Строим график выручки группы А\n",
        "plt.figure(figsize=(16,7))\n",
        "plt.plot(cumulativeRevenueA['date'], cumulativeRevenueA['revenue'], label='A')\n",
        "\n",
        "# Строим график выручки группы B\n",
        "plt.plot(cumulativeRevenueB['date'], cumulativeRevenueB['revenue'], label='B')\n",
        "\n",
        "plt.xticks(rotation=90)\n",
        "plt.title('Кумулятивная выручка по группам А и В, у.е.')\n",
        "plt.xlabel('Дата')\n",
        "plt.ylabel('Выручка, у.е.')\n",
        "\n",
        "plt.legend()\n",
        "plt.show()"
      ],
      "execution_count": 73,
      "outputs": [
        {
          "output_type": "display_data",
          "data": {
            "image/png": "[encoded data removed]",
            "text/plain": [
              "<Figure size 1152x504 with 1 Axes>"
            ]
          },
          "metadata": {
            "needs_background": "light"
          }
        }
      ]
    },
    {
      "cell_type": "markdown",
      "metadata": {
        "id": "zMIGe-mmfvgA"
      },
      "source": [
        "---"
      ]
    },
    {
      "cell_type": "markdown",
      "metadata": {
        "id": "tH4gQlGRfvgA"
      },
      "source": [
        "**Вывод:** Группа В показывает значительно лучшие показатели по коммулятивной величине среднего чека, чем группа А. На графике есть резкий всплеск выручки, что может говорить о выбросах или резком росте числа крупных заказов. "
      ]
    },
    {
      "cell_type": "markdown",
      "metadata": {
        "id": "xYjz7bG3fvgA"
      },
      "source": [
        "### График кумулятивного среднего чека по группам"
      ]
    },
    {
      "cell_type": "code",
      "metadata": {
        "colab": {
          "base_uri": "https://localhost:8080/",
          "height": 506
        },
        "id": "rcvWjgitfvgA",
        "outputId": "e16685da-58ee-426c-aaaa-cc79ca1a3268"
      },
      "source": [
        "plt.figure(figsize=(16,7))\n",
        "plt.plot(cumulativeRevenueA['date'], cumulativeRevenueA['revenue']/cumulativeRevenueA['orders'], label='A')\n",
        "plt.plot(cumulativeRevenueB['date'], cumulativeRevenueB['revenue']/cumulativeRevenueB['orders'], label='B')\n",
        "\n",
        "plt.xticks(rotation=90)\n",
        "plt.title('Кумулятивный средний чек по группам А и В, у.е.')\n",
        "plt.xlabel('Дата')\n",
        "plt.ylabel('Величина среднего чека, у.е.')\n",
        "\n",
        "\n",
        "plt.legend()\n",
        "plt.show()"
      ],
      "execution_count": 74,
      "outputs": [
        {
          "output_type": "display_data",
          "data": {
            "image/png": "[encoded data removed]",
            "text/plain": [
              "<Figure size 1152x504 with 1 Axes>"
            ]
          },
          "metadata": {
            "needs_background": "light"
          }
        }
      ]
    },
    {
      "cell_type": "markdown",
      "metadata": {
        "id": "_S_jeTeSfvgB"
      },
      "source": [
        "**Вывод:** В период с 17 по 21 августа наблюдается резкий скачок величины кумулятивного среднего чека в группе В. Группа А в среднем показывает более слыбый результат в тестировании. "
      ]
    },
    {
      "cell_type": "markdown",
      "metadata": {
        "id": "qMbPtJxGfvgB"
      },
      "source": [
        "### График относительного изменения кумулятивного среднего чека группы B к группе A"
      ]
    },
    {
      "cell_type": "markdown",
      "metadata": {
        "id": "XRjjgOAAfvgB"
      },
      "source": [
        "Построим график относительного различия для среднего чека. Добавим горизонтальную ось методом axhline() "
      ]
    },
    {
      "cell_type": "code",
      "metadata": {
        "id": "YBP_BMAIfvgB",
        "colab": {
          "base_uri": "https://localhost:8080/",
          "height": 506
        },
        "outputId": "80cb337d-16e2-4033-bc14-57b4e595d39e"
      },
      "source": [
        "# собираем данные в одном датафрейме\n",
        "mergedCumulativeRevenue = cumulativeRevenueA.merge(cumulativeRevenueB, \n",
        "    left_on='date', right_on='date', how='left', suffixes=['A', 'B'])\n",
        "\n",
        "# cтроим отношение средних чеков\n",
        "plt.figure(figsize=(16,7))\n",
        "plt.plot(mergedCumulativeRevenue['date'], (mergedCumulativeRevenue['revenueB']\n",
        "    /mergedCumulativeRevenue['ordersB'])/(mergedCumulativeRevenue['revenueA']/mergedCumulativeRevenue['ordersA'])-1)\n",
        "\n",
        "# добавляем ось X\n",
        "plt.axhline(y=0, color='black', linestyle='--')\n",
        "\n",
        "\n",
        "plt.xticks(rotation=90)\n",
        "plt.title('Относительное изменение кумулятивного среднего чека по группам А и В, %')\n",
        "plt.xlabel('Дата')\n",
        "plt.ylabel('Изменение ср.чека, %')\n",
        "\n",
        "\n",
        "plt.show()"
      ],
      "execution_count": 75,
      "outputs": [
        {
          "output_type": "display_data",
          "data": {
            "image/png": "[encoded data removed]",
            "text/plain": [
              "<Figure size 1152x504 with 1 Axes>"
            ]
          },
          "metadata": {
            "needs_background": "light"
          }
        }
      ]
    },
    {
      "cell_type": "markdown",
      "metadata": {
        "id": "9PI-pgM_fvgB"
      },
      "source": [
        "**Вывод:** Наблюдаются резкие скачки графика 01 августа, 05 августа, 13 августа и 20 августа. Далее мы более подробно проанализируем, с чем связано резкое исменение динамики среднего чека. "
      ]
    },
    {
      "cell_type": "markdown",
      "metadata": {
        "id": "PxvHB6SDfvgB"
      },
      "source": [
        "### График кумулятивной конверсии по группам"
      ]
    },
    {
      "cell_type": "code",
      "metadata": {
        "id": "qfJdvn7BfvgB",
        "colab": {
          "base_uri": "https://localhost:8080/",
          "height": 506
        },
        "outputId": "7794e353-8cec-44c2-fe5c-63fb507bcc99"
      },
      "source": [
        "# считаем кумулятивную конверсию\n",
        "cumulativeData['conversion'] = cumulativeData['orders']/cumulativeData['visitors']\n",
        "\n",
        "# отделяем данные по группе A\n",
        "cumulativeDataA = cumulativeData[cumulativeData['group']=='A']\n",
        "\n",
        "# отделяем данные по группе B\n",
        "cumulativeDataB = cumulativeData[cumulativeData['group']=='B']\n",
        "\n",
        "# строим графики\n",
        "plt.figure(figsize=(16,7))\n",
        "plt.plot(cumulativeDataA['date'], cumulativeDataA['conversion'], label='A')\n",
        "plt.plot(cumulativeDataB['date'], cumulativeDataB['conversion'], label='B')\n",
        "plt.legend()\n",
        "\n",
        "# задаем масштаб осей\n",
        "plt.axis([\"2019-08-01\", '2019-08-31', 0.025, 0.04])\n",
        "\n",
        "\n",
        "plt.xticks(rotation=90)\n",
        "plt.title('Кумулятивная конверсия по группам А и В, %')\n",
        "plt.xlabel('Дата')\n",
        "plt.ylabel('Изменение кумулятивной конверсии, %')\n",
        "\n",
        "\n",
        "plt.show()"
      ],
      "execution_count": 76,
      "outputs": [
        {
          "output_type": "display_data",
          "data": {
            "image/png": "[encoded data removed]",
            "text/plain": [
              "<Figure size 1152x504 with 1 Axes>"
            ]
          },
          "metadata": {
            "needs_background": "light"
          }
        }
      ]
    },
    {
      "cell_type": "markdown",
      "metadata": {
        "id": "K79jjSQGfvgC"
      },
      "source": [
        "**Вывод:** Кумулятивная конверсия группы В вырвалась вперёд еще 06 августа, а конверсия группы А в этот же период просела."
      ]
    },
    {
      "cell_type": "markdown",
      "metadata": {
        "id": "lUqRxC59fvgC"
      },
      "source": [
        "### График относительного изменения кумулятивной конверсии группы B к группе A"
      ]
    },
    {
      "cell_type": "code",
      "metadata": {
        "id": "p3twNbmVfvgC",
        "colab": {
          "base_uri": "https://localhost:8080/",
          "height": 506
        },
        "outputId": "8f471231-570d-4c31-a05e-1af9c98b7657"
      },
      "source": [
        "mergedCumulativeConversions = cumulativeDataA[['date','conversion']].merge(cumulativeDataB[['date','conversion']],\n",
        "    left_on='date', right_on='date', how='left', suffixes=['A', 'B'])\n",
        "\n",
        "plt.figure(figsize=(16,7))\n",
        "plt.plot(mergedCumulativeConversions['date'], mergedCumulativeConversions['conversionB']\n",
        "    /mergedCumulativeConversions['conversionA']-1, label=\"Относительный прирост конверсии группы B относительно группы A\")\n",
        "plt.legend()\n",
        "\n",
        "plt.axhline(y=0, color='black', linestyle='--')\n",
        "plt.axhline(y=-0.1, color='grey', linestyle='--')\n",
        "plt.axis([\"2019-08-01\", '2019-08-31', -0.5, 0.5])\n",
        "\n",
        "\n",
        "plt.xticks(rotation=90)\n",
        "plt.title('Относительный прирост конверсии группы B относительно группы A, %')\n",
        "plt.xlabel('Дата')\n",
        "plt.ylabel('Прирост конверсии, %')\n",
        "\n",
        "\n",
        "plt.show()"
      ],
      "execution_count": 77,
      "outputs": [
        {
          "output_type": "display_data",
          "data": {
            "image/png": "[encoded data removed]",
            "text/plain": [
              "<Figure size 1152x504 with 1 Axes>"
            ]
          },
          "metadata": {
            "needs_background": "light"
          }
        }
      ]
    },
    {
      "cell_type": "markdown",
      "metadata": {
        "id": "F5KvK9lWfvgC"
      },
      "source": [
        "**Вывод:** В начале теста группа B проигрывала группе A, затем вырвалась вперёд и заняла лидирующие положении. В целом отношение конверсии скорее уже установилось и группа В лидирует."
      ]
    },
    {
      "cell_type": "markdown",
      "metadata": {
        "id": "qBv-gM4_fvgC"
      },
      "source": [
        "### Точечный график количества заказов по пользователям"
      ]
    },
    {
      "cell_type": "code",
      "metadata": {
        "id": "1mk7GGOxfvgC",
        "colab": {
          "base_uri": "https://localhost:8080/",
          "height": 203
        },
        "outputId": "9ae9921b-c63e-4a78-9105-fa7d2bc6ef4a"
      },
      "source": [
        "ordersByUsers = (\n",
        "    orders.drop(['group', 'revenue', 'date'], axis=1)\n",
        "    .groupby('visitorId', as_index=False)\n",
        "    .agg({'transactionId': pd.Series.nunique})\n",
        ")\n",
        "\n",
        "ordersByUsers.columns = ['userId', 'orders']\n",
        "\n",
        "display(ordersByUsers.sort_values(by='orders', ascending=False).head(5)) "
      ],
      "execution_count": 78,
      "outputs": [
        {
          "output_type": "display_data",
          "data": {
            "text/html": [
              "<div>\n",
              "<style scoped>\n",
              "    .dataframe tbody tr th:only-of-type {\n",
              "        vertical-align: middle;\n",
              "    }\n",
              "\n",
              "    .dataframe tbody tr th {\n",
              "        vertical-align: top;\n",
              "    }\n",
              "\n",
              "    .dataframe thead th {\n",
              "        text-align: right;\n",
              "    }\n",
              "</style>\n",
              "<table border=\"1\" class=\"dataframe\">\n",
              "  <thead>\n",
              "    <tr style=\"text-align: right;\">\n",
              "      <th></th>\n",
              "      <th>userId</th>\n",
              "      <th>orders</th>\n",
              "    </tr>\n",
              "  </thead>\n",
              "  <tbody>\n",
              "    <tr>\n",
              "      <th>1023</th>\n",
              "      <td>4256040402</td>\n",
              "      <td>11</td>\n",
              "    </tr>\n",
              "    <tr>\n",
              "      <th>591</th>\n",
              "      <td>2458001652</td>\n",
              "      <td>11</td>\n",
              "    </tr>\n",
              "    <tr>\n",
              "      <th>569</th>\n",
              "      <td>2378935119</td>\n",
              "      <td>9</td>\n",
              "    </tr>\n",
              "    <tr>\n",
              "      <th>487</th>\n",
              "      <td>2038680547</td>\n",
              "      <td>8</td>\n",
              "    </tr>\n",
              "    <tr>\n",
              "      <th>44</th>\n",
              "      <td>199603092</td>\n",
              "      <td>5</td>\n",
              "    </tr>\n",
              "  </tbody>\n",
              "</table>\n",
              "</div>"
            ],
            "text/plain": [
              "          userId  orders\n",
              "1023  4256040402      11\n",
              "591   2458001652      11\n",
              "569   2378935119       9\n",
              "487   2038680547       8\n",
              "44     199603092       5"
            ]
          },
          "metadata": {}
        }
      ]
    },
    {
      "cell_type": "code",
      "metadata": {
        "id": "cBU2O5uFfvgC",
        "colab": {
          "base_uri": "https://localhost:8080/",
          "height": 350
        },
        "outputId": "0566d6aa-dc46-4c74-c7e6-2cb24ac71521"
      },
      "source": [
        "plt.figure(figsize=(18,5))\n",
        "plt.hist(ordersByUsers['orders']) \n",
        "plt.xlim(0,12)\n",
        "plt.xlabel('Кол-во заказов, шт.')\n",
        "plt.title('Среднее количество заказов всех пользователей, шт.')\n",
        "plt.ylabel('Количество пользователей')\n",
        "plt.show()"
      ],
      "execution_count": 79,
      "outputs": [
        {
          "output_type": "display_data",
          "data": {
            "image/png": "[encoded data removed]",
            "text/plain": [
              "<Figure size 1296x360 with 1 Axes>"
            ]
          },
          "metadata": {
            "needs_background": "light"
          }
        }
      ]
    },
    {
      "cell_type": "markdown",
      "metadata": {
        "id": "GZ36LkwufvgD"
      },
      "source": [
        "Большинство покупателей заказывали только один раз. Однако доля пользователей с 2-3 заказами тоже значительна."
      ]
    },
    {
      "cell_type": "code",
      "metadata": {
        "id": "JRfhW1YpfvgD",
        "colab": {
          "base_uri": "https://localhost:8080/",
          "height": 350
        },
        "outputId": "8b4a63e3-e093-4959-a384-870122ec56a1"
      },
      "source": [
        "plt.figure(figsize=(18,5))\n",
        "x_values = pd.Series(range(0,len(ordersByUsers)))\n",
        "\n",
        "plt.scatter(x_values, ordersByUsers['orders']) \n",
        "#plt.xlim(0,12) #убрала не корректную обрезку\n",
        "\n",
        "\n",
        "plt.xlabel('Кол-во заказов, шт.')\n",
        "plt.title('Среднее количество заказов всех пользователей, шт.')\n",
        "plt.ylabel('Количество')\n",
        "plt.show()"
      ],
      "execution_count": 80,
      "outputs": [
        {
          "output_type": "display_data",
          "data": {
            "image/png": "[encoded data removed]",
            "text/plain": [
              "<Figure size 1296x360 with 1 Axes>"
            ]
          },
          "metadata": {
            "needs_background": "light"
          }
        }
      ]
    },
    {
      "cell_type": "markdown",
      "metadata": {
        "id": "FmCvui7pfvgD"
      },
      "source": [
        "---"
      ]
    },
    {
      "cell_type": "markdown",
      "metadata": {
        "id": "lrlN0OREfvgD"
      },
      "source": [
        "**Вывод:** Выводы подтверждаются: много пользователей с 2-4 заказами. Их точная доля не ясна — непонятно, считать их аномалиями или нет."
      ]
    },
    {
      "cell_type": "markdown",
      "metadata": {
        "id": "FNPC-YPkfvgD"
      },
      "source": [
        "### 95-й и 99-й перцентили количества заказов на пользователя"
      ]
    },
    {
      "cell_type": "code",
      "metadata": {
        "id": "KoGRY-_MfvgE",
        "colab": {
          "base_uri": "https://localhost:8080/"
        },
        "outputId": "645b653c-3fc6-4765-c6d2-9b9a84fb6c8c"
      },
      "source": [
        "print(np.percentile(ordersByUsers['orders'], [95, 99])) "
      ],
      "execution_count": 81,
      "outputs": [
        {
          "output_type": "stream",
          "name": "stdout",
          "text": [
            "[2. 4.]\n"
          ]
        }
      ]
    },
    {
      "cell_type": "markdown",
      "metadata": {
        "id": "dLYh2WztfvgE"
      },
      "source": [
        "**Вывод:** Не более 5% пользователей оформляли больше чем 2 заказа. И 1% пользователей заказывали более 4 раз.\n",
        "Разумно выбрать 2 заказа на одного пользователя за нижнюю границу числа заказов, и отсеять аномальных пользователей по ней. "
      ]
    },
    {
      "cell_type": "markdown",
      "metadata": {
        "id": "QMXklMWHfvgE"
      },
      "source": [
        "### Точечный график стоимостей заказов"
      ]
    },
    {
      "cell_type": "markdown",
      "metadata": {
        "id": "OJDfn_LffvgE"
      },
      "source": [
        "Изучим выручку по пользователям"
      ]
    },
    {
      "cell_type": "code",
      "metadata": {
        "scrolled": true,
        "id": "0wiQ58CMfvgE",
        "colab": {
          "base_uri": "https://localhost:8080/",
          "height": 350
        },
        "outputId": "61ac12eb-4b9e-48d9-edd5-e167dae05b7f"
      },
      "source": [
        "plt.figure(figsize=(18,5))\n",
        "plt.hist(orders['revenue'],bins=300)\n",
        "plt.xlim(0,120000)\n",
        "plt.xlabel('Сумма заказа, у.е.')\n",
        "plt.title('Средняя стоимость заказов всех пользователей, у.е.')\n",
        "plt.ylabel('Количество заказов')\n",
        "plt.show()"
      ],
      "execution_count": 82,
      "outputs": [
        {
          "output_type": "display_data",
          "data": {
            "image/png": "[encoded data removed]",
            "text/plain": [
              "<Figure size 1296x360 with 1 Axes>"
            ]
          },
          "metadata": {
            "needs_background": "light"
          }
        }
      ]
    },
    {
      "cell_type": "markdown",
      "metadata": {
        "id": "kttJmDVefvgE"
      },
      "source": [
        "Большинство заказов для всех групп находится в диапазоне до 21 тыс у.е."
      ]
    },
    {
      "cell_type": "code",
      "metadata": {
        "id": "zxO71vBGfvgE",
        "colab": {
          "base_uri": "https://localhost:8080/",
          "height": 350
        },
        "outputId": "aa5fd9bc-269f-4e77-99f5-a734d080a44f"
      },
      "source": [
        "plt.figure(figsize=(18,5))\n",
        "x_values = pd.Series(range(0,len(orders['revenue'])))\n",
        "plt.scatter(x_values, orders['revenue']) \n",
        "plt.xlabel('Сумма заказа, у.е.')\n",
        "plt.title('Средняя стоимость заказов всех пользователей, у.е.')\n",
        "plt.ylabel('Количество заказов')\n",
        "plt.show()"
      ],
      "execution_count": 83,
      "outputs": [
        {
          "output_type": "display_data",
          "data": {
            "image/png": "[encoded data removed]",
            "text/plain": [
              "<Figure size 1296x360 with 1 Axes>"
            ]
          },
          "metadata": {
            "needs_background": "light"
          }
        }
      ]
    },
    {
      "cell_type": "code",
      "metadata": {
        "id": "cePDKLKhfvgE",
        "colab": {
          "base_uri": "https://localhost:8080/",
          "height": 385
        },
        "outputId": "528dd2b8-3b49-49ec-807f-d9a42f22c489"
      },
      "source": [
        "#plot 1:\n",
        "plt.figure(figsize=(18,5))\n",
        "x_values = pd.Series(range(0,len(orders['revenue'])))\n",
        "\n",
        "plt.subplot(2, 1, 1)\n",
        "plt.scatter(x_values, orders['revenue']) \n",
        "plt.xlabel('Сумма заказа, у.е.')\n",
        "plt.title('Средняя стоимость заказов всех пользователей, у.е.')\n",
        "plt.ylabel('Количество заказов')\n",
        "\n",
        "\n",
        "#plot 2:\n",
        "plt.figure(figsize=(18,5))\n",
        "x_values = pd.Series(range(0,len(orders['revenue'])))\n",
        "\n",
        "plt.subplot(2, 1, 2)\n",
        "plt.scatter(x_values, orders['revenue']) \n",
        "plt.ylim(0,50000)\n",
        "plt.xlabel('Сумма заказа, у.е.')\n",
        "plt.title('Средняя стоимость заказов до 50 тыс. у.е. всех пользователей, у.е.')\n",
        "plt.ylabel('Количество заказов')\n",
        "\n",
        "plt.show()"
      ],
      "execution_count": 84,
      "outputs": [
        {
          "output_type": "display_data",
          "data": {
            "image/png": "[encoded data removed]",
            "text/plain": [
              "<Figure size 1296x360 with 1 Axes>"
            ]
          },
          "metadata": {
            "needs_background": "light"
          }
        },
        {
          "output_type": "display_data",
          "data": {
            "image/png": "[encoded data removed]",
            "text/plain": [
              "<Figure size 1296x360 with 1 Axes>"
            ]
          },
          "metadata": {
            "needs_background": "light"
          }
        }
      ]
    },
    {
      "cell_type": "code",
      "metadata": {
        "id": "GoVN59RbfvgF",
        "colab": {
          "base_uri": "https://localhost:8080/"
        },
        "outputId": "afe66afc-e4d3-4f19-a218-ab9f60df9dc7"
      },
      "source": [
        "orders['revenue'].describe()"
      ],
      "execution_count": 85,
      "outputs": [
        {
          "output_type": "execute_result",
          "data": {
            "text/plain": [
              "count    1.197000e+03\n",
              "mean     8.348006e+03\n",
              "std      3.919113e+04\n",
              "min      5.000000e+01\n",
              "25%      1.220000e+03\n",
              "50%      2.978000e+03\n",
              "75%      8.290000e+03\n",
              "max      1.294500e+06\n",
              "Name: revenue, dtype: float64"
            ]
          },
          "metadata": {},
          "execution_count": 85
        }
      ]
    },
    {
      "cell_type": "markdown",
      "metadata": {
        "id": "qiwRBAJ5fvgF"
      },
      "source": [
        "**Вывод:** У нас есть один заказ на сумму 1,294 млн в группе В, который существенно изменяет картину данных."
      ]
    },
    {
      "cell_type": "markdown",
      "metadata": {
        "id": "R1C57vAVfvgF"
      },
      "source": [
        "### 95-й и 99-й перцентили стоимости заказов"
      ]
    },
    {
      "cell_type": "code",
      "metadata": {
        "id": "uX-ODLGufvgF",
        "colab": {
          "base_uri": "https://localhost:8080/"
        },
        "outputId": "3fe4ca78-652c-48fd-895f-aeee6f65243e"
      },
      "source": [
        "print(np.percentile(orders['revenue'], [95, 99])) "
      ],
      "execution_count": 96,
      "outputs": [
        {
          "output_type": "stream",
          "name": "stdout",
          "text": [
            "[28000.  58233.2]\n"
          ]
        }
      ]
    },
    {
      "cell_type": "markdown",
      "metadata": {
        "id": "hm0S0jFcfvgG"
      },
      "source": [
        "**Вывод:** В представленных данных не более 5% заказов дороже 28 000 у.е. и не более 1% дороже 58 233.2 у.е. Т.о. мы сможем исключить из выборки все заказы дороже 28 000 у.е."
      ]
    },
    {
      "cell_type": "markdown",
      "metadata": {
        "id": "F-2bIjBHfvgH"
      },
      "source": [
        "### Статистическая значимость различий конверсии между группами по «сырым» данным"
      ]
    },
    {
      "cell_type": "markdown",
      "metadata": {
        "id": "hzH4wHJ_fvgH"
      },
      "source": [
        "Посчитаем статистическую значимость различий в конверсии и среднем чеке между группами по «сырым» данным — без удаления аномальных пользователей"
      ]
    },
    {
      "cell_type": "markdown",
      "metadata": {
        "id": "Mn4-PyHYfvgH"
      },
      "source": [
        "Гипотеза:\n",
        "\n",
        "- H0 - конверсия по двум группам характеризуется статистически незначимыми различиями\n",
        "- H1 - конверсия по двум группам характеризуется статистически значимыми различиями\n",
        "\n",
        "Уровень статистической значимости alpha = 0.05"
      ]
    },
    {
      "cell_type": "code",
      "metadata": {
        "id": "sDeYbLUvfvgH",
        "colab": {
          "base_uri": "https://localhost:8080/",
          "height": 307
        },
        "outputId": "834a617c-6051-468d-840b-0a571b79079c"
      },
      "source": [
        "visitorsADaily = visitors[visitors['group'] == 'A'][['date', 'visitors']]\n",
        "visitorsADaily.columns = ['date', 'visitorsPerDateA']\n",
        "\n",
        "visitorsACummulative = visitorsADaily.apply(\n",
        "    lambda x: visitorsADaily[visitorsADaily['date'] <= x['date']].agg(\n",
        "        {'date': 'max', 'visitorsPerDateA': 'sum'}\n",
        "    ),\n",
        "    axis=1,\n",
        ")\n",
        "visitorsACummulative.columns = ['date', 'visitorsCummulativeA']\n",
        "\n",
        "visitorsBDaily = visitors[visitors['group'] == 'B'][['date', 'visitors']]\n",
        "visitorsBDaily.columns = ['date', 'visitorsPerDateB']\n",
        "\n",
        "visitorsBCummulative = visitorsBDaily.apply(\n",
        "    lambda x: visitorsBDaily[visitorsBDaily['date'] <= x['date']].agg(\n",
        "        {'date': 'max', 'visitorsPerDateB': 'sum'}\n",
        "    ),\n",
        "    axis=1,\n",
        ")\n",
        "visitorsBCummulative.columns = ['date', 'visitorsCummulativeB']\n",
        "\n",
        "ordersADaily = (\n",
        "    orders[orders['group'] == 'A'][['date', 'transactionId', 'visitorId', 'revenue']]\n",
        "    .groupby('date', as_index=False)\n",
        "    .agg({'transactionId': pd.Series.nunique, 'revenue': 'sum'})\n",
        ")\n",
        "ordersADaily.columns = ['date', 'ordersPerDateA', 'revenuePerDateA']\n",
        "\n",
        "ordersACummulative = ordersADaily.apply(\n",
        "    lambda x: ordersADaily[ordersADaily['date'] <= x['date']].agg(\n",
        "        {'date': 'max', 'ordersPerDateA': 'sum', 'revenuePerDateA': 'sum'}\n",
        "    ),\n",
        "    axis=1,\n",
        ").sort_values(by=['date'])\n",
        "ordersACummulative.columns = [\n",
        "    'date',\n",
        "    'ordersCummulativeA',\n",
        "    'revenueCummulativeA',\n",
        "]\n",
        "\n",
        "ordersBDaily = (\n",
        "    orders[orders['group'] == 'B'][['date', 'transactionId', 'visitorId', 'revenue']]\n",
        "    .groupby('date', as_index=False)\n",
        "    .agg({'transactionId': pd.Series.nunique, 'revenue': 'sum'})\n",
        ")\n",
        "ordersBDaily.columns = ['date', 'ordersPerDateB', 'revenuePerDateB']\n",
        "\n",
        "ordersBCummulative = ordersBDaily.apply(\n",
        "    lambda x: ordersBDaily[ordersBDaily['date'] <= x['date']].agg(\n",
        "        {'date': 'max', 'ordersPerDateB': 'sum', 'revenuePerDateB': 'sum'}\n",
        "    ),\n",
        "    axis=1,\n",
        ").sort_values(by=['date'])\n",
        "ordersBCummulative.columns = [\n",
        "    'date',\n",
        "    'ordersCummulativeB',\n",
        "    'revenueCummulativeB',\n",
        "]\n",
        "\n",
        "data = (\n",
        "    ordersADaily.merge(\n",
        "        ordersBDaily, left_on='date', right_on='date', how='left'\n",
        "    )\n",
        "    .merge(ordersACummulative, left_on='date', right_on='date', how='left')\n",
        "    .merge(ordersBCummulative, left_on='date', right_on='date', how='left')\n",
        "    .merge(visitorsADaily, left_on='date', right_on='date', how='left')\n",
        "    .merge(visitorsBDaily, left_on='date', right_on='date', how='left')\n",
        "    .merge(visitorsACummulative, left_on='date', right_on='date', how='left')\n",
        "    .merge(visitorsBCummulative, left_on='date', right_on='date', how='left')\n",
        ")\n",
        "\n",
        "display(data.head(5)) "
      ],
      "execution_count": 87,
      "outputs": [
        {
          "output_type": "display_data",
          "data": {
            "text/html": [
              "<div>\n",
              "<style scoped>\n",
              "    .dataframe tbody tr th:only-of-type {\n",
              "        vertical-align: middle;\n",
              "    }\n",
              "\n",
              "    .dataframe tbody tr th {\n",
              "        vertical-align: top;\n",
              "    }\n",
              "\n",
              "    .dataframe thead th {\n",
              "        text-align: right;\n",
              "    }\n",
              "</style>\n",
              "<table border=\"1\" class=\"dataframe\">\n",
              "  <thead>\n",
              "    <tr style=\"text-align: right;\">\n",
              "      <th></th>\n",
              "      <th>date</th>\n",
              "      <th>ordersPerDateA</th>\n",
              "      <th>revenuePerDateA</th>\n",
              "      <th>ordersPerDateB</th>\n",
              "      <th>revenuePerDateB</th>\n",
              "      <th>ordersCummulativeA</th>\n",
              "      <th>revenueCummulativeA</th>\n",
              "      <th>ordersCummulativeB</th>\n",
              "      <th>revenueCummulativeB</th>\n",
              "      <th>visitorsPerDateA</th>\n",
              "      <th>visitorsPerDateB</th>\n",
              "      <th>visitorsCummulativeA</th>\n",
              "      <th>visitorsCummulativeB</th>\n",
              "    </tr>\n",
              "  </thead>\n",
              "  <tbody>\n",
              "    <tr>\n",
              "      <th>0</th>\n",
              "      <td>2019-08-01</td>\n",
              "      <td>24</td>\n",
              "      <td>148579</td>\n",
              "      <td>21</td>\n",
              "      <td>101217</td>\n",
              "      <td>24</td>\n",
              "      <td>148579</td>\n",
              "      <td>21</td>\n",
              "      <td>101217</td>\n",
              "      <td>719</td>\n",
              "      <td>713</td>\n",
              "      <td>719</td>\n",
              "      <td>713</td>\n",
              "    </tr>\n",
              "    <tr>\n",
              "      <th>1</th>\n",
              "      <td>2019-08-02</td>\n",
              "      <td>20</td>\n",
              "      <td>93822</td>\n",
              "      <td>24</td>\n",
              "      <td>165531</td>\n",
              "      <td>44</td>\n",
              "      <td>242401</td>\n",
              "      <td>45</td>\n",
              "      <td>266748</td>\n",
              "      <td>619</td>\n",
              "      <td>581</td>\n",
              "      <td>1338</td>\n",
              "      <td>1294</td>\n",
              "    </tr>\n",
              "    <tr>\n",
              "      <th>2</th>\n",
              "      <td>2019-08-03</td>\n",
              "      <td>24</td>\n",
              "      <td>112473</td>\n",
              "      <td>16</td>\n",
              "      <td>114248</td>\n",
              "      <td>68</td>\n",
              "      <td>354874</td>\n",
              "      <td>61</td>\n",
              "      <td>380996</td>\n",
              "      <td>507</td>\n",
              "      <td>509</td>\n",
              "      <td>1845</td>\n",
              "      <td>1803</td>\n",
              "    </tr>\n",
              "    <tr>\n",
              "      <th>3</th>\n",
              "      <td>2019-08-04</td>\n",
              "      <td>16</td>\n",
              "      <td>70825</td>\n",
              "      <td>17</td>\n",
              "      <td>108571</td>\n",
              "      <td>84</td>\n",
              "      <td>425699</td>\n",
              "      <td>78</td>\n",
              "      <td>489567</td>\n",
              "      <td>717</td>\n",
              "      <td>770</td>\n",
              "      <td>2562</td>\n",
              "      <td>2573</td>\n",
              "    </tr>\n",
              "    <tr>\n",
              "      <th>4</th>\n",
              "      <td>2019-08-05</td>\n",
              "      <td>25</td>\n",
              "      <td>124218</td>\n",
              "      <td>23</td>\n",
              "      <td>92428</td>\n",
              "      <td>109</td>\n",
              "      <td>549917</td>\n",
              "      <td>101</td>\n",
              "      <td>581995</td>\n",
              "      <td>756</td>\n",
              "      <td>707</td>\n",
              "      <td>3318</td>\n",
              "      <td>3280</td>\n",
              "    </tr>\n",
              "  </tbody>\n",
              "</table>\n",
              "</div>"
            ],
            "text/plain": [
              "         date  ordersPerDateA  ...  visitorsCummulativeA  visitorsCummulativeB\n",
              "0  2019-08-01              24  ...                   719                   713\n",
              "1  2019-08-02              20  ...                  1338                  1294\n",
              "2  2019-08-03              24  ...                  1845                  1803\n",
              "3  2019-08-04              16  ...                  2562                  2573\n",
              "4  2019-08-05              25  ...                  3318                  3280\n",
              "\n",
              "[5 rows x 13 columns]"
            ]
          },
          "metadata": {}
        }
      ]
    },
    {
      "cell_type": "markdown",
      "metadata": {
        "id": "CjKxxC-PfvgH"
      },
      "source": [
        "Посчитаем статистическую значимость различия в конверсии между группами.\n",
        "Создадим переменные ordersByUsersA и ordersByUsersB со столбцами ['userId', 'orders']. В них для пользователей, которые заказывали хотя бы 1 раз, укажем число совершённых заказов."
      ]
    },
    {
      "cell_type": "code",
      "metadata": {
        "id": "ulENIil6fvgH"
      },
      "source": [
        "ordersByUsersA = (\n",
        "    orders[orders['group'] == 'A']\n",
        "    .groupby('visitorId', as_index=False)\n",
        "    .agg({'transactionId': pd.Series.nunique})\n",
        ")\n",
        "ordersByUsersA.columns = ['userId', 'orders']\n",
        "\n",
        "ordersByUsersB = (\n",
        "    orders[orders['group'] == 'B']\n",
        "    .groupby('visitorId', as_index=False)\n",
        "    .agg({'transactionId': pd.Series.nunique})\n",
        ")\n",
        "ordersByUsersB.columns = ['userId', 'orders']"
      ],
      "execution_count": 88,
      "outputs": []
    },
    {
      "cell_type": "markdown",
      "metadata": {
        "id": "87wcd7E-fvgH"
      },
      "source": [
        "Объявим переменные sampleA и sampleB, в которых пользователям из разных групп будет соответствовать количество заказов. Тем, кто ничего не заказал, будут соответствовать нули. Это нужно, чтобы подготовить выборки к проверке критерием Манна-Уитни."
      ]
    },
    {
      "cell_type": "code",
      "metadata": {
        "id": "PBvTNgi0fvgI"
      },
      "source": [
        "sampleA = pd.concat([ordersByUsersA['orders'],pd.Series(0, index=np.arange(data['visitorsPerDateA'].sum() - len(ordersByUsersA['orders'])), name='orders')],axis=0)\n",
        "\n",
        "sampleB = pd.concat([ordersByUsersB['orders'],pd.Series(0, index=np.arange(data['visitorsPerDateB'].sum() - len(ordersByUsersB['orders'])), name='orders')],axis=0)"
      ],
      "execution_count": 89,
      "outputs": []
    },
    {
      "cell_type": "markdown",
      "metadata": {
        "id": "7KLTAIeLfvgI"
      },
      "source": [
        "Применим критерий и отформатируем p-value, округлив его до трёх знаков после запятой."
      ]
    },
    {
      "cell_type": "markdown",
      "metadata": {
        "id": "Cd0xviN-fvgI"
      },
      "source": [
        "---"
      ]
    },
    {
      "cell_type": "code",
      "metadata": {
        "id": "bT4gqUfxfvgJ",
        "colab": {
          "base_uri": "https://localhost:8080/"
        },
        "outputId": "96ff93ef-608a-437c-d0ca-bb05ae11a860"
      },
      "source": [
        "sampleA = pd.concat(\n",
        "    [\n",
        "        ordersByUsersA['orders'],\n",
        "        pd.Series(\n",
        "            0,\n",
        "            index=np.arange(\n",
        "                data['visitorsPerDateA'].sum() - len(ordersByUsersA['orders'])\n",
        "            ),\n",
        "            name='orders',\n",
        "        ),\n",
        "    ],\n",
        "    axis=0,\n",
        ")\n",
        "\n",
        "sampleB = pd.concat(\n",
        "    [\n",
        "        ordersByUsersB['orders'],\n",
        "        pd.Series(\n",
        "            0,\n",
        "            index=np.arange(\n",
        "                data['visitorsPerDateB'].sum() - len(ordersByUsersB['orders'])\n",
        "            ),\n",
        "            name='orders',\n",
        "        ),\n",
        "    ],\n",
        "    axis=0,\n",
        ")\n",
        "\n",
        "print('P-value сырых данных по конверсии:', \"{0:.3f}\".format(stats.mannwhitneyu(sampleA, sampleB, alternative = 'two-sided')[1]))\n",
        "print('Относительное отличие группы А к группе B по конверсии:', \"{0:.3f}\".format(sampleB.mean() / sampleA.mean() - 1))"
      ],
      "execution_count": 90,
      "outputs": [
        {
          "output_type": "stream",
          "name": "stdout",
          "text": [
            "P-value сырых данных по конверсии: 0.017\n",
            "Относительное отличие группы А к группе B по конверсии: 0.138\n"
          ]
        }
      ]
    },
    {
      "cell_type": "markdown",
      "metadata": {
        "id": "HF2R0PpAfvgJ"
      },
      "source": [
        "**Вывод:** По «сырым» данным есть различия в конверсии групп A и B.\n",
        "Первое число — p-value = 0.017 меньше 0.05. Значит, нулевую гипотезу о том, что статистически значимых различий в конверсии между группами нет, отвергаем. \n",
        "Однако относительный выйгрыш группы B равен 13,8%."
      ]
    },
    {
      "cell_type": "markdown",
      "metadata": {
        "id": "4z-RJNnefvgJ"
      },
      "source": [
        "### Статистическая значимость различий в среднем чеке заказа между группами по «сырым» данным"
      ]
    },
    {
      "cell_type": "markdown",
      "metadata": {
        "id": "w30z6HXCfvgJ"
      },
      "source": [
        "Чтобы рассчитать статистическую значимость различий в среднем чеке между сегментами, передадим критерию mannwhitneyu() данные о выручке с заказов.\n",
        "А ещё найдём относительные различия в среднем чеке между группами:"
      ]
    },
    {
      "cell_type": "markdown",
      "metadata": {
        "id": "m55-sffofvgJ"
      },
      "source": [
        "Гипотеза:\n",
        "\n",
        "- H0 - средний чек по двум группам характеризуется статистически незначимыми различиями\n",
        "- H1 - средний чек по двум группам характеризуется статистически значимыми различиями\n",
        "\n",
        "Уровень статистической значимости alpha = 0.05"
      ]
    },
    {
      "cell_type": "code",
      "metadata": {
        "id": "TZ5d0ATqfvgJ",
        "colab": {
          "base_uri": "https://localhost:8080/"
        },
        "outputId": "4ae13377-a2e9-48a3-ebb5-342b0b9ee329"
      },
      "source": [
        "print('P-value сырых данных по среднему чеку:','{0:.3f}'.format(stats.mannwhitneyu(orders[orders['group']=='A']['revenue'], orders[orders['group']=='B']['revenue'], alternative = 'two-sided')[1]))\n",
        "print('Относительное отличие группы А к группе B по среднему чеку:','{0:.3f}'.format(orders[orders['group']=='B']['revenue'].mean()/orders[orders['group']=='A']['revenue'].mean()-1))"
      ],
      "execution_count": 91,
      "outputs": [
        {
          "output_type": "stream",
          "name": "stdout",
          "text": [
            "P-value сырых данных по среднему чеку: 0.729\n",
            "Относительное отличие группы А к группе B по среднему чеку: 0.259\n"
          ]
        }
      ]
    },
    {
      "cell_type": "markdown",
      "metadata": {
        "id": "J4YfdMb9fvgJ"
      },
      "source": [
        "**Вывод:** P-value значительно больше 0.05. Значит, причин отвергать нулевую гипотезу и считать, что в среднем чеке есть различия, нет. Впрочем, средний чек группы B значительно выше среднего чека группы A."
      ]
    },
    {
      "cell_type": "markdown",
      "metadata": {
        "id": "SjmnXXOsfvgJ"
      },
      "source": [
        "### Cтатистическая значимость различий в конверсии между группами по «очищенным» данным"
      ]
    },
    {
      "cell_type": "markdown",
      "metadata": {
        "id": "3J63EBnifvgK"
      },
      "source": [
        "Посчитаем статистическую значимость различия конверсии после удаления \"аномальных\" пользователей.\n",
        "Создадим переменные sampleAFiltered и sampleBFiltered, в которых сохраним очищенные данные о заказах — не включая \"аномальных\" пользователей."
      ]
    },
    {
      "cell_type": "markdown",
      "metadata": {
        "id": "8QhAybTCfvgK"
      },
      "source": [
        "Гипотеза:\n",
        "\n",
        "- H0 - конверсия по двум группам характеризуется статистически незначимыми различиями\n",
        "- H1 - конверсия по двум группам характеризуется статистически значимыми различиями\n",
        "\n",
        "Уровень статистической значимости alpha = 0.05"
      ]
    },
    {
      "cell_type": "code",
      "metadata": {
        "id": "aeoiqfnwfvgK"
      },
      "source": [
        "ordersByUsersA = (\n",
        "    orders[orders['group'] == 'A']\n",
        "    .groupby('visitorId', as_index=False)\n",
        "    .agg({'transactionId': pd.Series.nunique})\n",
        ")\n",
        "ordersByUsersA.columns = ['userId', 'orders']\n",
        "\n",
        "ordersByUsersB = (\n",
        "    orders[orders['group'] == 'B']\n",
        "    .groupby('visitorId', as_index=False)\n",
        "    .agg({'transactionId': pd.Series.nunique})\n",
        ")\n",
        "ordersByUsersB.columns = ['userId', 'orders']"
      ],
      "execution_count": 92,
      "outputs": []
    },
    {
      "cell_type": "code",
      "metadata": {
        "id": "OmpYNNDrfvgK",
        "colab": {
          "base_uri": "https://localhost:8080/"
        },
        "outputId": "f5f71d6b-3ce5-4acf-dc5d-2a84b05a4eff"
      },
      "source": [
        "usersWithManyOrders = pd.concat(\n",
        "    [\n",
        "        ordersByUsersA[ordersByUsersA['orders'] > 2]['userId'],\n",
        "        ordersByUsersB[ordersByUsersB['orders'] > 2]['userId'],\n",
        "    ],\n",
        "    axis=0,\n",
        ")\n",
        "usersWithExpensiveOrders = orders[orders['revenue'] > 28000]['visitorId']\n",
        "abnormalUsers = (\n",
        "    pd.concat([usersWithManyOrders, usersWithExpensiveOrders], axis=0)\n",
        "    .drop_duplicates()\n",
        "    .sort_values()\n",
        ")\n",
        "\n",
        "sampleAFiltered = pd.concat(\n",
        "    [\n",
        "        ordersByUsersA[\n",
        "            np.logical_not(ordersByUsersA['userId'].isin(abnormalUsers))\n",
        "        ]['orders'],\n",
        "        pd.Series(\n",
        "            0,\n",
        "            index=np.arange(\n",
        "                data['visitorsPerDateA'].sum() - len(ordersByUsersA['orders'])\n",
        "            ),\n",
        "            name='orders',\n",
        "        ),\n",
        "    ],\n",
        "    axis=0,\n",
        ")\n",
        "\n",
        "sampleBFiltered = pd.concat(\n",
        "    [\n",
        "        ordersByUsersB[\n",
        "            np.logical_not(ordersByUsersB['userId'].isin(abnormalUsers))\n",
        "        ]['orders'],\n",
        "        pd.Series(\n",
        "            0,\n",
        "            index=np.arange(\n",
        "                data['visitorsPerDateB'].sum() - len(ordersByUsersB['orders'])\n",
        "            ),\n",
        "            name='orders',\n",
        "        ),\n",
        "    ],\n",
        "    axis=0,\n",
        ")\n",
        "print('P-value очищенных данных по конверсии:', '{0:.3f}'.format(stats.mannwhitneyu(sampleAFiltered, sampleBFiltered, alternative = 'two-sided')[1]))\n",
        "print('Относительное отличие группы А к группе B по конверсии:', '{0:.3f}'.format(sampleBFiltered.mean()/sampleAFiltered.mean()-1))"
      ],
      "execution_count": 93,
      "outputs": [
        {
          "output_type": "stream",
          "name": "stdout",
          "text": [
            "P-value очищенных данных по конверсии: 0.013\n",
            "Относительное отличие группы А к группе B по конверсии: 0.173\n"
          ]
        }
      ]
    },
    {
      "cell_type": "markdown",
      "metadata": {
        "id": "lsgO2fXTfvgK"
      },
      "source": [
        "**Вывод:** Первое число — p-value = 0.013 меньше 0.05. Значит, нулевую гипотезу о том, что статистически значимых различий в конверсии между группами нет, отвергаем. Относительный выйгрыш группы B равен 17,3%."
      ]
    },
    {
      "cell_type": "code",
      "metadata": {
        "id": "X7TBwgCmfvgK",
        "colab": {
          "base_uri": "https://localhost:8080/"
        },
        "outputId": "5221bfff-8417-42ff-c005-17b822b0be49"
      },
      "source": [
        "print('Количество аномальных пользователей', abnormalUsers.shape, 'человека') "
      ],
      "execution_count": 94,
      "outputs": [
        {
          "output_type": "stream",
          "name": "stdout",
          "text": [
            "Количество аномальных пользователей (74,) человека\n"
          ]
        }
      ]
    },
    {
      "cell_type": "markdown",
      "metadata": {
        "id": "U59T6N0IfvgK"
      },
      "source": [
        "###  Статистическая значимость различий в среднем чеке заказа между группами по «очищенным» данным"
      ]
    },
    {
      "cell_type": "markdown",
      "metadata": {
        "id": "HoLWlQ8YfvgL"
      },
      "source": [
        "Гипотеза:\n",
        "\n",
        "- H0 - средний чек по двум группам характеризуется статистически незначимыми различиями\n",
        "- H1 - средний чек по двум группам характеризуется статистически значимыми различиями\n",
        "\n",
        "Уровень статистической значимости alpha = 0.05"
      ]
    },
    {
      "cell_type": "code",
      "metadata": {
        "id": "394ZVMxOfvgL",
        "colab": {
          "base_uri": "https://localhost:8080/"
        },
        "outputId": "aa2aa940-94d0-4925-a70d-7a81b7b03c45"
      },
      "source": [
        "print('P-value очищенных данных по среднему чеку:',\n",
        "    '{0:.3f}'.format(\n",
        "        stats.mannwhitneyu(\n",
        "            orders[\n",
        "                np.logical_and(\n",
        "                    orders['group'] == 'A',\n",
        "                    np.logical_not(orders['visitorId'].isin(abnormalUsers)),\n",
        "                )\n",
        "            ]['revenue'],\n",
        "            orders[\n",
        "                np.logical_and(\n",
        "                    orders['group'] == 'B',\n",
        "                    np.logical_not(orders['visitorId'].isin(abnormalUsers)),\n",
        "                )\n",
        "            ]['revenue'],\n",
        "         alternative = 'two-sided')[1]\n",
        "    )\n",
        ")\n",
        "\n",
        "print('Относительное отличие группы А к группе B по среднему чеку:',\n",
        "    \"{0:.3f}\".format(\n",
        "        orders[\n",
        "            np.logical_and(\n",
        "                orders['group'] == 'B',\n",
        "                np.logical_not(orders['visitorId'].isin(abnormalUsers)),\n",
        "            )\n",
        "        ]['revenue'].mean()\n",
        "        / orders[\n",
        "            np.logical_and(\n",
        "                orders['group'] == 'A',\n",
        "                np.logical_not(orders['visitorId'].isin(abnormalUsers)),\n",
        "            )\n",
        "        ]['revenue'].mean()\n",
        "        - 1\n",
        "    )\n",
        ")"
      ],
      "execution_count": 95,
      "outputs": [
        {
          "output_type": "stream",
          "name": "stdout",
          "text": [
            "P-value очищенных данных по среднему чеку: 0.738\n",
            "Относительное отличие группы А к группе B по среднему чеку: -0.020\n"
          ]
        }
      ]
    },
    {
      "cell_type": "markdown",
      "metadata": {
        "id": "R9ShiNB_fvgL"
      },
      "source": [
        "**Вывод:** P-value чищенных данных по среднему чеку значительно больше 0.05. Значит, причин отвергать нулевую гипотезу и считать, что в среднем чеке есть различия, нет. Средний чек группы B значительно выше среднего чека группы A."
      ]
    },
    {
      "cell_type": "markdown",
      "metadata": {
        "id": "QV0G285tfvgL"
      },
      "source": [
        "## Вывод"
      ]
    },
    {
      "cell_type": "markdown",
      "metadata": {
        "id": "Tc2xT20wfvgL"
      },
      "source": [
        "Имеющиеся факты:\n",
        "- По конверсии между группами есть статистически значимые различия и по «сырым», и по данным после фильтрации аномалий;\n",
        "- Нет статистически значимого различия по среднему чеку между группами ни по «сырым», ни по данным после фильтрации аномалий;\n",
        "- График различия конверсии между группами сообщает, что результаты группы А хуже группы В и нет значительной тенденции к улучшению.\n",
        "- График различия среднего чека говорит о том, что результаты группы А ухудшаются день ото дня.\n",
        "\n",
        "**Итог исследования:**\n",
        "\n",
        "Исходя из обнаруженных фактов, тест следует остановить и признать его успешным. По конверсии группа В значительно превзошла группу А. Изменения, примененные к группе В нужно распространить на всю аудиторию интернет магазина. \n",
        "\n",
        "Следующий тест, который нужно провести нужно направить на увеличение среднего чека. \n",
        "По приоритезеции гипотез можно внедрить форму подписки на все основные страницы сайта и добавить блоки рекомендаций товаров на сайт."
      ]
    }
  ]
}